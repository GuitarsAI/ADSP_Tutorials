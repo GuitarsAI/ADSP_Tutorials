{
 "cells": [
  {
   "cell_type": "markdown",
   "metadata": {
    "slideshow": {
     "slide_type": "slide"
    }
   },
   "source": [
    "<center>\n",
    "    <img src=\"./images/adsp_logo.png\">\n",
    "</center>\n",
    "\n",
    "### Prof. Dr. -Ing. Gerald Schuller <br> Jupyter Notebook: Renato Profeta\n"
   ]
  },
  {
   "cell_type": "markdown",
   "metadata": {
    "slideshow": {
     "slide_type": "-"
    }
   },
   "source": [
    "# Filters"
   ]
  },
  {
   "cell_type": "code",
   "execution_count": 1,
   "metadata": {
    "hide_input": true
   },
   "outputs": [
    {
     "data": {
      "text/html": [
       "<iframe width=\"560\" height=\"315\" src=\"https://www.youtube.com/embed/5nw86XtKvyc\" frameborder=\"0\" allow=\"accelerometer; encrypted-media; gyroscope; picture-in-picture\" allowfullscreen></iframe>\n"
      ],
      "text/plain": [
       "<IPython.core.display.HTML object>"
      ]
     },
     "metadata": {},
     "output_type": "display_data"
    }
   ],
   "source": [
    "%%html\n",
    "<iframe width=\"560\" height=\"315\" src=\"https://www.youtube.com/embed/5nw86XtKvyc\" frameborder=\"0\" allow=\"accelerometer; encrypted-media; gyroscope; picture-in-picture\" allowfullscreen></iframe>"
   ]
  },
  {
   "cell_type": "markdown",
   "metadata": {
    "slideshow": {
     "slide_type": "-"
    }
   },
   "source": [
    "Filters are linear, time-invariant systems. This means they fulfil the following properties:\n",
    "\n",
    "If $F(x(n))$ is our filter function of input signal $x(n)$, then we have:\n",
    "\n",
    "**Linearity:** for 2 signals $x_1(n)$ and $x_2(n)$,\n",
    "\n",
    "$$\\large\n",
    "F( x_1(n)+x_2(n) )=F( x_1(n) )+F( x_2(n) )$$\n",
    "\n",
    "With a factor $a$:\n",
    "\n",
    "$$\\large F( a \\cdot x(n) )= a \\cdot F( x(n) )$$\n",
    "\n",
    "which means we can **“draw out” sums and factors out of our function.**\n",
    "\n",
    "**Time-Invariance:** if\n",
    "\n",
    "$$\\large y(n)=F(x(n))$$\n",
    "\n",
    "then we have, for a delay of $n_0$:\n",
    "\n",
    "$$\\large\n",
    "y(n+n_0)=F(x(n+n_0))\n",
    "$$\n",
    "\n",
    "which means our function **stays the same no matter when** we apply it.\n"
   ]
  },
  {
   "cell_type": "markdown",
   "metadata": {
    "slideshow": {
     "slide_type": "slide"
    }
   },
   "source": [
    "## FIR Filters"
   ]
  },
  {
   "cell_type": "code",
   "execution_count": 1,
   "metadata": {
    "hide_input": true
   },
   "outputs": [
    {
     "data": {
      "text/html": [
       "<iframe width=\"560\" height=\"315\" src=\"https://www.youtube.com/embed/BO_Baz1EbXc\" frameborder=\"0\" allow=\"accelerometer; encrypted-media; gyroscope; picture-in-picture\" allowfullscreen></iframe>\n"
      ],
      "text/plain": [
       "<IPython.core.display.HTML object>"
      ]
     },
     "metadata": {},
     "output_type": "display_data"
    }
   ],
   "source": [
    "%%html\n",
    "<iframe width=\"560\" height=\"315\" src=\"https://www.youtube.com/embed/BO_Baz1EbXc\" frameborder=\"0\" allow=\"accelerometer; encrypted-media; gyroscope; picture-in-picture\" allowfullscreen></iframe>"
   ]
  },
  {
   "cell_type": "markdown",
   "metadata": {
    "slideshow": {
     "slide_type": "-"
    }
   },
   "source": [
    "A simple Finite Impulse Response (**FIR**) filter has a difference equation like the following, with x(n) the input of our filter, and y(n) its output:\n",
    "\n",
    "$$\\large\n",
    "y(n)=\\sum _ {m=0}^ L b(m) x(n-m)\n",
    "$$\n",
    "\n",
    "Observe that this is the **convolution** of the signal x(n) with b(n). Here, the b(m) are the coefficients of the filter, or its **impulse response**. These are commonly also referred to as **“taps”**, because this system can be viewed as “tapping” a delay line, as seen in the picture below.\n",
    "\n",
    "This difference equation is also how usually filters are implemented in Matlab or Python and other programming languages. A typical block diagram of an FIR filter is as follows:\n",
    "\n",
    "<center>\n",
    "    <img src=\"./images/fir_filter_diag.PNG\" width=\"500\">\n",
    "</center>\n",
    "<font size=\"2\">      \n",
    "(From: http://en.wikipedia.org/wiki/Finite_impulse_response)\n",
    "</font>\n",
    "\n",
    "Observe that here the blocks with $z^{-1}$ are implemented with a delay by 1 sampling interval, not a multiplication with $z^{-1}$, as we would in the z-domain!\n",
    "\n",
    "After the first delay block $z^{-1}$ we have $x[n-1]$, after the second delay block we have $x[n-2]$, and so on. Each delay block “memorizes” the value from the left for one sample clock cycle, and releases it to the right at the next sample clock cycle.\n",
    "Hence they delay samples by 1 sample clock cycle.\n",
    "\n",
    "The z-transform of our difference equation of our convolution \n",
    "\n",
    "$$\\large \n",
    "y(n)=\\sum _ {m=0} ^L b(m) x(n-m)\n",
    "$$\n",
    "\n",
    " is (using the linearty of the z-Transform):\n",
    " \n",
    "$$\\large\n",
    "Y(z)= \\sum _{m=0} ^ L b(m) \\cdot z^{-m} \\cdot X(z)= X(z) \\cdot \\sum _ {m=0} ^ L b(m) \\cdot z^{-m} \n",
    "$$\n",
    "\n",
    "Now we can compute the **transfer function**, defined as the output divided by the input, \n",
    "\n",
    "$$\\large \n",
    "H(z):= \\frac{Y(z)} {X(z)}=\\sum _ {m=0} ^ L b(m) \\cdot z^{-m}\n",
    "$$\n",
    "\n",
    "**Observe**  that this is the z-transform of the coefficients b(m)! This is the **z-transform of the impulse response** of the FIR filter!"
   ]
  },
  {
   "cell_type": "markdown",
   "metadata": {
    "slideshow": {
     "slide_type": "-"
    }
   },
   "source": [
    "Now we can obtain the **frequency response** (so that we can see which frequencies are attenuated and which are not) from our transfer function of the filter by just replacing $z$ by $e^{j \\Omega}$:\n",
    "\n",
    "$$\\large\n",
    "H(e^{j\\Omega})=\\sum _{m=0} ^L b(m) \\cdot e^{-j\\Omega \\cdot m}\n",
    "$$\n",
    "\n",
    "Since $e^{j\\Omega}$ is a complex number, our frequency response $H$ is also complex. Hence is a complex number for each frequency $\\Omega$. Usually it is plotted as a **magnitude** plot and a **phase** plot over frequency. Its magnitude tells us the attenuation at each frequency, and the phase its phase shift for each frequency. Using those 2 plots or properties, we can also design our filters with desired properties (for instance a stop-band at given frequencies). The Matlab and Python  function to generate a magnitude and phase plot of a transfer function or signal is “freqz”, which we already saw."
   ]
  },
  {
   "cell_type": "markdown",
   "metadata": {
    "slideshow": {
     "slide_type": "-"
    }
   },
   "source": [
    "**Recommended**: https://github.com/GuitarsAI/MRSP_Notebooks - 03 Frequency Response"
   ]
  },
  {
   "cell_type": "code",
   "execution_count": 1,
   "metadata": {
    "hide_input": true
   },
   "outputs": [
    {
     "data": {
      "text/html": [
       "<iframe width=\"560\" height=\"315\" src=\"https://www.youtube.com/embed/7XWrH9IV-EA\" frameborder=\"0\" allow=\"accelerometer; encrypted-media; gyroscope; picture-in-picture\" allowfullscreen></iframe>\n"
      ],
      "text/plain": [
       "<IPython.core.display.HTML object>"
      ]
     },
     "metadata": {},
     "output_type": "display_data"
    }
   ],
   "source": [
    "%%html\n",
    "<iframe width=\"560\" height=\"315\" src=\"https://www.youtube.com/embed/7XWrH9IV-EA\" frameborder=\"0\" allow=\"accelerometer; encrypted-media; gyroscope; picture-in-picture\" allowfullscreen></iframe>"
   ]
  },
  {
   "cell_type": "markdown",
   "metadata": {
    "slideshow": {
     "slide_type": "slide"
    }
   },
   "source": [
    "## IIR Filters"
   ]
  },
  {
   "cell_type": "code",
   "execution_count": 2,
   "metadata": {
    "hide_input": true
   },
   "outputs": [
    {
     "data": {
      "text/html": [
       "<iframe width=\"560\" height=\"315\" src=\"https://www.youtube.com/embed/82aPiJ4gegM\" frameborder=\"0\" allow=\"accelerometer; encrypted-media; gyroscope; picture-in-picture\" allowfullscreen></iframe>\n"
      ],
      "text/plain": [
       "<IPython.core.display.HTML object>"
      ]
     },
     "metadata": {},
     "output_type": "display_data"
    }
   ],
   "source": [
    "%%html\n",
    "<iframe width=\"560\" height=\"315\" src=\"https://www.youtube.com/embed/82aPiJ4gegM\" frameborder=\"0\" allow=\"accelerometer; encrypted-media; gyroscope; picture-in-picture\" allowfullscreen></iframe>"
   ]
  },
  {
   "cell_type": "markdown",
   "metadata": {
    "slideshow": {
     "slide_type": "-"
    }
   },
   "source": [
    "Their difference equation is:\n",
    "\n",
    "$$\\large\n",
    "\\begin{equation}\n",
    "y(n)= \\sum _{m=0} ^L b(m) \\cdot x(n-m)+ \\sum _ {r=1} ^R a(r) \\cdot y(n-r)\n",
    "\\end{equation}$$    \n",
    "\n",
    "(See also: Oppenheim, Schafer: “Discrete Time Signal Processing”, Chapter 6 in Ed. 1989)\n",
    "\n",
    "Here we have **2 convolutions**. Observe the feedback from the output y back to the input in this sum. Also observe that the feedback part starts with a delay of r=1. This is because we want to avoid so-called delayless loops. We cannot use the value y(n) before we computed it! Again, this difference equation is the usual implementation using Matlab or Octave or Python.\n",
    "\n",
    "The following image shows the corresponding block diagram of our filter,\n",
    "\n",
    "<center>\n",
    "    <img src=\"./images/Lecture7-2.PNG\" width=\"500\">\n",
    "</center>\n",
    "\n",
    "\n",
    "Again, here the boxes with $z^{-1}$ symbolize a delay of 1 sampling period, and the triangles symbolize a multiplication with the factor written next to it. \n",
    "\n",
    "\n",
    "We can simplify this structure by combining the summations,<br><br>\n",
    "\n",
    "<center>\n",
    "    <img src=\"./images/Lecture7-3.PNG\" width=\"500\">\n",
    "</center>\n",
    "\n",
    "The z-transform of its difference equation (1) is\n",
    "\n",
    "$$ \\large\n",
    "Y(z)= \\sum _{m=0} ^ L b(m) \\cdot X(z) \\cdot z^{-m} + \\sum _{r=1} a(r) \\cdot Y(z) \\cdot z^{-r}$$\n",
    "\n",
    "**Observe:** **Matlab and Octave** and **Python scipy.signal.lfilter** are defining the coefficients a with **opposite signs** as we and Oppenheim/Schafer are defining. See for instance “help filter” or “help(scipy.signal.lfilter)” in Python."
   ]
  },
  {
   "cell_type": "markdown",
   "metadata": {
    "slideshow": {
     "slide_type": "-"
    }
   },
   "source": [
    "To obtain its transfer function, we first move the Y(z) to one side:\n",
    "\n",
    "$$\\large\n",
    "Y(z)(1-\\sum _ {r=1} ^R a(r) \\cdot z^{-r})= X(z) \\cdot \\sum _{m=0} ^ L b(m) \\cdot  z^{-m} \n",
    "$$\n",
    "\n",
    "Hence the resulting transfer function is\n",
    "\n",
    "$$ \\large\n",
    "H(z)=\\frac{Y(z)}  {X(z)}= \\frac{\\sum _ {m=0} ^L b(m)  \\cdot z^{-m}}{1-\\sum _ {r=1} ^ R a(r) \\cdot z^{-r}}\n",
    "$$\n",
    "\n",
    "\n",
    "**Observe:** With the help of the z-Transform we were able to find a closed form solution for the transfer function, even though we have a feedback loop in our system! This is a **big advantage** for the z-Transform.\n",
    "\n",
    "Here we can see that we obtain a polynomial in the **denominator** of our transfer function, and hence poles. And the filter can potentially become unstable! The zeros of this denominator polynomial become the poles of the transfer function. If these poles are all **inside the unit circle**, we have a **stable filter**! This also shows that we just need to design our coefficients a(n) such that the **poles are inside the unit circle for stabiltity**.\n"
   ]
  },
  {
   "cell_type": "markdown",
   "metadata": {
    "slideshow": {
     "slide_type": "slide"
    }
   },
   "source": [
    "## Combined FIR-IIR Structure used in the Python “lfilter” Function:"
   ]
  },
  {
   "cell_type": "code",
   "execution_count": 3,
   "metadata": {
    "hide_input": true
   },
   "outputs": [
    {
     "data": {
      "text/html": [
       "<iframe width=\"560\" height=\"315\" src=\"https://www.youtube.com/embed/BwFKOX1_uOQ\" frameborder=\"0\" allow=\"accelerometer; encrypted-media; gyroscope; picture-in-picture\" allowfullscreen></iframe>\n"
      ],
      "text/plain": [
       "<IPython.core.display.HTML object>"
      ]
     },
     "metadata": {},
     "output_type": "display_data"
    }
   ],
   "source": [
    "%%html\n",
    "<iframe width=\"560\" height=\"315\" src=\"https://www.youtube.com/embed/BwFKOX1_uOQ\" frameborder=\"0\" allow=\"accelerometer; encrypted-media; gyroscope; picture-in-picture\" allowfullscreen></iframe>"
   ]
  },
  {
   "cell_type": "markdown",
   "metadata": {
    "slideshow": {
     "slide_type": "-"
    }
   },
   "source": [
    "Since a delay is a linear operator, we can shift it after a summation, and hence can combine the delay chain for the FIR and IIR part. This reduces the memory requirement for an implementation, and leads to the following structure,\n",
    "\n",
    "<center>\n",
    "    <br>\n",
    "    <img src=\"./images/diagram.png\" width=\"400\">\n",
    "</center>"
   ]
  },
  {
   "cell_type": "markdown",
   "metadata": {
    "slideshow": {
     "slide_type": "slide"
    }
   },
   "source": [
    "## Filter Example"
   ]
  },
  {
   "cell_type": "code",
   "execution_count": 4,
   "metadata": {
    "hide_input": true
   },
   "outputs": [
    {
     "data": {
      "text/html": [
       "<iframe width=\"560\" height=\"315\" src=\"https://www.youtube.com/embed/KEByT7Y93Jw\" frameborder=\"0\" allow=\"accelerometer; encrypted-media; gyroscope; picture-in-picture\" allowfullscreen></iframe>\n"
      ],
      "text/plain": [
       "<IPython.core.display.HTML object>"
      ]
     },
     "metadata": {},
     "output_type": "display_data"
    }
   ],
   "source": [
    "%%html\n",
    "<iframe width=\"560\" height=\"315\" src=\"https://www.youtube.com/embed/KEByT7Y93Jw\" frameborder=\"0\" allow=\"accelerometer; encrypted-media; gyroscope; picture-in-picture\" allowfullscreen></iframe>"
   ]
  },
  {
   "cell_type": "markdown",
   "metadata": {
    "slideshow": {
     "slide_type": "-"
    }
   },
   "source": [
    "Going back to our simple example of an exponential decaying signal, this shows how to implement it. We just need a system with a pole at position p. In the above equation we obtain it by setting b(0)=1 and a(1)=p. Hence we obtain a simple difference equation\n",
    "\n",
    "$$\\large\n",
    "y(n)=1\\cdot x(n)+p \\cdot y(n-1)$$\n",
    "\n",
    "Here you can see: if x(n) is the unit pulse, the output is the exponential decaying sequence:\n",
    "\n",
    "$$\\large\n",
    "1,p,p^{2},p^{3},...\n",
    "$$\n",
    "\n",
    "which is an infinitely long impulse response. Hence the name IIR.\n",
    "\n",
    "This can also be written in the form of a block diagram:\n",
    "\n",
    "<center>\n",
    "    <br>\n",
    "    <img src=\"./images/diagram2.png\" width=\"400\">\n",
    "</center>\n",
    "\n",
    "(also compare it with the Python implementaion block diagram above, for $b[0]=1$ and $a[1]=p$).<br>\n",
    "In the z-domain this is\n",
    "\n",
    "$$\\large\n",
    "Y(z)=X(z)+p \\cdot z^{-1} \\cdot Y(z)$$\n",
    "\n",
    "\n",
    "$$\\large\n",
    "\\rightarrow H(z)=\\frac{Y(z)}{X(z)}= \\frac{1}  {1-p \\cdot z^{-1}}\n",
    "$$\n",
    "\n",
    "In this structure we can now see the feedback loop. Observe that this is the same as the z-Transform of our exponential series before. This means, when we transform this back to the time domain, we obtain an exponential function, which is the **filters impulse response**, which confirms what we just saw by using an impulse in the time domain for our filter. So the result of the inverse z-Transform of our transfer function is indeed,\n",
    "\n",
    "$$\\large\n",
    "1,p,p^{2},p^{3},...\n",
    "$$."
   ]
  },
  {
   "cell_type": "markdown",
   "metadata": {
    "slideshow": {
     "slide_type": "subslide"
    }
   },
   "source": [
    "### Computing the Resulting Frequency Response"
   ]
  },
  {
   "cell_type": "markdown",
   "metadata": {
    "slideshow": {
     "slide_type": "-"
    }
   },
   "source": [
    "**Example:** The Matlab or Octave or Python function “freqz” (we have a Python freqz function also in Moodle) can be used to plot the magnitude and phase plot of the transfer function of this filter. Its input are directly the coefficients a and b of the transfer function H(z), in the form:  ```freqz(B,A)```, where B and A are vectors containing the coefficients.\n",
    "\n",
    "If we choose a(1)=p=0.9 in our example, we obtain $A=[1,-0.9]$ and $B=[1].$"
   ]
  },
  {
   "cell_type": "code",
   "execution_count": 5,
   "metadata": {
    "hide_input": true
   },
   "outputs": [
    {
     "data": {
      "text/html": [
       "<iframe width=\"560\" height=\"315\" src=\"https://www.youtube.com/embed/43xAxBni44w\" frameborder=\"0\" allow=\"accelerometer; encrypted-media; gyroscope; picture-in-picture\" allowfullscreen></iframe>\n"
      ],
      "text/plain": [
       "<IPython.core.display.HTML object>"
      ]
     },
     "metadata": {},
     "output_type": "display_data"
    }
   ],
   "source": [
    "%%html\n",
    "<iframe width=\"560\" height=\"315\" src=\"https://www.youtube.com/embed/43xAxBni44w\" frameborder=\"0\" allow=\"accelerometer; encrypted-media; gyroscope; picture-in-picture\" allowfullscreen></iframe>"
   ]
  },
  {
   "cell_type": "code",
   "execution_count": 12,
   "metadata": {
    "slideshow": {
     "slide_type": "-"
    }
   },
   "outputs": [],
   "source": [
    "%matplotlib notebook\n",
    "from scipy.signal import freqz\n",
    "import numpy as np\n",
    "import matplotlib.pyplot as plt\n",
    "from matplotlib.ticker import FuncFormatter, MultipleLocator"
   ]
  },
  {
   "cell_type": "code",
   "execution_count": 13,
   "metadata": {
    "slideshow": {
     "slide_type": "-"
    }
   },
   "outputs": [],
   "source": [
    "A=np.array([1,-0.9])\n",
    "B=np.array([1])\n",
    "w, h = freqz(B, A, worN=512, whole=False)"
   ]
  },
  {
   "cell_type": "code",
   "execution_count": 16,
   "metadata": {
    "slideshow": {
     "slide_type": "-"
    }
   },
   "outputs": [
    {
     "data": {
      "application/javascript": [
       "/* Put everything inside the global mpl namespace */\n",
       "window.mpl = {};\n",
       "\n",
       "\n",
       "mpl.get_websocket_type = function() {\n",
       "    if (typeof(WebSocket) !== 'undefined') {\n",
       "        return WebSocket;\n",
       "    } else if (typeof(MozWebSocket) !== 'undefined') {\n",
       "        return MozWebSocket;\n",
       "    } else {\n",
       "        alert('Your browser does not have WebSocket support. ' +\n",
       "              'Please try Chrome, Safari or Firefox ≥ 6. ' +\n",
       "              'Firefox 4 and 5 are also supported but you ' +\n",
       "              'have to enable WebSockets in about:config.');\n",
       "    };\n",
       "}\n",
       "\n",
       "mpl.figure = function(figure_id, websocket, ondownload, parent_element) {\n",
       "    this.id = figure_id;\n",
       "\n",
       "    this.ws = websocket;\n",
       "\n",
       "    this.supports_binary = (this.ws.binaryType != undefined);\n",
       "\n",
       "    if (!this.supports_binary) {\n",
       "        var warnings = document.getElementById(\"mpl-warnings\");\n",
       "        if (warnings) {\n",
       "            warnings.style.display = 'block';\n",
       "            warnings.textContent = (\n",
       "                \"This browser does not support binary websocket messages. \" +\n",
       "                    \"Performance may be slow.\");\n",
       "        }\n",
       "    }\n",
       "\n",
       "    this.imageObj = new Image();\n",
       "\n",
       "    this.context = undefined;\n",
       "    this.message = undefined;\n",
       "    this.canvas = undefined;\n",
       "    this.rubberband_canvas = undefined;\n",
       "    this.rubberband_context = undefined;\n",
       "    this.format_dropdown = undefined;\n",
       "\n",
       "    this.image_mode = 'full';\n",
       "\n",
       "    this.root = $('<div/>');\n",
       "    this._root_extra_style(this.root)\n",
       "    this.root.attr('style', 'display: inline-block');\n",
       "\n",
       "    $(parent_element).append(this.root);\n",
       "\n",
       "    this._init_header(this);\n",
       "    this._init_canvas(this);\n",
       "    this._init_toolbar(this);\n",
       "\n",
       "    var fig = this;\n",
       "\n",
       "    this.waiting = false;\n",
       "\n",
       "    this.ws.onopen =  function () {\n",
       "            fig.send_message(\"supports_binary\", {value: fig.supports_binary});\n",
       "            fig.send_message(\"send_image_mode\", {});\n",
       "            if (mpl.ratio != 1) {\n",
       "                fig.send_message(\"set_dpi_ratio\", {'dpi_ratio': mpl.ratio});\n",
       "            }\n",
       "            fig.send_message(\"refresh\", {});\n",
       "        }\n",
       "\n",
       "    this.imageObj.onload = function() {\n",
       "            if (fig.image_mode == 'full') {\n",
       "                // Full images could contain transparency (where diff images\n",
       "                // almost always do), so we need to clear the canvas so that\n",
       "                // there is no ghosting.\n",
       "                fig.context.clearRect(0, 0, fig.canvas.width, fig.canvas.height);\n",
       "            }\n",
       "            fig.context.drawImage(fig.imageObj, 0, 0);\n",
       "        };\n",
       "\n",
       "    this.imageObj.onunload = function() {\n",
       "        fig.ws.close();\n",
       "    }\n",
       "\n",
       "    this.ws.onmessage = this._make_on_message_function(this);\n",
       "\n",
       "    this.ondownload = ondownload;\n",
       "}\n",
       "\n",
       "mpl.figure.prototype._init_header = function() {\n",
       "    var titlebar = $(\n",
       "        '<div class=\"ui-dialog-titlebar ui-widget-header ui-corner-all ' +\n",
       "        'ui-helper-clearfix\"/>');\n",
       "    var titletext = $(\n",
       "        '<div class=\"ui-dialog-title\" style=\"width: 100%; ' +\n",
       "        'text-align: center; padding: 3px;\"/>');\n",
       "    titlebar.append(titletext)\n",
       "    this.root.append(titlebar);\n",
       "    this.header = titletext[0];\n",
       "}\n",
       "\n",
       "\n",
       "\n",
       "mpl.figure.prototype._canvas_extra_style = function(canvas_div) {\n",
       "\n",
       "}\n",
       "\n",
       "\n",
       "mpl.figure.prototype._root_extra_style = function(canvas_div) {\n",
       "\n",
       "}\n",
       "\n",
       "mpl.figure.prototype._init_canvas = function() {\n",
       "    var fig = this;\n",
       "\n",
       "    var canvas_div = $('<div/>');\n",
       "\n",
       "    canvas_div.attr('style', 'position: relative; clear: both; outline: 0');\n",
       "\n",
       "    function canvas_keyboard_event(event) {\n",
       "        return fig.key_event(event, event['data']);\n",
       "    }\n",
       "\n",
       "    canvas_div.keydown('key_press', canvas_keyboard_event);\n",
       "    canvas_div.keyup('key_release', canvas_keyboard_event);\n",
       "    this.canvas_div = canvas_div\n",
       "    this._canvas_extra_style(canvas_div)\n",
       "    this.root.append(canvas_div);\n",
       "\n",
       "    var canvas = $('<canvas/>');\n",
       "    canvas.addClass('mpl-canvas');\n",
       "    canvas.attr('style', \"left: 0; top: 0; z-index: 0; outline: 0\")\n",
       "\n",
       "    this.canvas = canvas[0];\n",
       "    this.context = canvas[0].getContext(\"2d\");\n",
       "\n",
       "    var backingStore = this.context.backingStorePixelRatio ||\n",
       "\tthis.context.webkitBackingStorePixelRatio ||\n",
       "\tthis.context.mozBackingStorePixelRatio ||\n",
       "\tthis.context.msBackingStorePixelRatio ||\n",
       "\tthis.context.oBackingStorePixelRatio ||\n",
       "\tthis.context.backingStorePixelRatio || 1;\n",
       "\n",
       "    mpl.ratio = (window.devicePixelRatio || 1) / backingStore;\n",
       "\n",
       "    var rubberband = $('<canvas/>');\n",
       "    rubberband.attr('style', \"position: absolute; left: 0; top: 0; z-index: 1;\")\n",
       "\n",
       "    var pass_mouse_events = true;\n",
       "\n",
       "    canvas_div.resizable({\n",
       "        start: function(event, ui) {\n",
       "            pass_mouse_events = false;\n",
       "        },\n",
       "        resize: function(event, ui) {\n",
       "            fig.request_resize(ui.size.width, ui.size.height);\n",
       "        },\n",
       "        stop: function(event, ui) {\n",
       "            pass_mouse_events = true;\n",
       "            fig.request_resize(ui.size.width, ui.size.height);\n",
       "        },\n",
       "    });\n",
       "\n",
       "    function mouse_event_fn(event) {\n",
       "        if (pass_mouse_events)\n",
       "            return fig.mouse_event(event, event['data']);\n",
       "    }\n",
       "\n",
       "    rubberband.mousedown('button_press', mouse_event_fn);\n",
       "    rubberband.mouseup('button_release', mouse_event_fn);\n",
       "    // Throttle sequential mouse events to 1 every 20ms.\n",
       "    rubberband.mousemove('motion_notify', mouse_event_fn);\n",
       "\n",
       "    rubberband.mouseenter('figure_enter', mouse_event_fn);\n",
       "    rubberband.mouseleave('figure_leave', mouse_event_fn);\n",
       "\n",
       "    canvas_div.on(\"wheel\", function (event) {\n",
       "        event = event.originalEvent;\n",
       "        event['data'] = 'scroll'\n",
       "        if (event.deltaY < 0) {\n",
       "            event.step = 1;\n",
       "        } else {\n",
       "            event.step = -1;\n",
       "        }\n",
       "        mouse_event_fn(event);\n",
       "    });\n",
       "\n",
       "    canvas_div.append(canvas);\n",
       "    canvas_div.append(rubberband);\n",
       "\n",
       "    this.rubberband = rubberband;\n",
       "    this.rubberband_canvas = rubberband[0];\n",
       "    this.rubberband_context = rubberband[0].getContext(\"2d\");\n",
       "    this.rubberband_context.strokeStyle = \"#000000\";\n",
       "\n",
       "    this._resize_canvas = function(width, height) {\n",
       "        // Keep the size of the canvas, canvas container, and rubber band\n",
       "        // canvas in synch.\n",
       "        canvas_div.css('width', width)\n",
       "        canvas_div.css('height', height)\n",
       "\n",
       "        canvas.attr('width', width * mpl.ratio);\n",
       "        canvas.attr('height', height * mpl.ratio);\n",
       "        canvas.attr('style', 'width: ' + width + 'px; height: ' + height + 'px;');\n",
       "\n",
       "        rubberband.attr('width', width);\n",
       "        rubberband.attr('height', height);\n",
       "    }\n",
       "\n",
       "    // Set the figure to an initial 600x600px, this will subsequently be updated\n",
       "    // upon first draw.\n",
       "    this._resize_canvas(600, 600);\n",
       "\n",
       "    // Disable right mouse context menu.\n",
       "    $(this.rubberband_canvas).bind(\"contextmenu\",function(e){\n",
       "        return false;\n",
       "    });\n",
       "\n",
       "    function set_focus () {\n",
       "        canvas.focus();\n",
       "        canvas_div.focus();\n",
       "    }\n",
       "\n",
       "    window.setTimeout(set_focus, 100);\n",
       "}\n",
       "\n",
       "mpl.figure.prototype._init_toolbar = function() {\n",
       "    var fig = this;\n",
       "\n",
       "    var nav_element = $('<div/>');\n",
       "    nav_element.attr('style', 'width: 100%');\n",
       "    this.root.append(nav_element);\n",
       "\n",
       "    // Define a callback function for later on.\n",
       "    function toolbar_event(event) {\n",
       "        return fig.toolbar_button_onclick(event['data']);\n",
       "    }\n",
       "    function toolbar_mouse_event(event) {\n",
       "        return fig.toolbar_button_onmouseover(event['data']);\n",
       "    }\n",
       "\n",
       "    for(var toolbar_ind in mpl.toolbar_items) {\n",
       "        var name = mpl.toolbar_items[toolbar_ind][0];\n",
       "        var tooltip = mpl.toolbar_items[toolbar_ind][1];\n",
       "        var image = mpl.toolbar_items[toolbar_ind][2];\n",
       "        var method_name = mpl.toolbar_items[toolbar_ind][3];\n",
       "\n",
       "        if (!name) {\n",
       "            // put a spacer in here.\n",
       "            continue;\n",
       "        }\n",
       "        var button = $('<button/>');\n",
       "        button.addClass('ui-button ui-widget ui-state-default ui-corner-all ' +\n",
       "                        'ui-button-icon-only');\n",
       "        button.attr('role', 'button');\n",
       "        button.attr('aria-disabled', 'false');\n",
       "        button.click(method_name, toolbar_event);\n",
       "        button.mouseover(tooltip, toolbar_mouse_event);\n",
       "\n",
       "        var icon_img = $('<span/>');\n",
       "        icon_img.addClass('ui-button-icon-primary ui-icon');\n",
       "        icon_img.addClass(image);\n",
       "        icon_img.addClass('ui-corner-all');\n",
       "\n",
       "        var tooltip_span = $('<span/>');\n",
       "        tooltip_span.addClass('ui-button-text');\n",
       "        tooltip_span.html(tooltip);\n",
       "\n",
       "        button.append(icon_img);\n",
       "        button.append(tooltip_span);\n",
       "\n",
       "        nav_element.append(button);\n",
       "    }\n",
       "\n",
       "    var fmt_picker_span = $('<span/>');\n",
       "\n",
       "    var fmt_picker = $('<select/>');\n",
       "    fmt_picker.addClass('mpl-toolbar-option ui-widget ui-widget-content');\n",
       "    fmt_picker_span.append(fmt_picker);\n",
       "    nav_element.append(fmt_picker_span);\n",
       "    this.format_dropdown = fmt_picker[0];\n",
       "\n",
       "    for (var ind in mpl.extensions) {\n",
       "        var fmt = mpl.extensions[ind];\n",
       "        var option = $(\n",
       "            '<option/>', {selected: fmt === mpl.default_extension}).html(fmt);\n",
       "        fmt_picker.append(option);\n",
       "    }\n",
       "\n",
       "    // Add hover states to the ui-buttons\n",
       "    $( \".ui-button\" ).hover(\n",
       "        function() { $(this).addClass(\"ui-state-hover\");},\n",
       "        function() { $(this).removeClass(\"ui-state-hover\");}\n",
       "    );\n",
       "\n",
       "    var status_bar = $('<span class=\"mpl-message\"/>');\n",
       "    nav_element.append(status_bar);\n",
       "    this.message = status_bar[0];\n",
       "}\n",
       "\n",
       "mpl.figure.prototype.request_resize = function(x_pixels, y_pixels) {\n",
       "    // Request matplotlib to resize the figure. Matplotlib will then trigger a resize in the client,\n",
       "    // which will in turn request a refresh of the image.\n",
       "    this.send_message('resize', {'width': x_pixels, 'height': y_pixels});\n",
       "}\n",
       "\n",
       "mpl.figure.prototype.send_message = function(type, properties) {\n",
       "    properties['type'] = type;\n",
       "    properties['figure_id'] = this.id;\n",
       "    this.ws.send(JSON.stringify(properties));\n",
       "}\n",
       "\n",
       "mpl.figure.prototype.send_draw_message = function() {\n",
       "    if (!this.waiting) {\n",
       "        this.waiting = true;\n",
       "        this.ws.send(JSON.stringify({type: \"draw\", figure_id: this.id}));\n",
       "    }\n",
       "}\n",
       "\n",
       "\n",
       "mpl.figure.prototype.handle_save = function(fig, msg) {\n",
       "    var format_dropdown = fig.format_dropdown;\n",
       "    var format = format_dropdown.options[format_dropdown.selectedIndex].value;\n",
       "    fig.ondownload(fig, format);\n",
       "}\n",
       "\n",
       "\n",
       "mpl.figure.prototype.handle_resize = function(fig, msg) {\n",
       "    var size = msg['size'];\n",
       "    if (size[0] != fig.canvas.width || size[1] != fig.canvas.height) {\n",
       "        fig._resize_canvas(size[0], size[1]);\n",
       "        fig.send_message(\"refresh\", {});\n",
       "    };\n",
       "}\n",
       "\n",
       "mpl.figure.prototype.handle_rubberband = function(fig, msg) {\n",
       "    var x0 = msg['x0'] / mpl.ratio;\n",
       "    var y0 = (fig.canvas.height - msg['y0']) / mpl.ratio;\n",
       "    var x1 = msg['x1'] / mpl.ratio;\n",
       "    var y1 = (fig.canvas.height - msg['y1']) / mpl.ratio;\n",
       "    x0 = Math.floor(x0) + 0.5;\n",
       "    y0 = Math.floor(y0) + 0.5;\n",
       "    x1 = Math.floor(x1) + 0.5;\n",
       "    y1 = Math.floor(y1) + 0.5;\n",
       "    var min_x = Math.min(x0, x1);\n",
       "    var min_y = Math.min(y0, y1);\n",
       "    var width = Math.abs(x1 - x0);\n",
       "    var height = Math.abs(y1 - y0);\n",
       "\n",
       "    fig.rubberband_context.clearRect(\n",
       "        0, 0, fig.canvas.width / mpl.ratio, fig.canvas.height / mpl.ratio);\n",
       "\n",
       "    fig.rubberband_context.strokeRect(min_x, min_y, width, height);\n",
       "}\n",
       "\n",
       "mpl.figure.prototype.handle_figure_label = function(fig, msg) {\n",
       "    // Updates the figure title.\n",
       "    fig.header.textContent = msg['label'];\n",
       "}\n",
       "\n",
       "mpl.figure.prototype.handle_cursor = function(fig, msg) {\n",
       "    var cursor = msg['cursor'];\n",
       "    switch(cursor)\n",
       "    {\n",
       "    case 0:\n",
       "        cursor = 'pointer';\n",
       "        break;\n",
       "    case 1:\n",
       "        cursor = 'default';\n",
       "        break;\n",
       "    case 2:\n",
       "        cursor = 'crosshair';\n",
       "        break;\n",
       "    case 3:\n",
       "        cursor = 'move';\n",
       "        break;\n",
       "    }\n",
       "    fig.rubberband_canvas.style.cursor = cursor;\n",
       "}\n",
       "\n",
       "mpl.figure.prototype.handle_message = function(fig, msg) {\n",
       "    fig.message.textContent = msg['message'];\n",
       "}\n",
       "\n",
       "mpl.figure.prototype.handle_draw = function(fig, msg) {\n",
       "    // Request the server to send over a new figure.\n",
       "    fig.send_draw_message();\n",
       "}\n",
       "\n",
       "mpl.figure.prototype.handle_image_mode = function(fig, msg) {\n",
       "    fig.image_mode = msg['mode'];\n",
       "}\n",
       "\n",
       "mpl.figure.prototype.updated_canvas_event = function() {\n",
       "    // Called whenever the canvas gets updated.\n",
       "    this.send_message(\"ack\", {});\n",
       "}\n",
       "\n",
       "// A function to construct a web socket function for onmessage handling.\n",
       "// Called in the figure constructor.\n",
       "mpl.figure.prototype._make_on_message_function = function(fig) {\n",
       "    return function socket_on_message(evt) {\n",
       "        if (evt.data instanceof Blob) {\n",
       "            /* FIXME: We get \"Resource interpreted as Image but\n",
       "             * transferred with MIME type text/plain:\" errors on\n",
       "             * Chrome.  But how to set the MIME type?  It doesn't seem\n",
       "             * to be part of the websocket stream */\n",
       "            evt.data.type = \"image/png\";\n",
       "\n",
       "            /* Free the memory for the previous frames */\n",
       "            if (fig.imageObj.src) {\n",
       "                (window.URL || window.webkitURL).revokeObjectURL(\n",
       "                    fig.imageObj.src);\n",
       "            }\n",
       "\n",
       "            fig.imageObj.src = (window.URL || window.webkitURL).createObjectURL(\n",
       "                evt.data);\n",
       "            fig.updated_canvas_event();\n",
       "            fig.waiting = false;\n",
       "            return;\n",
       "        }\n",
       "        else if (typeof evt.data === 'string' && evt.data.slice(0, 21) == \"data:image/png;base64\") {\n",
       "            fig.imageObj.src = evt.data;\n",
       "            fig.updated_canvas_event();\n",
       "            fig.waiting = false;\n",
       "            return;\n",
       "        }\n",
       "\n",
       "        var msg = JSON.parse(evt.data);\n",
       "        var msg_type = msg['type'];\n",
       "\n",
       "        // Call the  \"handle_{type}\" callback, which takes\n",
       "        // the figure and JSON message as its only arguments.\n",
       "        try {\n",
       "            var callback = fig[\"handle_\" + msg_type];\n",
       "        } catch (e) {\n",
       "            console.log(\"No handler for the '\" + msg_type + \"' message type: \", msg);\n",
       "            return;\n",
       "        }\n",
       "\n",
       "        if (callback) {\n",
       "            try {\n",
       "                // console.log(\"Handling '\" + msg_type + \"' message: \", msg);\n",
       "                callback(fig, msg);\n",
       "            } catch (e) {\n",
       "                console.log(\"Exception inside the 'handler_\" + msg_type + \"' callback:\", e, e.stack, msg);\n",
       "            }\n",
       "        }\n",
       "    };\n",
       "}\n",
       "\n",
       "// from http://stackoverflow.com/questions/1114465/getting-mouse-location-in-canvas\n",
       "mpl.findpos = function(e) {\n",
       "    //this section is from http://www.quirksmode.org/js/events_properties.html\n",
       "    var targ;\n",
       "    if (!e)\n",
       "        e = window.event;\n",
       "    if (e.target)\n",
       "        targ = e.target;\n",
       "    else if (e.srcElement)\n",
       "        targ = e.srcElement;\n",
       "    if (targ.nodeType == 3) // defeat Safari bug\n",
       "        targ = targ.parentNode;\n",
       "\n",
       "    // jQuery normalizes the pageX and pageY\n",
       "    // pageX,Y are the mouse positions relative to the document\n",
       "    // offset() returns the position of the element relative to the document\n",
       "    var x = e.pageX - $(targ).offset().left;\n",
       "    var y = e.pageY - $(targ).offset().top;\n",
       "\n",
       "    return {\"x\": x, \"y\": y};\n",
       "};\n",
       "\n",
       "/*\n",
       " * return a copy of an object with only non-object keys\n",
       " * we need this to avoid circular references\n",
       " * http://stackoverflow.com/a/24161582/3208463\n",
       " */\n",
       "function simpleKeys (original) {\n",
       "  return Object.keys(original).reduce(function (obj, key) {\n",
       "    if (typeof original[key] !== 'object')\n",
       "        obj[key] = original[key]\n",
       "    return obj;\n",
       "  }, {});\n",
       "}\n",
       "\n",
       "mpl.figure.prototype.mouse_event = function(event, name) {\n",
       "    var canvas_pos = mpl.findpos(event)\n",
       "\n",
       "    if (name === 'button_press')\n",
       "    {\n",
       "        this.canvas.focus();\n",
       "        this.canvas_div.focus();\n",
       "    }\n",
       "\n",
       "    var x = canvas_pos.x * mpl.ratio;\n",
       "    var y = canvas_pos.y * mpl.ratio;\n",
       "\n",
       "    this.send_message(name, {x: x, y: y, button: event.button,\n",
       "                             step: event.step,\n",
       "                             guiEvent: simpleKeys(event)});\n",
       "\n",
       "    /* This prevents the web browser from automatically changing to\n",
       "     * the text insertion cursor when the button is pressed.  We want\n",
       "     * to control all of the cursor setting manually through the\n",
       "     * 'cursor' event from matplotlib */\n",
       "    event.preventDefault();\n",
       "    return false;\n",
       "}\n",
       "\n",
       "mpl.figure.prototype._key_event_extra = function(event, name) {\n",
       "    // Handle any extra behaviour associated with a key event\n",
       "}\n",
       "\n",
       "mpl.figure.prototype.key_event = function(event, name) {\n",
       "\n",
       "    // Prevent repeat events\n",
       "    if (name == 'key_press')\n",
       "    {\n",
       "        if (event.which === this._key)\n",
       "            return;\n",
       "        else\n",
       "            this._key = event.which;\n",
       "    }\n",
       "    if (name == 'key_release')\n",
       "        this._key = null;\n",
       "\n",
       "    var value = '';\n",
       "    if (event.ctrlKey && event.which != 17)\n",
       "        value += \"ctrl+\";\n",
       "    if (event.altKey && event.which != 18)\n",
       "        value += \"alt+\";\n",
       "    if (event.shiftKey && event.which != 16)\n",
       "        value += \"shift+\";\n",
       "\n",
       "    value += 'k';\n",
       "    value += event.which.toString();\n",
       "\n",
       "    this._key_event_extra(event, name);\n",
       "\n",
       "    this.send_message(name, {key: value,\n",
       "                             guiEvent: simpleKeys(event)});\n",
       "    return false;\n",
       "}\n",
       "\n",
       "mpl.figure.prototype.toolbar_button_onclick = function(name) {\n",
       "    if (name == 'download') {\n",
       "        this.handle_save(this, null);\n",
       "    } else {\n",
       "        this.send_message(\"toolbar_button\", {name: name});\n",
       "    }\n",
       "};\n",
       "\n",
       "mpl.figure.prototype.toolbar_button_onmouseover = function(tooltip) {\n",
       "    this.message.textContent = tooltip;\n",
       "};\n",
       "mpl.toolbar_items = [[\"Home\", \"Reset original view\", \"fa fa-home icon-home\", \"home\"], [\"Back\", \"Back to previous view\", \"fa fa-arrow-left icon-arrow-left\", \"back\"], [\"Forward\", \"Forward to next view\", \"fa fa-arrow-right icon-arrow-right\", \"forward\"], [\"\", \"\", \"\", \"\"], [\"Pan\", \"Pan axes with left mouse, zoom with right\", \"fa fa-arrows icon-move\", \"pan\"], [\"Zoom\", \"Zoom to rectangle\", \"fa fa-square-o icon-check-empty\", \"zoom\"], [\"\", \"\", \"\", \"\"], [\"Download\", \"Download plot\", \"fa fa-floppy-o icon-save\", \"download\"]];\n",
       "\n",
       "mpl.extensions = [\"eps\", \"pdf\", \"png\", \"ps\", \"raw\", \"svg\"];\n",
       "\n",
       "mpl.default_extension = \"png\";var comm_websocket_adapter = function(comm) {\n",
       "    // Create a \"websocket\"-like object which calls the given IPython comm\n",
       "    // object with the appropriate methods. Currently this is a non binary\n",
       "    // socket, so there is still some room for performance tuning.\n",
       "    var ws = {};\n",
       "\n",
       "    ws.close = function() {\n",
       "        comm.close()\n",
       "    };\n",
       "    ws.send = function(m) {\n",
       "        //console.log('sending', m);\n",
       "        comm.send(m);\n",
       "    };\n",
       "    // Register the callback with on_msg.\n",
       "    comm.on_msg(function(msg) {\n",
       "        //console.log('receiving', msg['content']['data'], msg);\n",
       "        // Pass the mpl event to the overridden (by mpl) onmessage function.\n",
       "        ws.onmessage(msg['content']['data'])\n",
       "    });\n",
       "    return ws;\n",
       "}\n",
       "\n",
       "mpl.mpl_figure_comm = function(comm, msg) {\n",
       "    // This is the function which gets called when the mpl process\n",
       "    // starts-up an IPython Comm through the \"matplotlib\" channel.\n",
       "\n",
       "    var id = msg.content.data.id;\n",
       "    // Get hold of the div created by the display call when the Comm\n",
       "    // socket was opened in Python.\n",
       "    var element = $(\"#\" + id);\n",
       "    var ws_proxy = comm_websocket_adapter(comm)\n",
       "\n",
       "    function ondownload(figure, format) {\n",
       "        window.open(figure.imageObj.src);\n",
       "    }\n",
       "\n",
       "    var fig = new mpl.figure(id, ws_proxy,\n",
       "                           ondownload,\n",
       "                           element.get(0));\n",
       "\n",
       "    // Call onopen now - mpl needs it, as it is assuming we've passed it a real\n",
       "    // web socket which is closed, not our websocket->open comm proxy.\n",
       "    ws_proxy.onopen();\n",
       "\n",
       "    fig.parent_element = element.get(0);\n",
       "    fig.cell_info = mpl.find_output_cell(\"<div id='\" + id + \"'></div>\");\n",
       "    if (!fig.cell_info) {\n",
       "        console.error(\"Failed to find cell for figure\", id, fig);\n",
       "        return;\n",
       "    }\n",
       "\n",
       "    var output_index = fig.cell_info[2]\n",
       "    var cell = fig.cell_info[0];\n",
       "\n",
       "};\n",
       "\n",
       "mpl.figure.prototype.handle_close = function(fig, msg) {\n",
       "    var width = fig.canvas.width/mpl.ratio\n",
       "    fig.root.unbind('remove')\n",
       "\n",
       "    // Update the output cell to use the data from the current canvas.\n",
       "    fig.push_to_output();\n",
       "    var dataURL = fig.canvas.toDataURL();\n",
       "    // Re-enable the keyboard manager in IPython - without this line, in FF,\n",
       "    // the notebook keyboard shortcuts fail.\n",
       "    IPython.keyboard_manager.enable()\n",
       "    $(fig.parent_element).html('<img src=\"' + dataURL + '\" width=\"' + width + '\">');\n",
       "    fig.close_ws(fig, msg);\n",
       "}\n",
       "\n",
       "mpl.figure.prototype.close_ws = function(fig, msg){\n",
       "    fig.send_message('closing', msg);\n",
       "    // fig.ws.close()\n",
       "}\n",
       "\n",
       "mpl.figure.prototype.push_to_output = function(remove_interactive) {\n",
       "    // Turn the data on the canvas into data in the output cell.\n",
       "    var width = this.canvas.width/mpl.ratio\n",
       "    var dataURL = this.canvas.toDataURL();\n",
       "    this.cell_info[1]['text/html'] = '<img src=\"' + dataURL + '\" width=\"' + width + '\">';\n",
       "}\n",
       "\n",
       "mpl.figure.prototype.updated_canvas_event = function() {\n",
       "    // Tell IPython that the notebook contents must change.\n",
       "    IPython.notebook.set_dirty(true);\n",
       "    this.send_message(\"ack\", {});\n",
       "    var fig = this;\n",
       "    // Wait a second, then push the new image to the DOM so\n",
       "    // that it is saved nicely (might be nice to debounce this).\n",
       "    setTimeout(function () { fig.push_to_output() }, 1000);\n",
       "}\n",
       "\n",
       "mpl.figure.prototype._init_toolbar = function() {\n",
       "    var fig = this;\n",
       "\n",
       "    var nav_element = $('<div/>');\n",
       "    nav_element.attr('style', 'width: 100%');\n",
       "    this.root.append(nav_element);\n",
       "\n",
       "    // Define a callback function for later on.\n",
       "    function toolbar_event(event) {\n",
       "        return fig.toolbar_button_onclick(event['data']);\n",
       "    }\n",
       "    function toolbar_mouse_event(event) {\n",
       "        return fig.toolbar_button_onmouseover(event['data']);\n",
       "    }\n",
       "\n",
       "    for(var toolbar_ind in mpl.toolbar_items){\n",
       "        var name = mpl.toolbar_items[toolbar_ind][0];\n",
       "        var tooltip = mpl.toolbar_items[toolbar_ind][1];\n",
       "        var image = mpl.toolbar_items[toolbar_ind][2];\n",
       "        var method_name = mpl.toolbar_items[toolbar_ind][3];\n",
       "\n",
       "        if (!name) { continue; };\n",
       "\n",
       "        var button = $('<button class=\"btn btn-default\" href=\"#\" title=\"' + name + '\"><i class=\"fa ' + image + ' fa-lg\"></i></button>');\n",
       "        button.click(method_name, toolbar_event);\n",
       "        button.mouseover(tooltip, toolbar_mouse_event);\n",
       "        nav_element.append(button);\n",
       "    }\n",
       "\n",
       "    // Add the status bar.\n",
       "    var status_bar = $('<span class=\"mpl-message\" style=\"text-align:right; float: right;\"/>');\n",
       "    nav_element.append(status_bar);\n",
       "    this.message = status_bar[0];\n",
       "\n",
       "    // Add the close button to the window.\n",
       "    var buttongrp = $('<div class=\"btn-group inline pull-right\"></div>');\n",
       "    var button = $('<button class=\"btn btn-mini btn-primary\" href=\"#\" title=\"Stop Interaction\"><i class=\"fa fa-power-off icon-remove icon-large\"></i></button>');\n",
       "    button.click(function (evt) { fig.handle_close(fig, {}); } );\n",
       "    button.mouseover('Stop Interaction', toolbar_mouse_event);\n",
       "    buttongrp.append(button);\n",
       "    var titlebar = this.root.find($('.ui-dialog-titlebar'));\n",
       "    titlebar.prepend(buttongrp);\n",
       "}\n",
       "\n",
       "mpl.figure.prototype._root_extra_style = function(el){\n",
       "    var fig = this\n",
       "    el.on(\"remove\", function(){\n",
       "\tfig.close_ws(fig, {});\n",
       "    });\n",
       "}\n",
       "\n",
       "mpl.figure.prototype._canvas_extra_style = function(el){\n",
       "    // this is important to make the div 'focusable\n",
       "    el.attr('tabindex', 0)\n",
       "    // reach out to IPython and tell the keyboard manager to turn it's self\n",
       "    // off when our div gets focus\n",
       "\n",
       "    // location in version 3\n",
       "    if (IPython.notebook.keyboard_manager) {\n",
       "        IPython.notebook.keyboard_manager.register_events(el);\n",
       "    }\n",
       "    else {\n",
       "        // location in version 2\n",
       "        IPython.keyboard_manager.register_events(el);\n",
       "    }\n",
       "\n",
       "}\n",
       "\n",
       "mpl.figure.prototype._key_event_extra = function(event, name) {\n",
       "    var manager = IPython.notebook.keyboard_manager;\n",
       "    if (!manager)\n",
       "        manager = IPython.keyboard_manager;\n",
       "\n",
       "    // Check for shift+enter\n",
       "    if (event.shiftKey && event.which == 13) {\n",
       "        this.canvas_div.blur();\n",
       "        // select the cell after this one\n",
       "        var index = IPython.notebook.find_cell_index(this.cell_info[0]);\n",
       "        IPython.notebook.select(index + 1);\n",
       "    }\n",
       "}\n",
       "\n",
       "mpl.figure.prototype.handle_save = function(fig, msg) {\n",
       "    fig.ondownload(fig, null);\n",
       "}\n",
       "\n",
       "\n",
       "mpl.find_output_cell = function(html_output) {\n",
       "    // Return the cell and output element which can be found *uniquely* in the notebook.\n",
       "    // Note - this is a bit hacky, but it is done because the \"notebook_saving.Notebook\"\n",
       "    // IPython event is triggered only after the cells have been serialised, which for\n",
       "    // our purposes (turning an active figure into a static one), is too late.\n",
       "    var cells = IPython.notebook.get_cells();\n",
       "    var ncells = cells.length;\n",
       "    for (var i=0; i<ncells; i++) {\n",
       "        var cell = cells[i];\n",
       "        if (cell.cell_type === 'code'){\n",
       "            for (var j=0; j<cell.output_area.outputs.length; j++) {\n",
       "                var data = cell.output_area.outputs[j];\n",
       "                if (data.data) {\n",
       "                    // IPython >= 3 moved mimebundle to data attribute of output\n",
       "                    data = data.data;\n",
       "                }\n",
       "                if (data['text/html'] == html_output) {\n",
       "                    return [cell, data, j];\n",
       "                }\n",
       "            }\n",
       "        }\n",
       "    }\n",
       "}\n",
       "\n",
       "// Register the function which deals with the matplotlib target/channel.\n",
       "// The kernel may be null if the page has been refreshed.\n",
       "if (IPython.notebook.kernel != null) {\n",
       "    IPython.notebook.kernel.comm_manager.register_target('matplotlib', mpl.mpl_figure_comm);\n",
       "}\n"
      ],
      "text/plain": [
       "<IPython.core.display.Javascript object>"
      ]
     },
     "metadata": {},
     "output_type": "display_data"
    },
    {
     "data": {
      "text/html": [
       "<img src=\"data:image/png;base64,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\" width=\"640\">"
      ],
      "text/plain": [
       "<IPython.core.display.HTML object>"
      ]
     },
     "metadata": {},
     "output_type": "display_data"
    }
   ],
   "source": [
    "fig = plt.figure()\n",
    "plt.title('Digital filter frequency response')\n",
    "plt.subplot(2,1,1)\n",
    "plt.plot(w, 20 * np.log10(abs(h)), 'b')\n",
    "plt.ylabel('Amplitude (dB)')\n",
    "plt.xlabel('Normalized Frequency')\n",
    "plt.grid()\n",
    "ax = plt.gca()\n",
    "ax.xaxis.set_major_formatter(FuncFormatter(\n",
    "   lambda val,pos: '{:.0g}$\\pi$'.format(val/np.pi) if val !=0 else '0'\n",
    "))\n",
    "ax.xaxis.set_major_locator(MultipleLocator(base=0.5))\n",
    "plt.subplot(2,1,2)\n",
    "angles = np.angle(h)\n",
    "plt.plot(w, angles, 'g')\n",
    "plt.ylabel('Angle (radians)')\n",
    "plt.xlabel('Normalized Frequency')\n",
    "ax = plt.gca()\n",
    "ax.xaxis.set_major_formatter(FuncFormatter(\n",
    "   lambda val,pos: '{:.0g}$\\pi$'.format(val/np.pi) if val !=0 else '0'\n",
    "))\n",
    "ax.xaxis.set_major_locator(MultipleLocator(base=0.5))\n",
    "plt.grid()\n",
    "plt.tight_layout()\n"
   ]
  },
  {
   "cell_type": "markdown",
   "metadata": {
    "slideshow": {
     "slide_type": "-"
    }
   },
   "source": [
    "Observe that the horizontal axis is the normalized frequency (see last lecture), its right hand side is $\\pi$, which is the Nyquist frequency or half the sampling frequency.\n",
    "\n",
    "The frequency response we see here has a low pass characteristic."
   ]
  },
  {
   "cell_type": "markdown",
   "metadata": {
    "slideshow": {
     "slide_type": "-"
    }
   },
   "source": [
    "We can use the command “zplane” (also in Moodle) to plot the location of the zeros and poles in the complex z-plane.\n",
    "For that we first need to calculate the pole an zero positions with Pythons function np.roots."
   ]
  },
  {
   "cell_type": "markdown",
   "metadata": {
    "slideshow": {
     "slide_type": "-"
    }
   },
   "source": [
    "We have\n",
    "$$\\large\n",
    "H(z) = \\dfrac{1}{1-p \\cdot z^{-1}} $$\n",
    "\n",
    "and roots expects as argument the ordered coefficients of our polinomial in $z^-1$ (which makes it compatible with *lfilter*). Hence our pole positions are the `np.roots(a)` and the zeros at `np.roots(b)`."
   ]
  },
  {
   "cell_type": "code",
   "execution_count": 30,
   "metadata": {
    "slideshow": {
     "slide_type": "-"
    }
   },
   "outputs": [],
   "source": [
    "def zplane(B,A):\n",
    "    # Plot Poles and Zeros\n",
    "    from  matplotlib import patches\n",
    "    plt.figure(figsize=(6,4))\n",
    "    ax = plt.subplot(111)\n",
    "    r = 1.5; plt.axis('scaled'); plt.axis([-r, r, -r, r])\n",
    "    #ticks = [-1, 1]; plt.xticks(ticks); plt.yticks(ticks)\n",
    "    # Unit Circle\n",
    "    uc = patches.Circle((0,0), radius=1, fill=False, color='black', ls='dashed')\n",
    "    ax.add_patch(uc)\n",
    "    ax.spines['left'].set_position('center')\n",
    "    ax.spines['bottom'].set_position('center')\n",
    "    ax.spines['right'].set_visible(False)\n",
    "    ax.spines['top'].set_visible(False)\n",
    "    plt.xlabel('Re', horizontalalignment='right', x=1.0)\n",
    "    plt.ylabel('Im',  y=1.0)\n",
    "    plt.title('Complex z-Plane', loc='right')\n",
    "    plt.grid()\n",
    "    plt.plot(np.real(A),np.imag(A),'rx')\n",
    "    plt.plot(np.real(B),np.imag(B),'bo')"
   ]
  },
  {
   "cell_type": "code",
   "execution_count": 31,
   "metadata": {
    "slideshow": {
     "slide_type": "-"
    }
   },
   "outputs": [
    {
     "data": {
      "application/javascript": [
       "/* Put everything inside the global mpl namespace */\n",
       "window.mpl = {};\n",
       "\n",
       "\n",
       "mpl.get_websocket_type = function() {\n",
       "    if (typeof(WebSocket) !== 'undefined') {\n",
       "        return WebSocket;\n",
       "    } else if (typeof(MozWebSocket) !== 'undefined') {\n",
       "        return MozWebSocket;\n",
       "    } else {\n",
       "        alert('Your browser does not have WebSocket support. ' +\n",
       "              'Please try Chrome, Safari or Firefox ≥ 6. ' +\n",
       "              'Firefox 4 and 5 are also supported but you ' +\n",
       "              'have to enable WebSockets in about:config.');\n",
       "    };\n",
       "}\n",
       "\n",
       "mpl.figure = function(figure_id, websocket, ondownload, parent_element) {\n",
       "    this.id = figure_id;\n",
       "\n",
       "    this.ws = websocket;\n",
       "\n",
       "    this.supports_binary = (this.ws.binaryType != undefined);\n",
       "\n",
       "    if (!this.supports_binary) {\n",
       "        var warnings = document.getElementById(\"mpl-warnings\");\n",
       "        if (warnings) {\n",
       "            warnings.style.display = 'block';\n",
       "            warnings.textContent = (\n",
       "                \"This browser does not support binary websocket messages. \" +\n",
       "                    \"Performance may be slow.\");\n",
       "        }\n",
       "    }\n",
       "\n",
       "    this.imageObj = new Image();\n",
       "\n",
       "    this.context = undefined;\n",
       "    this.message = undefined;\n",
       "    this.canvas = undefined;\n",
       "    this.rubberband_canvas = undefined;\n",
       "    this.rubberband_context = undefined;\n",
       "    this.format_dropdown = undefined;\n",
       "\n",
       "    this.image_mode = 'full';\n",
       "\n",
       "    this.root = $('<div/>');\n",
       "    this._root_extra_style(this.root)\n",
       "    this.root.attr('style', 'display: inline-block');\n",
       "\n",
       "    $(parent_element).append(this.root);\n",
       "\n",
       "    this._init_header(this);\n",
       "    this._init_canvas(this);\n",
       "    this._init_toolbar(this);\n",
       "\n",
       "    var fig = this;\n",
       "\n",
       "    this.waiting = false;\n",
       "\n",
       "    this.ws.onopen =  function () {\n",
       "            fig.send_message(\"supports_binary\", {value: fig.supports_binary});\n",
       "            fig.send_message(\"send_image_mode\", {});\n",
       "            if (mpl.ratio != 1) {\n",
       "                fig.send_message(\"set_dpi_ratio\", {'dpi_ratio': mpl.ratio});\n",
       "            }\n",
       "            fig.send_message(\"refresh\", {});\n",
       "        }\n",
       "\n",
       "    this.imageObj.onload = function() {\n",
       "            if (fig.image_mode == 'full') {\n",
       "                // Full images could contain transparency (where diff images\n",
       "                // almost always do), so we need to clear the canvas so that\n",
       "                // there is no ghosting.\n",
       "                fig.context.clearRect(0, 0, fig.canvas.width, fig.canvas.height);\n",
       "            }\n",
       "            fig.context.drawImage(fig.imageObj, 0, 0);\n",
       "        };\n",
       "\n",
       "    this.imageObj.onunload = function() {\n",
       "        fig.ws.close();\n",
       "    }\n",
       "\n",
       "    this.ws.onmessage = this._make_on_message_function(this);\n",
       "\n",
       "    this.ondownload = ondownload;\n",
       "}\n",
       "\n",
       "mpl.figure.prototype._init_header = function() {\n",
       "    var titlebar = $(\n",
       "        '<div class=\"ui-dialog-titlebar ui-widget-header ui-corner-all ' +\n",
       "        'ui-helper-clearfix\"/>');\n",
       "    var titletext = $(\n",
       "        '<div class=\"ui-dialog-title\" style=\"width: 100%; ' +\n",
       "        'text-align: center; padding: 3px;\"/>');\n",
       "    titlebar.append(titletext)\n",
       "    this.root.append(titlebar);\n",
       "    this.header = titletext[0];\n",
       "}\n",
       "\n",
       "\n",
       "\n",
       "mpl.figure.prototype._canvas_extra_style = function(canvas_div) {\n",
       "\n",
       "}\n",
       "\n",
       "\n",
       "mpl.figure.prototype._root_extra_style = function(canvas_div) {\n",
       "\n",
       "}\n",
       "\n",
       "mpl.figure.prototype._init_canvas = function() {\n",
       "    var fig = this;\n",
       "\n",
       "    var canvas_div = $('<div/>');\n",
       "\n",
       "    canvas_div.attr('style', 'position: relative; clear: both; outline: 0');\n",
       "\n",
       "    function canvas_keyboard_event(event) {\n",
       "        return fig.key_event(event, event['data']);\n",
       "    }\n",
       "\n",
       "    canvas_div.keydown('key_press', canvas_keyboard_event);\n",
       "    canvas_div.keyup('key_release', canvas_keyboard_event);\n",
       "    this.canvas_div = canvas_div\n",
       "    this._canvas_extra_style(canvas_div)\n",
       "    this.root.append(canvas_div);\n",
       "\n",
       "    var canvas = $('<canvas/>');\n",
       "    canvas.addClass('mpl-canvas');\n",
       "    canvas.attr('style', \"left: 0; top: 0; z-index: 0; outline: 0\")\n",
       "\n",
       "    this.canvas = canvas[0];\n",
       "    this.context = canvas[0].getContext(\"2d\");\n",
       "\n",
       "    var backingStore = this.context.backingStorePixelRatio ||\n",
       "\tthis.context.webkitBackingStorePixelRatio ||\n",
       "\tthis.context.mozBackingStorePixelRatio ||\n",
       "\tthis.context.msBackingStorePixelRatio ||\n",
       "\tthis.context.oBackingStorePixelRatio ||\n",
       "\tthis.context.backingStorePixelRatio || 1;\n",
       "\n",
       "    mpl.ratio = (window.devicePixelRatio || 1) / backingStore;\n",
       "\n",
       "    var rubberband = $('<canvas/>');\n",
       "    rubberband.attr('style', \"position: absolute; left: 0; top: 0; z-index: 1;\")\n",
       "\n",
       "    var pass_mouse_events = true;\n",
       "\n",
       "    canvas_div.resizable({\n",
       "        start: function(event, ui) {\n",
       "            pass_mouse_events = false;\n",
       "        },\n",
       "        resize: function(event, ui) {\n",
       "            fig.request_resize(ui.size.width, ui.size.height);\n",
       "        },\n",
       "        stop: function(event, ui) {\n",
       "            pass_mouse_events = true;\n",
       "            fig.request_resize(ui.size.width, ui.size.height);\n",
       "        },\n",
       "    });\n",
       "\n",
       "    function mouse_event_fn(event) {\n",
       "        if (pass_mouse_events)\n",
       "            return fig.mouse_event(event, event['data']);\n",
       "    }\n",
       "\n",
       "    rubberband.mousedown('button_press', mouse_event_fn);\n",
       "    rubberband.mouseup('button_release', mouse_event_fn);\n",
       "    // Throttle sequential mouse events to 1 every 20ms.\n",
       "    rubberband.mousemove('motion_notify', mouse_event_fn);\n",
       "\n",
       "    rubberband.mouseenter('figure_enter', mouse_event_fn);\n",
       "    rubberband.mouseleave('figure_leave', mouse_event_fn);\n",
       "\n",
       "    canvas_div.on(\"wheel\", function (event) {\n",
       "        event = event.originalEvent;\n",
       "        event['data'] = 'scroll'\n",
       "        if (event.deltaY < 0) {\n",
       "            event.step = 1;\n",
       "        } else {\n",
       "            event.step = -1;\n",
       "        }\n",
       "        mouse_event_fn(event);\n",
       "    });\n",
       "\n",
       "    canvas_div.append(canvas);\n",
       "    canvas_div.append(rubberband);\n",
       "\n",
       "    this.rubberband = rubberband;\n",
       "    this.rubberband_canvas = rubberband[0];\n",
       "    this.rubberband_context = rubberband[0].getContext(\"2d\");\n",
       "    this.rubberband_context.strokeStyle = \"#000000\";\n",
       "\n",
       "    this._resize_canvas = function(width, height) {\n",
       "        // Keep the size of the canvas, canvas container, and rubber band\n",
       "        // canvas in synch.\n",
       "        canvas_div.css('width', width)\n",
       "        canvas_div.css('height', height)\n",
       "\n",
       "        canvas.attr('width', width * mpl.ratio);\n",
       "        canvas.attr('height', height * mpl.ratio);\n",
       "        canvas.attr('style', 'width: ' + width + 'px; height: ' + height + 'px;');\n",
       "\n",
       "        rubberband.attr('width', width);\n",
       "        rubberband.attr('height', height);\n",
       "    }\n",
       "\n",
       "    // Set the figure to an initial 600x600px, this will subsequently be updated\n",
       "    // upon first draw.\n",
       "    this._resize_canvas(600, 600);\n",
       "\n",
       "    // Disable right mouse context menu.\n",
       "    $(this.rubberband_canvas).bind(\"contextmenu\",function(e){\n",
       "        return false;\n",
       "    });\n",
       "\n",
       "    function set_focus () {\n",
       "        canvas.focus();\n",
       "        canvas_div.focus();\n",
       "    }\n",
       "\n",
       "    window.setTimeout(set_focus, 100);\n",
       "}\n",
       "\n",
       "mpl.figure.prototype._init_toolbar = function() {\n",
       "    var fig = this;\n",
       "\n",
       "    var nav_element = $('<div/>');\n",
       "    nav_element.attr('style', 'width: 100%');\n",
       "    this.root.append(nav_element);\n",
       "\n",
       "    // Define a callback function for later on.\n",
       "    function toolbar_event(event) {\n",
       "        return fig.toolbar_button_onclick(event['data']);\n",
       "    }\n",
       "    function toolbar_mouse_event(event) {\n",
       "        return fig.toolbar_button_onmouseover(event['data']);\n",
       "    }\n",
       "\n",
       "    for(var toolbar_ind in mpl.toolbar_items) {\n",
       "        var name = mpl.toolbar_items[toolbar_ind][0];\n",
       "        var tooltip = mpl.toolbar_items[toolbar_ind][1];\n",
       "        var image = mpl.toolbar_items[toolbar_ind][2];\n",
       "        var method_name = mpl.toolbar_items[toolbar_ind][3];\n",
       "\n",
       "        if (!name) {\n",
       "            // put a spacer in here.\n",
       "            continue;\n",
       "        }\n",
       "        var button = $('<button/>');\n",
       "        button.addClass('ui-button ui-widget ui-state-default ui-corner-all ' +\n",
       "                        'ui-button-icon-only');\n",
       "        button.attr('role', 'button');\n",
       "        button.attr('aria-disabled', 'false');\n",
       "        button.click(method_name, toolbar_event);\n",
       "        button.mouseover(tooltip, toolbar_mouse_event);\n",
       "\n",
       "        var icon_img = $('<span/>');\n",
       "        icon_img.addClass('ui-button-icon-primary ui-icon');\n",
       "        icon_img.addClass(image);\n",
       "        icon_img.addClass('ui-corner-all');\n",
       "\n",
       "        var tooltip_span = $('<span/>');\n",
       "        tooltip_span.addClass('ui-button-text');\n",
       "        tooltip_span.html(tooltip);\n",
       "\n",
       "        button.append(icon_img);\n",
       "        button.append(tooltip_span);\n",
       "\n",
       "        nav_element.append(button);\n",
       "    }\n",
       "\n",
       "    var fmt_picker_span = $('<span/>');\n",
       "\n",
       "    var fmt_picker = $('<select/>');\n",
       "    fmt_picker.addClass('mpl-toolbar-option ui-widget ui-widget-content');\n",
       "    fmt_picker_span.append(fmt_picker);\n",
       "    nav_element.append(fmt_picker_span);\n",
       "    this.format_dropdown = fmt_picker[0];\n",
       "\n",
       "    for (var ind in mpl.extensions) {\n",
       "        var fmt = mpl.extensions[ind];\n",
       "        var option = $(\n",
       "            '<option/>', {selected: fmt === mpl.default_extension}).html(fmt);\n",
       "        fmt_picker.append(option);\n",
       "    }\n",
       "\n",
       "    // Add hover states to the ui-buttons\n",
       "    $( \".ui-button\" ).hover(\n",
       "        function() { $(this).addClass(\"ui-state-hover\");},\n",
       "        function() { $(this).removeClass(\"ui-state-hover\");}\n",
       "    );\n",
       "\n",
       "    var status_bar = $('<span class=\"mpl-message\"/>');\n",
       "    nav_element.append(status_bar);\n",
       "    this.message = status_bar[0];\n",
       "}\n",
       "\n",
       "mpl.figure.prototype.request_resize = function(x_pixels, y_pixels) {\n",
       "    // Request matplotlib to resize the figure. Matplotlib will then trigger a resize in the client,\n",
       "    // which will in turn request a refresh of the image.\n",
       "    this.send_message('resize', {'width': x_pixels, 'height': y_pixels});\n",
       "}\n",
       "\n",
       "mpl.figure.prototype.send_message = function(type, properties) {\n",
       "    properties['type'] = type;\n",
       "    properties['figure_id'] = this.id;\n",
       "    this.ws.send(JSON.stringify(properties));\n",
       "}\n",
       "\n",
       "mpl.figure.prototype.send_draw_message = function() {\n",
       "    if (!this.waiting) {\n",
       "        this.waiting = true;\n",
       "        this.ws.send(JSON.stringify({type: \"draw\", figure_id: this.id}));\n",
       "    }\n",
       "}\n",
       "\n",
       "\n",
       "mpl.figure.prototype.handle_save = function(fig, msg) {\n",
       "    var format_dropdown = fig.format_dropdown;\n",
       "    var format = format_dropdown.options[format_dropdown.selectedIndex].value;\n",
       "    fig.ondownload(fig, format);\n",
       "}\n",
       "\n",
       "\n",
       "mpl.figure.prototype.handle_resize = function(fig, msg) {\n",
       "    var size = msg['size'];\n",
       "    if (size[0] != fig.canvas.width || size[1] != fig.canvas.height) {\n",
       "        fig._resize_canvas(size[0], size[1]);\n",
       "        fig.send_message(\"refresh\", {});\n",
       "    };\n",
       "}\n",
       "\n",
       "mpl.figure.prototype.handle_rubberband = function(fig, msg) {\n",
       "    var x0 = msg['x0'] / mpl.ratio;\n",
       "    var y0 = (fig.canvas.height - msg['y0']) / mpl.ratio;\n",
       "    var x1 = msg['x1'] / mpl.ratio;\n",
       "    var y1 = (fig.canvas.height - msg['y1']) / mpl.ratio;\n",
       "    x0 = Math.floor(x0) + 0.5;\n",
       "    y0 = Math.floor(y0) + 0.5;\n",
       "    x1 = Math.floor(x1) + 0.5;\n",
       "    y1 = Math.floor(y1) + 0.5;\n",
       "    var min_x = Math.min(x0, x1);\n",
       "    var min_y = Math.min(y0, y1);\n",
       "    var width = Math.abs(x1 - x0);\n",
       "    var height = Math.abs(y1 - y0);\n",
       "\n",
       "    fig.rubberband_context.clearRect(\n",
       "        0, 0, fig.canvas.width / mpl.ratio, fig.canvas.height / mpl.ratio);\n",
       "\n",
       "    fig.rubberband_context.strokeRect(min_x, min_y, width, height);\n",
       "}\n",
       "\n",
       "mpl.figure.prototype.handle_figure_label = function(fig, msg) {\n",
       "    // Updates the figure title.\n",
       "    fig.header.textContent = msg['label'];\n",
       "}\n",
       "\n",
       "mpl.figure.prototype.handle_cursor = function(fig, msg) {\n",
       "    var cursor = msg['cursor'];\n",
       "    switch(cursor)\n",
       "    {\n",
       "    case 0:\n",
       "        cursor = 'pointer';\n",
       "        break;\n",
       "    case 1:\n",
       "        cursor = 'default';\n",
       "        break;\n",
       "    case 2:\n",
       "        cursor = 'crosshair';\n",
       "        break;\n",
       "    case 3:\n",
       "        cursor = 'move';\n",
       "        break;\n",
       "    }\n",
       "    fig.rubberband_canvas.style.cursor = cursor;\n",
       "}\n",
       "\n",
       "mpl.figure.prototype.handle_message = function(fig, msg) {\n",
       "    fig.message.textContent = msg['message'];\n",
       "}\n",
       "\n",
       "mpl.figure.prototype.handle_draw = function(fig, msg) {\n",
       "    // Request the server to send over a new figure.\n",
       "    fig.send_draw_message();\n",
       "}\n",
       "\n",
       "mpl.figure.prototype.handle_image_mode = function(fig, msg) {\n",
       "    fig.image_mode = msg['mode'];\n",
       "}\n",
       "\n",
       "mpl.figure.prototype.updated_canvas_event = function() {\n",
       "    // Called whenever the canvas gets updated.\n",
       "    this.send_message(\"ack\", {});\n",
       "}\n",
       "\n",
       "// A function to construct a web socket function for onmessage handling.\n",
       "// Called in the figure constructor.\n",
       "mpl.figure.prototype._make_on_message_function = function(fig) {\n",
       "    return function socket_on_message(evt) {\n",
       "        if (evt.data instanceof Blob) {\n",
       "            /* FIXME: We get \"Resource interpreted as Image but\n",
       "             * transferred with MIME type text/plain:\" errors on\n",
       "             * Chrome.  But how to set the MIME type?  It doesn't seem\n",
       "             * to be part of the websocket stream */\n",
       "            evt.data.type = \"image/png\";\n",
       "\n",
       "            /* Free the memory for the previous frames */\n",
       "            if (fig.imageObj.src) {\n",
       "                (window.URL || window.webkitURL).revokeObjectURL(\n",
       "                    fig.imageObj.src);\n",
       "            }\n",
       "\n",
       "            fig.imageObj.src = (window.URL || window.webkitURL).createObjectURL(\n",
       "                evt.data);\n",
       "            fig.updated_canvas_event();\n",
       "            fig.waiting = false;\n",
       "            return;\n",
       "        }\n",
       "        else if (typeof evt.data === 'string' && evt.data.slice(0, 21) == \"data:image/png;base64\") {\n",
       "            fig.imageObj.src = evt.data;\n",
       "            fig.updated_canvas_event();\n",
       "            fig.waiting = false;\n",
       "            return;\n",
       "        }\n",
       "\n",
       "        var msg = JSON.parse(evt.data);\n",
       "        var msg_type = msg['type'];\n",
       "\n",
       "        // Call the  \"handle_{type}\" callback, which takes\n",
       "        // the figure and JSON message as its only arguments.\n",
       "        try {\n",
       "            var callback = fig[\"handle_\" + msg_type];\n",
       "        } catch (e) {\n",
       "            console.log(\"No handler for the '\" + msg_type + \"' message type: \", msg);\n",
       "            return;\n",
       "        }\n",
       "\n",
       "        if (callback) {\n",
       "            try {\n",
       "                // console.log(\"Handling '\" + msg_type + \"' message: \", msg);\n",
       "                callback(fig, msg);\n",
       "            } catch (e) {\n",
       "                console.log(\"Exception inside the 'handler_\" + msg_type + \"' callback:\", e, e.stack, msg);\n",
       "            }\n",
       "        }\n",
       "    };\n",
       "}\n",
       "\n",
       "// from http://stackoverflow.com/questions/1114465/getting-mouse-location-in-canvas\n",
       "mpl.findpos = function(e) {\n",
       "    //this section is from http://www.quirksmode.org/js/events_properties.html\n",
       "    var targ;\n",
       "    if (!e)\n",
       "        e = window.event;\n",
       "    if (e.target)\n",
       "        targ = e.target;\n",
       "    else if (e.srcElement)\n",
       "        targ = e.srcElement;\n",
       "    if (targ.nodeType == 3) // defeat Safari bug\n",
       "        targ = targ.parentNode;\n",
       "\n",
       "    // jQuery normalizes the pageX and pageY\n",
       "    // pageX,Y are the mouse positions relative to the document\n",
       "    // offset() returns the position of the element relative to the document\n",
       "    var x = e.pageX - $(targ).offset().left;\n",
       "    var y = e.pageY - $(targ).offset().top;\n",
       "\n",
       "    return {\"x\": x, \"y\": y};\n",
       "};\n",
       "\n",
       "/*\n",
       " * return a copy of an object with only non-object keys\n",
       " * we need this to avoid circular references\n",
       " * http://stackoverflow.com/a/24161582/3208463\n",
       " */\n",
       "function simpleKeys (original) {\n",
       "  return Object.keys(original).reduce(function (obj, key) {\n",
       "    if (typeof original[key] !== 'object')\n",
       "        obj[key] = original[key]\n",
       "    return obj;\n",
       "  }, {});\n",
       "}\n",
       "\n",
       "mpl.figure.prototype.mouse_event = function(event, name) {\n",
       "    var canvas_pos = mpl.findpos(event)\n",
       "\n",
       "    if (name === 'button_press')\n",
       "    {\n",
       "        this.canvas.focus();\n",
       "        this.canvas_div.focus();\n",
       "    }\n",
       "\n",
       "    var x = canvas_pos.x * mpl.ratio;\n",
       "    var y = canvas_pos.y * mpl.ratio;\n",
       "\n",
       "    this.send_message(name, {x: x, y: y, button: event.button,\n",
       "                             step: event.step,\n",
       "                             guiEvent: simpleKeys(event)});\n",
       "\n",
       "    /* This prevents the web browser from automatically changing to\n",
       "     * the text insertion cursor when the button is pressed.  We want\n",
       "     * to control all of the cursor setting manually through the\n",
       "     * 'cursor' event from matplotlib */\n",
       "    event.preventDefault();\n",
       "    return false;\n",
       "}\n",
       "\n",
       "mpl.figure.prototype._key_event_extra = function(event, name) {\n",
       "    // Handle any extra behaviour associated with a key event\n",
       "}\n",
       "\n",
       "mpl.figure.prototype.key_event = function(event, name) {\n",
       "\n",
       "    // Prevent repeat events\n",
       "    if (name == 'key_press')\n",
       "    {\n",
       "        if (event.which === this._key)\n",
       "            return;\n",
       "        else\n",
       "            this._key = event.which;\n",
       "    }\n",
       "    if (name == 'key_release')\n",
       "        this._key = null;\n",
       "\n",
       "    var value = '';\n",
       "    if (event.ctrlKey && event.which != 17)\n",
       "        value += \"ctrl+\";\n",
       "    if (event.altKey && event.which != 18)\n",
       "        value += \"alt+\";\n",
       "    if (event.shiftKey && event.which != 16)\n",
       "        value += \"shift+\";\n",
       "\n",
       "    value += 'k';\n",
       "    value += event.which.toString();\n",
       "\n",
       "    this._key_event_extra(event, name);\n",
       "\n",
       "    this.send_message(name, {key: value,\n",
       "                             guiEvent: simpleKeys(event)});\n",
       "    return false;\n",
       "}\n",
       "\n",
       "mpl.figure.prototype.toolbar_button_onclick = function(name) {\n",
       "    if (name == 'download') {\n",
       "        this.handle_save(this, null);\n",
       "    } else {\n",
       "        this.send_message(\"toolbar_button\", {name: name});\n",
       "    }\n",
       "};\n",
       "\n",
       "mpl.figure.prototype.toolbar_button_onmouseover = function(tooltip) {\n",
       "    this.message.textContent = tooltip;\n",
       "};\n",
       "mpl.toolbar_items = [[\"Home\", \"Reset original view\", \"fa fa-home icon-home\", \"home\"], [\"Back\", \"Back to previous view\", \"fa fa-arrow-left icon-arrow-left\", \"back\"], [\"Forward\", \"Forward to next view\", \"fa fa-arrow-right icon-arrow-right\", \"forward\"], [\"\", \"\", \"\", \"\"], [\"Pan\", \"Pan axes with left mouse, zoom with right\", \"fa fa-arrows icon-move\", \"pan\"], [\"Zoom\", \"Zoom to rectangle\", \"fa fa-square-o icon-check-empty\", \"zoom\"], [\"\", \"\", \"\", \"\"], [\"Download\", \"Download plot\", \"fa fa-floppy-o icon-save\", \"download\"]];\n",
       "\n",
       "mpl.extensions = [\"eps\", \"pdf\", \"png\", \"ps\", \"raw\", \"svg\"];\n",
       "\n",
       "mpl.default_extension = \"png\";var comm_websocket_adapter = function(comm) {\n",
       "    // Create a \"websocket\"-like object which calls the given IPython comm\n",
       "    // object with the appropriate methods. Currently this is a non binary\n",
       "    // socket, so there is still some room for performance tuning.\n",
       "    var ws = {};\n",
       "\n",
       "    ws.close = function() {\n",
       "        comm.close()\n",
       "    };\n",
       "    ws.send = function(m) {\n",
       "        //console.log('sending', m);\n",
       "        comm.send(m);\n",
       "    };\n",
       "    // Register the callback with on_msg.\n",
       "    comm.on_msg(function(msg) {\n",
       "        //console.log('receiving', msg['content']['data'], msg);\n",
       "        // Pass the mpl event to the overridden (by mpl) onmessage function.\n",
       "        ws.onmessage(msg['content']['data'])\n",
       "    });\n",
       "    return ws;\n",
       "}\n",
       "\n",
       "mpl.mpl_figure_comm = function(comm, msg) {\n",
       "    // This is the function which gets called when the mpl process\n",
       "    // starts-up an IPython Comm through the \"matplotlib\" channel.\n",
       "\n",
       "    var id = msg.content.data.id;\n",
       "    // Get hold of the div created by the display call when the Comm\n",
       "    // socket was opened in Python.\n",
       "    var element = $(\"#\" + id);\n",
       "    var ws_proxy = comm_websocket_adapter(comm)\n",
       "\n",
       "    function ondownload(figure, format) {\n",
       "        window.open(figure.imageObj.src);\n",
       "    }\n",
       "\n",
       "    var fig = new mpl.figure(id, ws_proxy,\n",
       "                           ondownload,\n",
       "                           element.get(0));\n",
       "\n",
       "    // Call onopen now - mpl needs it, as it is assuming we've passed it a real\n",
       "    // web socket which is closed, not our websocket->open comm proxy.\n",
       "    ws_proxy.onopen();\n",
       "\n",
       "    fig.parent_element = element.get(0);\n",
       "    fig.cell_info = mpl.find_output_cell(\"<div id='\" + id + \"'></div>\");\n",
       "    if (!fig.cell_info) {\n",
       "        console.error(\"Failed to find cell for figure\", id, fig);\n",
       "        return;\n",
       "    }\n",
       "\n",
       "    var output_index = fig.cell_info[2]\n",
       "    var cell = fig.cell_info[0];\n",
       "\n",
       "};\n",
       "\n",
       "mpl.figure.prototype.handle_close = function(fig, msg) {\n",
       "    var width = fig.canvas.width/mpl.ratio\n",
       "    fig.root.unbind('remove')\n",
       "\n",
       "    // Update the output cell to use the data from the current canvas.\n",
       "    fig.push_to_output();\n",
       "    var dataURL = fig.canvas.toDataURL();\n",
       "    // Re-enable the keyboard manager in IPython - without this line, in FF,\n",
       "    // the notebook keyboard shortcuts fail.\n",
       "    IPython.keyboard_manager.enable()\n",
       "    $(fig.parent_element).html('<img src=\"' + dataURL + '\" width=\"' + width + '\">');\n",
       "    fig.close_ws(fig, msg);\n",
       "}\n",
       "\n",
       "mpl.figure.prototype.close_ws = function(fig, msg){\n",
       "    fig.send_message('closing', msg);\n",
       "    // fig.ws.close()\n",
       "}\n",
       "\n",
       "mpl.figure.prototype.push_to_output = function(remove_interactive) {\n",
       "    // Turn the data on the canvas into data in the output cell.\n",
       "    var width = this.canvas.width/mpl.ratio\n",
       "    var dataURL = this.canvas.toDataURL();\n",
       "    this.cell_info[1]['text/html'] = '<img src=\"' + dataURL + '\" width=\"' + width + '\">';\n",
       "}\n",
       "\n",
       "mpl.figure.prototype.updated_canvas_event = function() {\n",
       "    // Tell IPython that the notebook contents must change.\n",
       "    IPython.notebook.set_dirty(true);\n",
       "    this.send_message(\"ack\", {});\n",
       "    var fig = this;\n",
       "    // Wait a second, then push the new image to the DOM so\n",
       "    // that it is saved nicely (might be nice to debounce this).\n",
       "    setTimeout(function () { fig.push_to_output() }, 1000);\n",
       "}\n",
       "\n",
       "mpl.figure.prototype._init_toolbar = function() {\n",
       "    var fig = this;\n",
       "\n",
       "    var nav_element = $('<div/>');\n",
       "    nav_element.attr('style', 'width: 100%');\n",
       "    this.root.append(nav_element);\n",
       "\n",
       "    // Define a callback function for later on.\n",
       "    function toolbar_event(event) {\n",
       "        return fig.toolbar_button_onclick(event['data']);\n",
       "    }\n",
       "    function toolbar_mouse_event(event) {\n",
       "        return fig.toolbar_button_onmouseover(event['data']);\n",
       "    }\n",
       "\n",
       "    for(var toolbar_ind in mpl.toolbar_items){\n",
       "        var name = mpl.toolbar_items[toolbar_ind][0];\n",
       "        var tooltip = mpl.toolbar_items[toolbar_ind][1];\n",
       "        var image = mpl.toolbar_items[toolbar_ind][2];\n",
       "        var method_name = mpl.toolbar_items[toolbar_ind][3];\n",
       "\n",
       "        if (!name) { continue; };\n",
       "\n",
       "        var button = $('<button class=\"btn btn-default\" href=\"#\" title=\"' + name + '\"><i class=\"fa ' + image + ' fa-lg\"></i></button>');\n",
       "        button.click(method_name, toolbar_event);\n",
       "        button.mouseover(tooltip, toolbar_mouse_event);\n",
       "        nav_element.append(button);\n",
       "    }\n",
       "\n",
       "    // Add the status bar.\n",
       "    var status_bar = $('<span class=\"mpl-message\" style=\"text-align:right; float: right;\"/>');\n",
       "    nav_element.append(status_bar);\n",
       "    this.message = status_bar[0];\n",
       "\n",
       "    // Add the close button to the window.\n",
       "    var buttongrp = $('<div class=\"btn-group inline pull-right\"></div>');\n",
       "    var button = $('<button class=\"btn btn-mini btn-primary\" href=\"#\" title=\"Stop Interaction\"><i class=\"fa fa-power-off icon-remove icon-large\"></i></button>');\n",
       "    button.click(function (evt) { fig.handle_close(fig, {}); } );\n",
       "    button.mouseover('Stop Interaction', toolbar_mouse_event);\n",
       "    buttongrp.append(button);\n",
       "    var titlebar = this.root.find($('.ui-dialog-titlebar'));\n",
       "    titlebar.prepend(buttongrp);\n",
       "}\n",
       "\n",
       "mpl.figure.prototype._root_extra_style = function(el){\n",
       "    var fig = this\n",
       "    el.on(\"remove\", function(){\n",
       "\tfig.close_ws(fig, {});\n",
       "    });\n",
       "}\n",
       "\n",
       "mpl.figure.prototype._canvas_extra_style = function(el){\n",
       "    // this is important to make the div 'focusable\n",
       "    el.attr('tabindex', 0)\n",
       "    // reach out to IPython and tell the keyboard manager to turn it's self\n",
       "    // off when our div gets focus\n",
       "\n",
       "    // location in version 3\n",
       "    if (IPython.notebook.keyboard_manager) {\n",
       "        IPython.notebook.keyboard_manager.register_events(el);\n",
       "    }\n",
       "    else {\n",
       "        // location in version 2\n",
       "        IPython.keyboard_manager.register_events(el);\n",
       "    }\n",
       "\n",
       "}\n",
       "\n",
       "mpl.figure.prototype._key_event_extra = function(event, name) {\n",
       "    var manager = IPython.notebook.keyboard_manager;\n",
       "    if (!manager)\n",
       "        manager = IPython.keyboard_manager;\n",
       "\n",
       "    // Check for shift+enter\n",
       "    if (event.shiftKey && event.which == 13) {\n",
       "        this.canvas_div.blur();\n",
       "        // select the cell after this one\n",
       "        var index = IPython.notebook.find_cell_index(this.cell_info[0]);\n",
       "        IPython.notebook.select(index + 1);\n",
       "    }\n",
       "}\n",
       "\n",
       "mpl.figure.prototype.handle_save = function(fig, msg) {\n",
       "    fig.ondownload(fig, null);\n",
       "}\n",
       "\n",
       "\n",
       "mpl.find_output_cell = function(html_output) {\n",
       "    // Return the cell and output element which can be found *uniquely* in the notebook.\n",
       "    // Note - this is a bit hacky, but it is done because the \"notebook_saving.Notebook\"\n",
       "    // IPython event is triggered only after the cells have been serialised, which for\n",
       "    // our purposes (turning an active figure into a static one), is too late.\n",
       "    var cells = IPython.notebook.get_cells();\n",
       "    var ncells = cells.length;\n",
       "    for (var i=0; i<ncells; i++) {\n",
       "        var cell = cells[i];\n",
       "        if (cell.cell_type === 'code'){\n",
       "            for (var j=0; j<cell.output_area.outputs.length; j++) {\n",
       "                var data = cell.output_area.outputs[j];\n",
       "                if (data.data) {\n",
       "                    // IPython >= 3 moved mimebundle to data attribute of output\n",
       "                    data = data.data;\n",
       "                }\n",
       "                if (data['text/html'] == html_output) {\n",
       "                    return [cell, data, j];\n",
       "                }\n",
       "            }\n",
       "        }\n",
       "    }\n",
       "}\n",
       "\n",
       "// Register the function which deals with the matplotlib target/channel.\n",
       "// The kernel may be null if the page has been refreshed.\n",
       "if (IPython.notebook.kernel != null) {\n",
       "    IPython.notebook.kernel.comm_manager.register_target('matplotlib', mpl.mpl_figure_comm);\n",
       "}\n"
      ],
      "text/plain": [
       "<IPython.core.display.Javascript object>"
      ]
     },
     "metadata": {},
     "output_type": "display_data"
    },
    {
     "data": {
      "text/html": [
       "<img src=\"data:image/png;base64,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\" width=\"600\">"
      ],
      "text/plain": [
       "<IPython.core.display.HTML object>"
      ]
     },
     "metadata": {},
     "output_type": "display_data"
    }
   ],
   "source": [
    "zplane(np.roots(B),np.roots(A))"
   ]
  },
  {
   "cell_type": "markdown",
   "metadata": {
    "slideshow": {
     "slide_type": "-"
    }
   },
   "source": [
    "**Zeros** are marked with an **“o”**, and **poles** are marked with an **“x”**. Here we see the pole at location z=0.9. \n",
    "\n",
    "In general, the **closer a pole** is to the **unit circle**, the larger is the corresponding **peak** in the **magnitude** of the frequency response at a **normalized** frequency identical to the **angle of the pole** to the origin. \n",
    "\n",
    "This can be seen by turning the z-transform into a DTFT by replacing z by $e^{j\\Omega}$. Hence the frequency response is obtained by “running” on this unit circle, $\\Omega$ is our angle and also normalized frequency, and the closer we get to a pole, the higher the magnitude of the frequency response becomes. This is opposite for zeros, the closer we come to a zero, the smaller magnitude of the frequency response becomes.\n",
    "\n",
    "Here our pole has an angle of 0 degrees. In the example we can indeed observe a peak in the magnitude response at normalized frequency $\\Omega=0$ above.\n",
    "\n",
    "The **filtering** operation itself works similarly in Matlab or Octave or Python, in the time domain. The function is “filter” or “lfilter”. Given an input signal in the vector x, and filter coefficients in vectors A and B, the filtered output y of our filter is simply:\n",
    "\n",
    "```y=lfilter(B,A,x);```\n",
    "\n",
    "Often used orders for the zeros and poles L and R are a few to a few dozen coefficients."
   ]
  },
  {
   "cell_type": "markdown",
   "metadata": {
    "slideshow": {
     "slide_type": "subslide"
    }
   },
   "source": [
    "**Python example:**\n",
    "\n",
    "Use the function *`lfilter`* to obtain the impulse response of this IIR filter.\n",
    "        "
   ]
  },
  {
   "cell_type": "code",
   "execution_count": 6,
   "metadata": {
    "hide_input": true
   },
   "outputs": [
    {
     "data": {
      "text/html": [
       "<iframe width=\"560\" height=\"315\" src=\"https://www.youtube.com/embed/T4tpZkugC7U\" frameborder=\"0\" allow=\"accelerometer; encrypted-media; gyroscope; picture-in-picture\" allowfullscreen></iframe>\n"
      ],
      "text/plain": [
       "<IPython.core.display.HTML object>"
      ]
     },
     "metadata": {},
     "output_type": "display_data"
    }
   ],
   "source": [
    "%%html\n",
    "<iframe width=\"560\" height=\"315\" src=\"https://www.youtube.com/embed/T4tpZkugC7U\" frameborder=\"0\" allow=\"accelerometer; encrypted-media; gyroscope; picture-in-picture\" allowfullscreen></iframe>"
   ]
  },
  {
   "cell_type": "code",
   "execution_count": 29,
   "metadata": {
    "slideshow": {
     "slide_type": "-"
    }
   },
   "outputs": [
    {
     "data": {
      "application/javascript": [
       "/* Put everything inside the global mpl namespace */\n",
       "window.mpl = {};\n",
       "\n",
       "\n",
       "mpl.get_websocket_type = function() {\n",
       "    if (typeof(WebSocket) !== 'undefined') {\n",
       "        return WebSocket;\n",
       "    } else if (typeof(MozWebSocket) !== 'undefined') {\n",
       "        return MozWebSocket;\n",
       "    } else {\n",
       "        alert('Your browser does not have WebSocket support. ' +\n",
       "              'Please try Chrome, Safari or Firefox ≥ 6. ' +\n",
       "              'Firefox 4 and 5 are also supported but you ' +\n",
       "              'have to enable WebSockets in about:config.');\n",
       "    };\n",
       "}\n",
       "\n",
       "mpl.figure = function(figure_id, websocket, ondownload, parent_element) {\n",
       "    this.id = figure_id;\n",
       "\n",
       "    this.ws = websocket;\n",
       "\n",
       "    this.supports_binary = (this.ws.binaryType != undefined);\n",
       "\n",
       "    if (!this.supports_binary) {\n",
       "        var warnings = document.getElementById(\"mpl-warnings\");\n",
       "        if (warnings) {\n",
       "            warnings.style.display = 'block';\n",
       "            warnings.textContent = (\n",
       "                \"This browser does not support binary websocket messages. \" +\n",
       "                    \"Performance may be slow.\");\n",
       "        }\n",
       "    }\n",
       "\n",
       "    this.imageObj = new Image();\n",
       "\n",
       "    this.context = undefined;\n",
       "    this.message = undefined;\n",
       "    this.canvas = undefined;\n",
       "    this.rubberband_canvas = undefined;\n",
       "    this.rubberband_context = undefined;\n",
       "    this.format_dropdown = undefined;\n",
       "\n",
       "    this.image_mode = 'full';\n",
       "\n",
       "    this.root = $('<div/>');\n",
       "    this._root_extra_style(this.root)\n",
       "    this.root.attr('style', 'display: inline-block');\n",
       "\n",
       "    $(parent_element).append(this.root);\n",
       "\n",
       "    this._init_header(this);\n",
       "    this._init_canvas(this);\n",
       "    this._init_toolbar(this);\n",
       "\n",
       "    var fig = this;\n",
       "\n",
       "    this.waiting = false;\n",
       "\n",
       "    this.ws.onopen =  function () {\n",
       "            fig.send_message(\"supports_binary\", {value: fig.supports_binary});\n",
       "            fig.send_message(\"send_image_mode\", {});\n",
       "            if (mpl.ratio != 1) {\n",
       "                fig.send_message(\"set_dpi_ratio\", {'dpi_ratio': mpl.ratio});\n",
       "            }\n",
       "            fig.send_message(\"refresh\", {});\n",
       "        }\n",
       "\n",
       "    this.imageObj.onload = function() {\n",
       "            if (fig.image_mode == 'full') {\n",
       "                // Full images could contain transparency (where diff images\n",
       "                // almost always do), so we need to clear the canvas so that\n",
       "                // there is no ghosting.\n",
       "                fig.context.clearRect(0, 0, fig.canvas.width, fig.canvas.height);\n",
       "            }\n",
       "            fig.context.drawImage(fig.imageObj, 0, 0);\n",
       "        };\n",
       "\n",
       "    this.imageObj.onunload = function() {\n",
       "        fig.ws.close();\n",
       "    }\n",
       "\n",
       "    this.ws.onmessage = this._make_on_message_function(this);\n",
       "\n",
       "    this.ondownload = ondownload;\n",
       "}\n",
       "\n",
       "mpl.figure.prototype._init_header = function() {\n",
       "    var titlebar = $(\n",
       "        '<div class=\"ui-dialog-titlebar ui-widget-header ui-corner-all ' +\n",
       "        'ui-helper-clearfix\"/>');\n",
       "    var titletext = $(\n",
       "        '<div class=\"ui-dialog-title\" style=\"width: 100%; ' +\n",
       "        'text-align: center; padding: 3px;\"/>');\n",
       "    titlebar.append(titletext)\n",
       "    this.root.append(titlebar);\n",
       "    this.header = titletext[0];\n",
       "}\n",
       "\n",
       "\n",
       "\n",
       "mpl.figure.prototype._canvas_extra_style = function(canvas_div) {\n",
       "\n",
       "}\n",
       "\n",
       "\n",
       "mpl.figure.prototype._root_extra_style = function(canvas_div) {\n",
       "\n",
       "}\n",
       "\n",
       "mpl.figure.prototype._init_canvas = function() {\n",
       "    var fig = this;\n",
       "\n",
       "    var canvas_div = $('<div/>');\n",
       "\n",
       "    canvas_div.attr('style', 'position: relative; clear: both; outline: 0');\n",
       "\n",
       "    function canvas_keyboard_event(event) {\n",
       "        return fig.key_event(event, event['data']);\n",
       "    }\n",
       "\n",
       "    canvas_div.keydown('key_press', canvas_keyboard_event);\n",
       "    canvas_div.keyup('key_release', canvas_keyboard_event);\n",
       "    this.canvas_div = canvas_div\n",
       "    this._canvas_extra_style(canvas_div)\n",
       "    this.root.append(canvas_div);\n",
       "\n",
       "    var canvas = $('<canvas/>');\n",
       "    canvas.addClass('mpl-canvas');\n",
       "    canvas.attr('style', \"left: 0; top: 0; z-index: 0; outline: 0\")\n",
       "\n",
       "    this.canvas = canvas[0];\n",
       "    this.context = canvas[0].getContext(\"2d\");\n",
       "\n",
       "    var backingStore = this.context.backingStorePixelRatio ||\n",
       "\tthis.context.webkitBackingStorePixelRatio ||\n",
       "\tthis.context.mozBackingStorePixelRatio ||\n",
       "\tthis.context.msBackingStorePixelRatio ||\n",
       "\tthis.context.oBackingStorePixelRatio ||\n",
       "\tthis.context.backingStorePixelRatio || 1;\n",
       "\n",
       "    mpl.ratio = (window.devicePixelRatio || 1) / backingStore;\n",
       "\n",
       "    var rubberband = $('<canvas/>');\n",
       "    rubberband.attr('style', \"position: absolute; left: 0; top: 0; z-index: 1;\")\n",
       "\n",
       "    var pass_mouse_events = true;\n",
       "\n",
       "    canvas_div.resizable({\n",
       "        start: function(event, ui) {\n",
       "            pass_mouse_events = false;\n",
       "        },\n",
       "        resize: function(event, ui) {\n",
       "            fig.request_resize(ui.size.width, ui.size.height);\n",
       "        },\n",
       "        stop: function(event, ui) {\n",
       "            pass_mouse_events = true;\n",
       "            fig.request_resize(ui.size.width, ui.size.height);\n",
       "        },\n",
       "    });\n",
       "\n",
       "    function mouse_event_fn(event) {\n",
       "        if (pass_mouse_events)\n",
       "            return fig.mouse_event(event, event['data']);\n",
       "    }\n",
       "\n",
       "    rubberband.mousedown('button_press', mouse_event_fn);\n",
       "    rubberband.mouseup('button_release', mouse_event_fn);\n",
       "    // Throttle sequential mouse events to 1 every 20ms.\n",
       "    rubberband.mousemove('motion_notify', mouse_event_fn);\n",
       "\n",
       "    rubberband.mouseenter('figure_enter', mouse_event_fn);\n",
       "    rubberband.mouseleave('figure_leave', mouse_event_fn);\n",
       "\n",
       "    canvas_div.on(\"wheel\", function (event) {\n",
       "        event = event.originalEvent;\n",
       "        event['data'] = 'scroll'\n",
       "        if (event.deltaY < 0) {\n",
       "            event.step = 1;\n",
       "        } else {\n",
       "            event.step = -1;\n",
       "        }\n",
       "        mouse_event_fn(event);\n",
       "    });\n",
       "\n",
       "    canvas_div.append(canvas);\n",
       "    canvas_div.append(rubberband);\n",
       "\n",
       "    this.rubberband = rubberband;\n",
       "    this.rubberband_canvas = rubberband[0];\n",
       "    this.rubberband_context = rubberband[0].getContext(\"2d\");\n",
       "    this.rubberband_context.strokeStyle = \"#000000\";\n",
       "\n",
       "    this._resize_canvas = function(width, height) {\n",
       "        // Keep the size of the canvas, canvas container, and rubber band\n",
       "        // canvas in synch.\n",
       "        canvas_div.css('width', width)\n",
       "        canvas_div.css('height', height)\n",
       "\n",
       "        canvas.attr('width', width * mpl.ratio);\n",
       "        canvas.attr('height', height * mpl.ratio);\n",
       "        canvas.attr('style', 'width: ' + width + 'px; height: ' + height + 'px;');\n",
       "\n",
       "        rubberband.attr('width', width);\n",
       "        rubberband.attr('height', height);\n",
       "    }\n",
       "\n",
       "    // Set the figure to an initial 600x600px, this will subsequently be updated\n",
       "    // upon first draw.\n",
       "    this._resize_canvas(600, 600);\n",
       "\n",
       "    // Disable right mouse context menu.\n",
       "    $(this.rubberband_canvas).bind(\"contextmenu\",function(e){\n",
       "        return false;\n",
       "    });\n",
       "\n",
       "    function set_focus () {\n",
       "        canvas.focus();\n",
       "        canvas_div.focus();\n",
       "    }\n",
       "\n",
       "    window.setTimeout(set_focus, 100);\n",
       "}\n",
       "\n",
       "mpl.figure.prototype._init_toolbar = function() {\n",
       "    var fig = this;\n",
       "\n",
       "    var nav_element = $('<div/>');\n",
       "    nav_element.attr('style', 'width: 100%');\n",
       "    this.root.append(nav_element);\n",
       "\n",
       "    // Define a callback function for later on.\n",
       "    function toolbar_event(event) {\n",
       "        return fig.toolbar_button_onclick(event['data']);\n",
       "    }\n",
       "    function toolbar_mouse_event(event) {\n",
       "        return fig.toolbar_button_onmouseover(event['data']);\n",
       "    }\n",
       "\n",
       "    for(var toolbar_ind in mpl.toolbar_items) {\n",
       "        var name = mpl.toolbar_items[toolbar_ind][0];\n",
       "        var tooltip = mpl.toolbar_items[toolbar_ind][1];\n",
       "        var image = mpl.toolbar_items[toolbar_ind][2];\n",
       "        var method_name = mpl.toolbar_items[toolbar_ind][3];\n",
       "\n",
       "        if (!name) {\n",
       "            // put a spacer in here.\n",
       "            continue;\n",
       "        }\n",
       "        var button = $('<button/>');\n",
       "        button.addClass('ui-button ui-widget ui-state-default ui-corner-all ' +\n",
       "                        'ui-button-icon-only');\n",
       "        button.attr('role', 'button');\n",
       "        button.attr('aria-disabled', 'false');\n",
       "        button.click(method_name, toolbar_event);\n",
       "        button.mouseover(tooltip, toolbar_mouse_event);\n",
       "\n",
       "        var icon_img = $('<span/>');\n",
       "        icon_img.addClass('ui-button-icon-primary ui-icon');\n",
       "        icon_img.addClass(image);\n",
       "        icon_img.addClass('ui-corner-all');\n",
       "\n",
       "        var tooltip_span = $('<span/>');\n",
       "        tooltip_span.addClass('ui-button-text');\n",
       "        tooltip_span.html(tooltip);\n",
       "\n",
       "        button.append(icon_img);\n",
       "        button.append(tooltip_span);\n",
       "\n",
       "        nav_element.append(button);\n",
       "    }\n",
       "\n",
       "    var fmt_picker_span = $('<span/>');\n",
       "\n",
       "    var fmt_picker = $('<select/>');\n",
       "    fmt_picker.addClass('mpl-toolbar-option ui-widget ui-widget-content');\n",
       "    fmt_picker_span.append(fmt_picker);\n",
       "    nav_element.append(fmt_picker_span);\n",
       "    this.format_dropdown = fmt_picker[0];\n",
       "\n",
       "    for (var ind in mpl.extensions) {\n",
       "        var fmt = mpl.extensions[ind];\n",
       "        var option = $(\n",
       "            '<option/>', {selected: fmt === mpl.default_extension}).html(fmt);\n",
       "        fmt_picker.append(option);\n",
       "    }\n",
       "\n",
       "    // Add hover states to the ui-buttons\n",
       "    $( \".ui-button\" ).hover(\n",
       "        function() { $(this).addClass(\"ui-state-hover\");},\n",
       "        function() { $(this).removeClass(\"ui-state-hover\");}\n",
       "    );\n",
       "\n",
       "    var status_bar = $('<span class=\"mpl-message\"/>');\n",
       "    nav_element.append(status_bar);\n",
       "    this.message = status_bar[0];\n",
       "}\n",
       "\n",
       "mpl.figure.prototype.request_resize = function(x_pixels, y_pixels) {\n",
       "    // Request matplotlib to resize the figure. Matplotlib will then trigger a resize in the client,\n",
       "    // which will in turn request a refresh of the image.\n",
       "    this.send_message('resize', {'width': x_pixels, 'height': y_pixels});\n",
       "}\n",
       "\n",
       "mpl.figure.prototype.send_message = function(type, properties) {\n",
       "    properties['type'] = type;\n",
       "    properties['figure_id'] = this.id;\n",
       "    this.ws.send(JSON.stringify(properties));\n",
       "}\n",
       "\n",
       "mpl.figure.prototype.send_draw_message = function() {\n",
       "    if (!this.waiting) {\n",
       "        this.waiting = true;\n",
       "        this.ws.send(JSON.stringify({type: \"draw\", figure_id: this.id}));\n",
       "    }\n",
       "}\n",
       "\n",
       "\n",
       "mpl.figure.prototype.handle_save = function(fig, msg) {\n",
       "    var format_dropdown = fig.format_dropdown;\n",
       "    var format = format_dropdown.options[format_dropdown.selectedIndex].value;\n",
       "    fig.ondownload(fig, format);\n",
       "}\n",
       "\n",
       "\n",
       "mpl.figure.prototype.handle_resize = function(fig, msg) {\n",
       "    var size = msg['size'];\n",
       "    if (size[0] != fig.canvas.width || size[1] != fig.canvas.height) {\n",
       "        fig._resize_canvas(size[0], size[1]);\n",
       "        fig.send_message(\"refresh\", {});\n",
       "    };\n",
       "}\n",
       "\n",
       "mpl.figure.prototype.handle_rubberband = function(fig, msg) {\n",
       "    var x0 = msg['x0'] / mpl.ratio;\n",
       "    var y0 = (fig.canvas.height - msg['y0']) / mpl.ratio;\n",
       "    var x1 = msg['x1'] / mpl.ratio;\n",
       "    var y1 = (fig.canvas.height - msg['y1']) / mpl.ratio;\n",
       "    x0 = Math.floor(x0) + 0.5;\n",
       "    y0 = Math.floor(y0) + 0.5;\n",
       "    x1 = Math.floor(x1) + 0.5;\n",
       "    y1 = Math.floor(y1) + 0.5;\n",
       "    var min_x = Math.min(x0, x1);\n",
       "    var min_y = Math.min(y0, y1);\n",
       "    var width = Math.abs(x1 - x0);\n",
       "    var height = Math.abs(y1 - y0);\n",
       "\n",
       "    fig.rubberband_context.clearRect(\n",
       "        0, 0, fig.canvas.width / mpl.ratio, fig.canvas.height / mpl.ratio);\n",
       "\n",
       "    fig.rubberband_context.strokeRect(min_x, min_y, width, height);\n",
       "}\n",
       "\n",
       "mpl.figure.prototype.handle_figure_label = function(fig, msg) {\n",
       "    // Updates the figure title.\n",
       "    fig.header.textContent = msg['label'];\n",
       "}\n",
       "\n",
       "mpl.figure.prototype.handle_cursor = function(fig, msg) {\n",
       "    var cursor = msg['cursor'];\n",
       "    switch(cursor)\n",
       "    {\n",
       "    case 0:\n",
       "        cursor = 'pointer';\n",
       "        break;\n",
       "    case 1:\n",
       "        cursor = 'default';\n",
       "        break;\n",
       "    case 2:\n",
       "        cursor = 'crosshair';\n",
       "        break;\n",
       "    case 3:\n",
       "        cursor = 'move';\n",
       "        break;\n",
       "    }\n",
       "    fig.rubberband_canvas.style.cursor = cursor;\n",
       "}\n",
       "\n",
       "mpl.figure.prototype.handle_message = function(fig, msg) {\n",
       "    fig.message.textContent = msg['message'];\n",
       "}\n",
       "\n",
       "mpl.figure.prototype.handle_draw = function(fig, msg) {\n",
       "    // Request the server to send over a new figure.\n",
       "    fig.send_draw_message();\n",
       "}\n",
       "\n",
       "mpl.figure.prototype.handle_image_mode = function(fig, msg) {\n",
       "    fig.image_mode = msg['mode'];\n",
       "}\n",
       "\n",
       "mpl.figure.prototype.updated_canvas_event = function() {\n",
       "    // Called whenever the canvas gets updated.\n",
       "    this.send_message(\"ack\", {});\n",
       "}\n",
       "\n",
       "// A function to construct a web socket function for onmessage handling.\n",
       "// Called in the figure constructor.\n",
       "mpl.figure.prototype._make_on_message_function = function(fig) {\n",
       "    return function socket_on_message(evt) {\n",
       "        if (evt.data instanceof Blob) {\n",
       "            /* FIXME: We get \"Resource interpreted as Image but\n",
       "             * transferred with MIME type text/plain:\" errors on\n",
       "             * Chrome.  But how to set the MIME type?  It doesn't seem\n",
       "             * to be part of the websocket stream */\n",
       "            evt.data.type = \"image/png\";\n",
       "\n",
       "            /* Free the memory for the previous frames */\n",
       "            if (fig.imageObj.src) {\n",
       "                (window.URL || window.webkitURL).revokeObjectURL(\n",
       "                    fig.imageObj.src);\n",
       "            }\n",
       "\n",
       "            fig.imageObj.src = (window.URL || window.webkitURL).createObjectURL(\n",
       "                evt.data);\n",
       "            fig.updated_canvas_event();\n",
       "            fig.waiting = false;\n",
       "            return;\n",
       "        }\n",
       "        else if (typeof evt.data === 'string' && evt.data.slice(0, 21) == \"data:image/png;base64\") {\n",
       "            fig.imageObj.src = evt.data;\n",
       "            fig.updated_canvas_event();\n",
       "            fig.waiting = false;\n",
       "            return;\n",
       "        }\n",
       "\n",
       "        var msg = JSON.parse(evt.data);\n",
       "        var msg_type = msg['type'];\n",
       "\n",
       "        // Call the  \"handle_{type}\" callback, which takes\n",
       "        // the figure and JSON message as its only arguments.\n",
       "        try {\n",
       "            var callback = fig[\"handle_\" + msg_type];\n",
       "        } catch (e) {\n",
       "            console.log(\"No handler for the '\" + msg_type + \"' message type: \", msg);\n",
       "            return;\n",
       "        }\n",
       "\n",
       "        if (callback) {\n",
       "            try {\n",
       "                // console.log(\"Handling '\" + msg_type + \"' message: \", msg);\n",
       "                callback(fig, msg);\n",
       "            } catch (e) {\n",
       "                console.log(\"Exception inside the 'handler_\" + msg_type + \"' callback:\", e, e.stack, msg);\n",
       "            }\n",
       "        }\n",
       "    };\n",
       "}\n",
       "\n",
       "// from http://stackoverflow.com/questions/1114465/getting-mouse-location-in-canvas\n",
       "mpl.findpos = function(e) {\n",
       "    //this section is from http://www.quirksmode.org/js/events_properties.html\n",
       "    var targ;\n",
       "    if (!e)\n",
       "        e = window.event;\n",
       "    if (e.target)\n",
       "        targ = e.target;\n",
       "    else if (e.srcElement)\n",
       "        targ = e.srcElement;\n",
       "    if (targ.nodeType == 3) // defeat Safari bug\n",
       "        targ = targ.parentNode;\n",
       "\n",
       "    // jQuery normalizes the pageX and pageY\n",
       "    // pageX,Y are the mouse positions relative to the document\n",
       "    // offset() returns the position of the element relative to the document\n",
       "    var x = e.pageX - $(targ).offset().left;\n",
       "    var y = e.pageY - $(targ).offset().top;\n",
       "\n",
       "    return {\"x\": x, \"y\": y};\n",
       "};\n",
       "\n",
       "/*\n",
       " * return a copy of an object with only non-object keys\n",
       " * we need this to avoid circular references\n",
       " * http://stackoverflow.com/a/24161582/3208463\n",
       " */\n",
       "function simpleKeys (original) {\n",
       "  return Object.keys(original).reduce(function (obj, key) {\n",
       "    if (typeof original[key] !== 'object')\n",
       "        obj[key] = original[key]\n",
       "    return obj;\n",
       "  }, {});\n",
       "}\n",
       "\n",
       "mpl.figure.prototype.mouse_event = function(event, name) {\n",
       "    var canvas_pos = mpl.findpos(event)\n",
       "\n",
       "    if (name === 'button_press')\n",
       "    {\n",
       "        this.canvas.focus();\n",
       "        this.canvas_div.focus();\n",
       "    }\n",
       "\n",
       "    var x = canvas_pos.x * mpl.ratio;\n",
       "    var y = canvas_pos.y * mpl.ratio;\n",
       "\n",
       "    this.send_message(name, {x: x, y: y, button: event.button,\n",
       "                             step: event.step,\n",
       "                             guiEvent: simpleKeys(event)});\n",
       "\n",
       "    /* This prevents the web browser from automatically changing to\n",
       "     * the text insertion cursor when the button is pressed.  We want\n",
       "     * to control all of the cursor setting manually through the\n",
       "     * 'cursor' event from matplotlib */\n",
       "    event.preventDefault();\n",
       "    return false;\n",
       "}\n",
       "\n",
       "mpl.figure.prototype._key_event_extra = function(event, name) {\n",
       "    // Handle any extra behaviour associated with a key event\n",
       "}\n",
       "\n",
       "mpl.figure.prototype.key_event = function(event, name) {\n",
       "\n",
       "    // Prevent repeat events\n",
       "    if (name == 'key_press')\n",
       "    {\n",
       "        if (event.which === this._key)\n",
       "            return;\n",
       "        else\n",
       "            this._key = event.which;\n",
       "    }\n",
       "    if (name == 'key_release')\n",
       "        this._key = null;\n",
       "\n",
       "    var value = '';\n",
       "    if (event.ctrlKey && event.which != 17)\n",
       "        value += \"ctrl+\";\n",
       "    if (event.altKey && event.which != 18)\n",
       "        value += \"alt+\";\n",
       "    if (event.shiftKey && event.which != 16)\n",
       "        value += \"shift+\";\n",
       "\n",
       "    value += 'k';\n",
       "    value += event.which.toString();\n",
       "\n",
       "    this._key_event_extra(event, name);\n",
       "\n",
       "    this.send_message(name, {key: value,\n",
       "                             guiEvent: simpleKeys(event)});\n",
       "    return false;\n",
       "}\n",
       "\n",
       "mpl.figure.prototype.toolbar_button_onclick = function(name) {\n",
       "    if (name == 'download') {\n",
       "        this.handle_save(this, null);\n",
       "    } else {\n",
       "        this.send_message(\"toolbar_button\", {name: name});\n",
       "    }\n",
       "};\n",
       "\n",
       "mpl.figure.prototype.toolbar_button_onmouseover = function(tooltip) {\n",
       "    this.message.textContent = tooltip;\n",
       "};\n",
       "mpl.toolbar_items = [[\"Home\", \"Reset original view\", \"fa fa-home icon-home\", \"home\"], [\"Back\", \"Back to previous view\", \"fa fa-arrow-left icon-arrow-left\", \"back\"], [\"Forward\", \"Forward to next view\", \"fa fa-arrow-right icon-arrow-right\", \"forward\"], [\"\", \"\", \"\", \"\"], [\"Pan\", \"Pan axes with left mouse, zoom with right\", \"fa fa-arrows icon-move\", \"pan\"], [\"Zoom\", \"Zoom to rectangle\", \"fa fa-square-o icon-check-empty\", \"zoom\"], [\"\", \"\", \"\", \"\"], [\"Download\", \"Download plot\", \"fa fa-floppy-o icon-save\", \"download\"]];\n",
       "\n",
       "mpl.extensions = [\"eps\", \"pdf\", \"png\", \"ps\", \"raw\", \"svg\"];\n",
       "\n",
       "mpl.default_extension = \"png\";var comm_websocket_adapter = function(comm) {\n",
       "    // Create a \"websocket\"-like object which calls the given IPython comm\n",
       "    // object with the appropriate methods. Currently this is a non binary\n",
       "    // socket, so there is still some room for performance tuning.\n",
       "    var ws = {};\n",
       "\n",
       "    ws.close = function() {\n",
       "        comm.close()\n",
       "    };\n",
       "    ws.send = function(m) {\n",
       "        //console.log('sending', m);\n",
       "        comm.send(m);\n",
       "    };\n",
       "    // Register the callback with on_msg.\n",
       "    comm.on_msg(function(msg) {\n",
       "        //console.log('receiving', msg['content']['data'], msg);\n",
       "        // Pass the mpl event to the overridden (by mpl) onmessage function.\n",
       "        ws.onmessage(msg['content']['data'])\n",
       "    });\n",
       "    return ws;\n",
       "}\n",
       "\n",
       "mpl.mpl_figure_comm = function(comm, msg) {\n",
       "    // This is the function which gets called when the mpl process\n",
       "    // starts-up an IPython Comm through the \"matplotlib\" channel.\n",
       "\n",
       "    var id = msg.content.data.id;\n",
       "    // Get hold of the div created by the display call when the Comm\n",
       "    // socket was opened in Python.\n",
       "    var element = $(\"#\" + id);\n",
       "    var ws_proxy = comm_websocket_adapter(comm)\n",
       "\n",
       "    function ondownload(figure, format) {\n",
       "        window.open(figure.imageObj.src);\n",
       "    }\n",
       "\n",
       "    var fig = new mpl.figure(id, ws_proxy,\n",
       "                           ondownload,\n",
       "                           element.get(0));\n",
       "\n",
       "    // Call onopen now - mpl needs it, as it is assuming we've passed it a real\n",
       "    // web socket which is closed, not our websocket->open comm proxy.\n",
       "    ws_proxy.onopen();\n",
       "\n",
       "    fig.parent_element = element.get(0);\n",
       "    fig.cell_info = mpl.find_output_cell(\"<div id='\" + id + \"'></div>\");\n",
       "    if (!fig.cell_info) {\n",
       "        console.error(\"Failed to find cell for figure\", id, fig);\n",
       "        return;\n",
       "    }\n",
       "\n",
       "    var output_index = fig.cell_info[2]\n",
       "    var cell = fig.cell_info[0];\n",
       "\n",
       "};\n",
       "\n",
       "mpl.figure.prototype.handle_close = function(fig, msg) {\n",
       "    var width = fig.canvas.width/mpl.ratio\n",
       "    fig.root.unbind('remove')\n",
       "\n",
       "    // Update the output cell to use the data from the current canvas.\n",
       "    fig.push_to_output();\n",
       "    var dataURL = fig.canvas.toDataURL();\n",
       "    // Re-enable the keyboard manager in IPython - without this line, in FF,\n",
       "    // the notebook keyboard shortcuts fail.\n",
       "    IPython.keyboard_manager.enable()\n",
       "    $(fig.parent_element).html('<img src=\"' + dataURL + '\" width=\"' + width + '\">');\n",
       "    fig.close_ws(fig, msg);\n",
       "}\n",
       "\n",
       "mpl.figure.prototype.close_ws = function(fig, msg){\n",
       "    fig.send_message('closing', msg);\n",
       "    // fig.ws.close()\n",
       "}\n",
       "\n",
       "mpl.figure.prototype.push_to_output = function(remove_interactive) {\n",
       "    // Turn the data on the canvas into data in the output cell.\n",
       "    var width = this.canvas.width/mpl.ratio\n",
       "    var dataURL = this.canvas.toDataURL();\n",
       "    this.cell_info[1]['text/html'] = '<img src=\"' + dataURL + '\" width=\"' + width + '\">';\n",
       "}\n",
       "\n",
       "mpl.figure.prototype.updated_canvas_event = function() {\n",
       "    // Tell IPython that the notebook contents must change.\n",
       "    IPython.notebook.set_dirty(true);\n",
       "    this.send_message(\"ack\", {});\n",
       "    var fig = this;\n",
       "    // Wait a second, then push the new image to the DOM so\n",
       "    // that it is saved nicely (might be nice to debounce this).\n",
       "    setTimeout(function () { fig.push_to_output() }, 1000);\n",
       "}\n",
       "\n",
       "mpl.figure.prototype._init_toolbar = function() {\n",
       "    var fig = this;\n",
       "\n",
       "    var nav_element = $('<div/>');\n",
       "    nav_element.attr('style', 'width: 100%');\n",
       "    this.root.append(nav_element);\n",
       "\n",
       "    // Define a callback function for later on.\n",
       "    function toolbar_event(event) {\n",
       "        return fig.toolbar_button_onclick(event['data']);\n",
       "    }\n",
       "    function toolbar_mouse_event(event) {\n",
       "        return fig.toolbar_button_onmouseover(event['data']);\n",
       "    }\n",
       "\n",
       "    for(var toolbar_ind in mpl.toolbar_items){\n",
       "        var name = mpl.toolbar_items[toolbar_ind][0];\n",
       "        var tooltip = mpl.toolbar_items[toolbar_ind][1];\n",
       "        var image = mpl.toolbar_items[toolbar_ind][2];\n",
       "        var method_name = mpl.toolbar_items[toolbar_ind][3];\n",
       "\n",
       "        if (!name) { continue; };\n",
       "\n",
       "        var button = $('<button class=\"btn btn-default\" href=\"#\" title=\"' + name + '\"><i class=\"fa ' + image + ' fa-lg\"></i></button>');\n",
       "        button.click(method_name, toolbar_event);\n",
       "        button.mouseover(tooltip, toolbar_mouse_event);\n",
       "        nav_element.append(button);\n",
       "    }\n",
       "\n",
       "    // Add the status bar.\n",
       "    var status_bar = $('<span class=\"mpl-message\" style=\"text-align:right; float: right;\"/>');\n",
       "    nav_element.append(status_bar);\n",
       "    this.message = status_bar[0];\n",
       "\n",
       "    // Add the close button to the window.\n",
       "    var buttongrp = $('<div class=\"btn-group inline pull-right\"></div>');\n",
       "    var button = $('<button class=\"btn btn-mini btn-primary\" href=\"#\" title=\"Stop Interaction\"><i class=\"fa fa-power-off icon-remove icon-large\"></i></button>');\n",
       "    button.click(function (evt) { fig.handle_close(fig, {}); } );\n",
       "    button.mouseover('Stop Interaction', toolbar_mouse_event);\n",
       "    buttongrp.append(button);\n",
       "    var titlebar = this.root.find($('.ui-dialog-titlebar'));\n",
       "    titlebar.prepend(buttongrp);\n",
       "}\n",
       "\n",
       "mpl.figure.prototype._root_extra_style = function(el){\n",
       "    var fig = this\n",
       "    el.on(\"remove\", function(){\n",
       "\tfig.close_ws(fig, {});\n",
       "    });\n",
       "}\n",
       "\n",
       "mpl.figure.prototype._canvas_extra_style = function(el){\n",
       "    // this is important to make the div 'focusable\n",
       "    el.attr('tabindex', 0)\n",
       "    // reach out to IPython and tell the keyboard manager to turn it's self\n",
       "    // off when our div gets focus\n",
       "\n",
       "    // location in version 3\n",
       "    if (IPython.notebook.keyboard_manager) {\n",
       "        IPython.notebook.keyboard_manager.register_events(el);\n",
       "    }\n",
       "    else {\n",
       "        // location in version 2\n",
       "        IPython.keyboard_manager.register_events(el);\n",
       "    }\n",
       "\n",
       "}\n",
       "\n",
       "mpl.figure.prototype._key_event_extra = function(event, name) {\n",
       "    var manager = IPython.notebook.keyboard_manager;\n",
       "    if (!manager)\n",
       "        manager = IPython.keyboard_manager;\n",
       "\n",
       "    // Check for shift+enter\n",
       "    if (event.shiftKey && event.which == 13) {\n",
       "        this.canvas_div.blur();\n",
       "        // select the cell after this one\n",
       "        var index = IPython.notebook.find_cell_index(this.cell_info[0]);\n",
       "        IPython.notebook.select(index + 1);\n",
       "    }\n",
       "}\n",
       "\n",
       "mpl.figure.prototype.handle_save = function(fig, msg) {\n",
       "    fig.ondownload(fig, null);\n",
       "}\n",
       "\n",
       "\n",
       "mpl.find_output_cell = function(html_output) {\n",
       "    // Return the cell and output element which can be found *uniquely* in the notebook.\n",
       "    // Note - this is a bit hacky, but it is done because the \"notebook_saving.Notebook\"\n",
       "    // IPython event is triggered only after the cells have been serialised, which for\n",
       "    // our purposes (turning an active figure into a static one), is too late.\n",
       "    var cells = IPython.notebook.get_cells();\n",
       "    var ncells = cells.length;\n",
       "    for (var i=0; i<ncells; i++) {\n",
       "        var cell = cells[i];\n",
       "        if (cell.cell_type === 'code'){\n",
       "            for (var j=0; j<cell.output_area.outputs.length; j++) {\n",
       "                var data = cell.output_area.outputs[j];\n",
       "                if (data.data) {\n",
       "                    // IPython >= 3 moved mimebundle to data attribute of output\n",
       "                    data = data.data;\n",
       "                }\n",
       "                if (data['text/html'] == html_output) {\n",
       "                    return [cell, data, j];\n",
       "                }\n",
       "            }\n",
       "        }\n",
       "    }\n",
       "}\n",
       "\n",
       "// Register the function which deals with the matplotlib target/channel.\n",
       "// The kernel may be null if the page has been refreshed.\n",
       "if (IPython.notebook.kernel != null) {\n",
       "    IPython.notebook.kernel.comm_manager.register_target('matplotlib', mpl.mpl_figure_comm);\n",
       "}\n"
      ],
      "text/plain": [
       "<IPython.core.display.Javascript object>"
      ]
     },
     "metadata": {},
     "output_type": "display_data"
    },
    {
     "data": {
      "text/html": [
       "<img src=\"data:image/png;base64,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\" width=\"640\">"
      ],
      "text/plain": [
       "<IPython.core.display.HTML object>"
      ]
     },
     "metadata": {},
     "output_type": "display_data"
    }
   ],
   "source": [
    "import scipy.signal\n",
    "import matplotlib.pyplot as plt\n",
    "#Start with a unit pulse as input x:\n",
    "x=np.zeros(30)\n",
    "x[0] = 1\n",
    "#B and A are given as before:\n",
    "A=[1,-0.9]; \n",
    "B=[1];\n",
    "#Now calculate the impulse response:\n",
    "y=scipy.signal.lfilter(B,A,x);\n",
    "plt.figure()\n",
    "plt.stem(y, use_line_collection=True) \n",
    "plt.xlabel('Sample')\n",
    "plt.ylabel('Value')\n",
    "plt.grid()\n"
   ]
  },
  {
   "cell_type": "markdown",
   "metadata": {
    "slideshow": {
     "slide_type": "-"
    }
   },
   "source": [
    "Here we can see the indeed exponetial decaying function (the sequence $ir(n)=p^{n}$ for p=0.9). In this way we can also test more complicated IIR filters. \n",
    "\n",
    "This exponential decaying impulse response again shows the stability of the filter, which was to be expected because the pole of its transfer function in the z-domain is placed at z=0.9, and hence inside the unit-circle! "
   ]
  },
  {
   "cell_type": "code",
   "execution_count": null,
   "metadata": {
    "slideshow": {
     "slide_type": "-"
    }
   },
   "outputs": [],
   "source": []
  }
 ],
 "metadata": {
  "kernelspec": {
   "display_name": "Python 3",
   "language": "python",
   "name": "python3"
  },
  "language_info": {
   "codemirror_mode": {
    "name": "ipython",
    "version": 3
   },
   "file_extension": ".py",
   "mimetype": "text/x-python",
   "name": "python",
   "nbconvert_exporter": "python",
   "pygments_lexer": "ipython3",
   "version": "3.7.5"
  },
  "livereveal": {
   "rise": {
    "height": "90%",
    "width": "90%"
   },
   "scroll": true,
   "theme": "sky",
   "transition": "zoom"
  },
  "widgets": {
   "application/vnd.jupyter.widget-state+json": {
    "state": {
     "010411b23dde4ac9b0a3030e14cf116a": {
      "model_module": "@jupyter-widgets/controls",
      "model_module_version": "1.5.0",
      "model_name": "ButtonModel",
      "state": {
       "description": "Start",
       "layout": "IPY_MODEL_6a3bf4da31de478d94493fb7e7bf2612",
       "style": "IPY_MODEL_28c5906b489444688437bc5e2decf81a"
      }
     },
     "0124c108c90b41408309aa3aac820c5d": {
      "model_module": "@jupyter-widgets/controls",
      "model_module_version": "1.5.0",
      "model_name": "DescriptionStyleModel",
      "state": {
       "description_width": ""
      }
     },
     "015addf4649b4d41b3ee5a4e08b1feef": {
      "model_module": "@jupyter-widgets/controls",
      "model_module_version": "1.5.0",
      "model_name": "DescriptionStyleModel",
      "state": {
       "description_width": ""
      }
     },
     "01a5f4dbc4064fd3a34973eb916c31c5": {
      "model_module": "@jupyter-widgets/controls",
      "model_module_version": "1.5.0",
      "model_name": "ToggleButtonModel",
      "state": {
       "description": "Stop",
       "disabled": true,
       "layout": "IPY_MODEL_05ed0d85918542ce8e2d2b5a11d7d46c",
       "style": "IPY_MODEL_11beb2d8d5cb46ccbbbf8aa79a579437"
      }
     },
     "02c9485b88554eb9992be45d9860b92e": {
      "model_module": "@jupyter-widgets/base",
      "model_module_version": "1.2.0",
      "model_name": "LayoutModel",
      "state": {}
     },
     "05ed0d85918542ce8e2d2b5a11d7d46c": {
      "model_module": "@jupyter-widgets/base",
      "model_module_version": "1.2.0",
      "model_name": "LayoutModel",
      "state": {}
     },
     "070df1bc17ac48328bf07a4c6bbf4386": {
      "model_module": "@jupyter-widgets/base",
      "model_module_version": "1.2.0",
      "model_name": "LayoutModel",
      "state": {}
     },
     "08bcfe0454894f769d36cf36a969a89c": {
      "model_module": "@jupyter-widgets/controls",
      "model_module_version": "1.5.0",
      "model_name": "CheckboxModel",
      "state": {
       "description": "Downsampling with Zeros",
       "disabled": false,
       "layout": "IPY_MODEL_ec8397c2b6e5444587135da33d9144fd",
       "style": "IPY_MODEL_3fe6660526e44cc19947700d461a8a9d",
       "value": false
      }
     },
     "0b8e46359cee465aa82778a67f6c0b96": {
      "model_module": "@jupyter-widgets/base",
      "model_module_version": "1.2.0",
      "model_name": "LayoutModel",
      "state": {}
     },
     "0b9a6a693871477ebf610c47a13ce72a": {
      "model_module": "@jupyter-widgets/controls",
      "model_module_version": "1.5.0",
      "model_name": "DescriptionStyleModel",
      "state": {
       "description_width": ""
      }
     },
     "0fbffec0398544c78cc392a8f3387f8e": {
      "model_module": "@jupyter-widgets/base",
      "model_module_version": "1.2.0",
      "model_name": "LayoutModel",
      "state": {}
     },
     "11649f3e118b4488af7188e4a8e73291": {
      "model_module": "@jupyter-widgets/base",
      "model_module_version": "1.2.0",
      "model_name": "LayoutModel",
      "state": {}
     },
     "11beb2d8d5cb46ccbbbf8aa79a579437": {
      "model_module": "@jupyter-widgets/controls",
      "model_module_version": "1.5.0",
      "model_name": "DescriptionStyleModel",
      "state": {
       "description_width": ""
      }
     },
     "12c1d6bd34634a1fb100dddc180fee8c": {
      "model_module": "@jupyter-widgets/controls",
      "model_module_version": "1.5.0",
      "model_name": "ToggleButtonModel",
      "state": {
       "description": "Stop",
       "disabled": true,
       "layout": "IPY_MODEL_cbfc931a5e68487a91bda9c791d27a54",
       "style": "IPY_MODEL_154ee137a89643c596b033dd8318706c",
       "value": true
      }
     },
     "1372b726ab434f9b89571f6da34c9e62": {
      "model_module": "@jupyter-widgets/base",
      "model_module_version": "1.2.0",
      "model_name": "LayoutModel",
      "state": {}
     },
     "14129132b8da4c588bdb14db56917502": {
      "model_module": "@jupyter-widgets/controls",
      "model_module_version": "1.5.0",
      "model_name": "DescriptionStyleModel",
      "state": {
       "description_width": ""
      }
     },
     "14f182217bd54f0eab515df20a2b5138": {
      "model_module": "@jupyter-widgets/base",
      "model_module_version": "1.2.0",
      "model_name": "LayoutModel",
      "state": {}
     },
     "154ee137a89643c596b033dd8318706c": {
      "model_module": "@jupyter-widgets/controls",
      "model_module_version": "1.5.0",
      "model_name": "DescriptionStyleModel",
      "state": {
       "description_width": ""
      }
     },
     "16fff80d180c43a599f5bb2e9b551989": {
      "model_module": "@jupyter-widgets/controls",
      "model_module_version": "1.5.0",
      "model_name": "DescriptionStyleModel",
      "state": {
       "description_width": ""
      }
     },
     "1a8f9d0d68954f4fa2ce1361633bde98": {
      "model_module": "@jupyter-widgets/controls",
      "model_module_version": "1.5.0",
      "model_name": "DescriptionStyleModel",
      "state": {
       "description_width": ""
      }
     },
     "1b001b2ac3e847549ef031ffa10555a7": {
      "model_module": "@jupyter-widgets/base",
      "model_module_version": "1.2.0",
      "model_name": "LayoutModel",
      "state": {}
     },
     "1d77796b884c4861a25db47632b8d489": {
      "model_module": "@jupyter-widgets/controls",
      "model_module_version": "1.5.0",
      "model_name": "ButtonStyleModel",
      "state": {}
     },
     "1e4739a8c3694e0184b1d7a856de0e23": {
      "model_module": "@jupyter-widgets/controls",
      "model_module_version": "1.5.0",
      "model_name": "DescriptionStyleModel",
      "state": {
       "description_width": ""
      }
     },
     "1f7c5c8eb1f645d0b0b4ffb1db9e262b": {
      "model_module": "@jupyter-widgets/controls",
      "model_module_version": "1.5.0",
      "model_name": "DescriptionStyleModel",
      "state": {
       "description_width": ""
      }
     },
     "224bcb4dea094163994aaa3f0121c825": {
      "model_module": "@jupyter-widgets/controls",
      "model_module_version": "1.5.0",
      "model_name": "DescriptionStyleModel",
      "state": {
       "description_width": ""
      }
     },
     "234045dd6a114ecda45e0086e0d54e99": {
      "model_module": "@jupyter-widgets/base",
      "model_module_version": "1.2.0",
      "model_name": "LayoutModel",
      "state": {}
     },
     "238506e028044b5b881ef74c8ad59846": {
      "model_module": "@jupyter-widgets/controls",
      "model_module_version": "1.5.0",
      "model_name": "BoundedIntTextModel",
      "state": {
       "description": "Bit-Depth:",
       "layout": "IPY_MODEL_56ad1c5dc11f482f9602ecf86f593745",
       "max": 16,
       "min": 2,
       "style": "IPY_MODEL_f832049896fd43d3a027ac200b0d333a",
       "value": 8
      }
     },
     "25438168806e49268b476a257216e7dd": {
      "model_module": "@jupyter-widgets/controls",
      "model_module_version": "1.5.0",
      "model_name": "HBoxModel",
      "state": {
       "children": [
        "IPY_MODEL_ad19b104bd2c4274827935f0bc642e1c"
       ],
       "layout": "IPY_MODEL_266d77a5a8bf4ba0b75999d1ff5ec2ba"
      }
     },
     "266d77a5a8bf4ba0b75999d1ff5ec2ba": {
      "model_module": "@jupyter-widgets/base",
      "model_module_version": "1.2.0",
      "model_name": "LayoutModel",
      "state": {}
     },
     "2770a82d9d574867b924b252a6697fcb": {
      "model_module": "@jupyter-widgets/controls",
      "model_module_version": "1.5.0",
      "model_name": "CheckboxModel",
      "state": {
       "description": "Downsampling with Zeros",
       "disabled": false,
       "layout": "IPY_MODEL_827b4767fde3485eb5c2b84a93302b94",
       "style": "IPY_MODEL_9e41a52328224716afc6e66f01c14e6e",
       "value": true
      }
     },
     "28c5906b489444688437bc5e2decf81a": {
      "model_module": "@jupyter-widgets/controls",
      "model_module_version": "1.5.0",
      "model_name": "ButtonStyleModel",
      "state": {}
     },
     "2a17130f6ba1491f959d24bee45727aa": {
      "model_module": "@jupyter-widgets/controls",
      "model_module_version": "1.5.0",
      "model_name": "ToggleButtonModel",
      "state": {
       "description": "Stop",
       "layout": "IPY_MODEL_9eefd0731f5c4392a5acde7f1e933fd5",
       "style": "IPY_MODEL_1f7c5c8eb1f645d0b0b4ffb1db9e262b",
       "value": true
      }
     },
     "2aa28291b0e94968b90bc072bad5692c": {
      "model_module": "@jupyter-widgets/controls",
      "model_module_version": "1.5.0",
      "model_name": "DescriptionStyleModel",
      "state": {
       "description_width": ""
      }
     },
     "2c0c1ccee30d431c9040ada58fd71129": {
      "model_module": "@jupyter-widgets/base",
      "model_module_version": "1.2.0",
      "model_name": "LayoutModel",
      "state": {}
     },
     "2f2f8d6d9d194d8d81aa9445ae96bc2a": {
      "model_module": "@jupyter-widgets/controls",
      "model_module_version": "1.5.0",
      "model_name": "DescriptionStyleModel",
      "state": {
       "description_width": ""
      }
     },
     "2f59316910c14ba5a89beb99d1c86a93": {
      "model_module": "@jupyter-widgets/controls",
      "model_module_version": "1.5.0",
      "model_name": "ToggleButtonModel",
      "state": {
       "description": "Stop",
       "layout": "IPY_MODEL_4d986dc237e54cb58da0435fa72d0f38",
       "style": "IPY_MODEL_48d6266121a349d48f11378c6804ee61",
       "value": true
      }
     },
     "3121709f5a264cf080f39aa0e49e7279": {
      "model_module": "@jupyter-widgets/controls",
      "model_module_version": "1.5.0",
      "model_name": "ToggleButtonModel",
      "state": {
       "description": "Stop",
       "layout": "IPY_MODEL_f469e7d7b4a541af8a5340dd1d099999",
       "style": "IPY_MODEL_454bac39d61a47178f95831b6cee19a4"
      }
     },
     "34f16d143e48488090e222e4ed23e9b8": {
      "model_module": "@jupyter-widgets/controls",
      "model_module_version": "1.5.0",
      "model_name": "DescriptionStyleModel",
      "state": {
       "description_width": ""
      }
     },
     "367c6ac4f00e4104ba6837f8104dfb9f": {
      "model_module": "@jupyter-widgets/controls",
      "model_module_version": "1.5.0",
      "model_name": "DescriptionStyleModel",
      "state": {
       "description_width": ""
      }
     },
     "36cef02e3ac343f597afecf7a0da19c4": {
      "model_module": "@jupyter-widgets/base",
      "model_module_version": "1.2.0",
      "model_name": "LayoutModel",
      "state": {}
     },
     "37389e5b17cf48e3a0021f24e6b830b3": {
      "model_module": "@jupyter-widgets/controls",
      "model_module_version": "1.5.0",
      "model_name": "DescriptionStyleModel",
      "state": {
       "description_width": ""
      }
     },
     "3c934745843a4bdb9ecd61d569af4ee9": {
      "model_module": "@jupyter-widgets/base",
      "model_module_version": "1.2.0",
      "model_name": "LayoutModel",
      "state": {}
     },
     "3fe6660526e44cc19947700d461a8a9d": {
      "model_module": "@jupyter-widgets/controls",
      "model_module_version": "1.5.0",
      "model_name": "DescriptionStyleModel",
      "state": {
       "description_width": ""
      }
     },
     "4181a03ad26243f18c1afcbac62c4b93": {
      "model_module": "@jupyter-widgets/controls",
      "model_module_version": "1.5.0",
      "model_name": "DropdownModel",
      "state": {
       "_options_labels": [
        "Mid-Tread",
        "Mid-Rise"
       ],
       "description": "Quantization Type:",
       "index": 0,
       "layout": "IPY_MODEL_0b8e46359cee465aa82778a67f6c0b96",
       "style": "IPY_MODEL_16fff80d180c43a599f5bb2e9b551989"
      }
     },
     "446d80c629a24e2fa2136e03dfc9d28b": {
      "model_module": "@jupyter-widgets/base",
      "model_module_version": "1.2.0",
      "model_name": "LayoutModel",
      "state": {}
     },
     "454bac39d61a47178f95831b6cee19a4": {
      "model_module": "@jupyter-widgets/controls",
      "model_module_version": "1.5.0",
      "model_name": "DescriptionStyleModel",
      "state": {
       "description_width": ""
      }
     },
     "462478cddfff483e922a3aa095a2e610": {
      "model_module": "@jupyter-widgets/controls",
      "model_module_version": "1.5.0",
      "model_name": "CheckboxModel",
      "state": {
       "description": "$\\mu$-Law",
       "disabled": false,
       "layout": "IPY_MODEL_78c567360a394eb19dabc832927f8693",
       "style": "IPY_MODEL_14129132b8da4c588bdb14db56917502",
       "value": false
      }
     },
     "476db36e2ef8495598b90265cb380580": {
      "model_module": "@jupyter-widgets/base",
      "model_module_version": "1.2.0",
      "model_name": "LayoutModel",
      "state": {}
     },
     "48d6266121a349d48f11378c6804ee61": {
      "model_module": "@jupyter-widgets/controls",
      "model_module_version": "1.5.0",
      "model_name": "DescriptionStyleModel",
      "state": {
       "description_width": ""
      }
     },
     "4d986dc237e54cb58da0435fa72d0f38": {
      "model_module": "@jupyter-widgets/base",
      "model_module_version": "1.2.0",
      "model_name": "LayoutModel",
      "state": {}
     },
     "4db559233bc54c04b701ff71ebc1d55d": {
      "model_module": "@jupyter-widgets/controls",
      "model_module_version": "1.5.0",
      "model_name": "DescriptionStyleModel",
      "state": {
       "description_width": ""
      }
     },
     "4e02c6cc9f2040c0924a4ba1a152edad": {
      "model_module": "@jupyter-widgets/controls",
      "model_module_version": "1.5.0",
      "model_name": "CheckboxModel",
      "state": {
       "description": "Downsampling with Zeros",
       "disabled": false,
       "layout": "IPY_MODEL_8bfde2f187c84f8c936d80d6ab9dd110",
       "style": "IPY_MODEL_6f86b5e8c23b4820bba2a6a839d624b3",
       "value": false
      }
     },
     "50e455fde9824f468875e0b897625f4c": {
      "model_module": "@jupyter-widgets/controls",
      "model_module_version": "1.5.0",
      "model_name": "DescriptionStyleModel",
      "state": {
       "description_width": ""
      }
     },
     "510465f7cad54c2db0e18fd7acd3311a": {
      "model_module": "@jupyter-widgets/base",
      "model_module_version": "1.2.0",
      "model_name": "LayoutModel",
      "state": {}
     },
     "5254bdb17cad4908be4e921410737e7b": {
      "model_module": "@jupyter-widgets/controls",
      "model_module_version": "1.5.0",
      "model_name": "DescriptionStyleModel",
      "state": {
       "description_width": ""
      }
     },
     "56ad1c5dc11f482f9602ecf86f593745": {
      "model_module": "@jupyter-widgets/base",
      "model_module_version": "1.2.0",
      "model_name": "LayoutModel",
      "state": {}
     },
     "56c77fc92d1f40619026d3fbdd034c3a": {
      "model_module": "@jupyter-widgets/controls",
      "model_module_version": "1.5.0",
      "model_name": "ToggleButtonModel",
      "state": {
       "description": "Stop",
       "disabled": true,
       "layout": "IPY_MODEL_e099daeead614c06ba66a3b6aa2a6519",
       "style": "IPY_MODEL_1e4739a8c3694e0184b1d7a856de0e23",
       "value": true
      }
     },
     "5d021f3d3f104103af22aff0c388a31d": {
      "model_module": "@jupyter-widgets/controls",
      "model_module_version": "1.5.0",
      "model_name": "ToggleButtonModel",
      "state": {
       "description": "Stop",
       "disabled": true,
       "layout": "IPY_MODEL_c63e57f2060841f7aa9fb386480ae645",
       "style": "IPY_MODEL_ec805846f5734669b7fcc4fd0ea88cde"
      }
     },
     "5e6239c4e5a14abba70b63e1be1f8edc": {
      "model_module": "@jupyter-widgets/controls",
      "model_module_version": "1.5.0",
      "model_name": "ToggleButtonModel",
      "state": {
       "description": "Stop",
       "disabled": true,
       "layout": "IPY_MODEL_070df1bc17ac48328bf07a4c6bbf4386",
       "style": "IPY_MODEL_cae0d9b30a044bcdbb4646d2a824b06f",
       "value": true
      }
     },
     "60bf9fcb59ec405fbb5f47ca2b2cd2ff": {
      "model_module": "@jupyter-widgets/controls",
      "model_module_version": "1.5.0",
      "model_name": "DescriptionStyleModel",
      "state": {
       "description_width": ""
      }
     },
     "617d2172171e4d4295d316b69ab86083": {
      "model_module": "@jupyter-widgets/base",
      "model_module_version": "1.2.0",
      "model_name": "LayoutModel",
      "state": {}
     },
     "654babd4900b4e1d91e2eb5889a5db49": {
      "model_module": "@jupyter-widgets/base",
      "model_module_version": "1.2.0",
      "model_name": "LayoutModel",
      "state": {}
     },
     "6a3bf4da31de478d94493fb7e7bf2612": {
      "model_module": "@jupyter-widgets/base",
      "model_module_version": "1.2.0",
      "model_name": "LayoutModel",
      "state": {}
     },
     "6f85734c28af439a8da835c83e71c0c6": {
      "model_module": "@jupyter-widgets/controls",
      "model_module_version": "1.5.0",
      "model_name": "ButtonModel",
      "state": {
       "description": "Stop",
       "layout": "IPY_MODEL_617d2172171e4d4295d316b69ab86083",
       "style": "IPY_MODEL_1d77796b884c4861a25db47632b8d489"
      }
     },
     "6f86b5e8c23b4820bba2a6a839d624b3": {
      "model_module": "@jupyter-widgets/controls",
      "model_module_version": "1.5.0",
      "model_name": "DescriptionStyleModel",
      "state": {
       "description_width": ""
      }
     },
     "6fdb7d274eab44d2aaf38dd4dcfa0511": {
      "model_module": "@jupyter-widgets/base",
      "model_module_version": "1.2.0",
      "model_name": "LayoutModel",
      "state": {}
     },
     "72a59b1fcaff4177ba91b8edb4fb23bd": {
      "model_module": "@jupyter-widgets/controls",
      "model_module_version": "1.5.0",
      "model_name": "CheckboxModel",
      "state": {
       "description": "Downsampling with Zeros",
       "disabled": false,
       "layout": "IPY_MODEL_1372b726ab434f9b89571f6da34c9e62",
       "style": "IPY_MODEL_2aa28291b0e94968b90bc072bad5692c",
       "value": false
      }
     },
     "739b843557fd4432826a28261e5b827e": {
      "model_module": "@jupyter-widgets/controls",
      "model_module_version": "1.5.0",
      "model_name": "CheckboxModel",
      "state": {
       "description": "Downsampling with Zeros",
       "disabled": false,
       "layout": "IPY_MODEL_98cc8cdb6e87466a8f357e995b2a13e9",
       "style": "IPY_MODEL_224bcb4dea094163994aaa3f0121c825",
       "value": false
      }
     },
     "73b4db0032014d44a57d71fb87786ee8": {
      "model_module": "@jupyter-widgets/controls",
      "model_module_version": "1.5.0",
      "model_name": "CheckboxModel",
      "state": {
       "description": "Downsampling with Zeros",
       "disabled": false,
       "layout": "IPY_MODEL_446d80c629a24e2fa2136e03dfc9d28b",
       "style": "IPY_MODEL_4db559233bc54c04b701ff71ebc1d55d",
       "value": false
      }
     },
     "779d357055284d7d839ee1ba611221e8": {
      "model_module": "@jupyter-widgets/base",
      "model_module_version": "1.2.0",
      "model_name": "LayoutModel",
      "state": {}
     },
     "7836a2e5f5404d26ac461945a2ea0619": {
      "model_module": "@jupyter-widgets/controls",
      "model_module_version": "1.5.0",
      "model_name": "CheckboxModel",
      "state": {
       "description": "Downsampling with Zeros",
       "disabled": false,
       "layout": "IPY_MODEL_e8f0676ca8644d3ea28ffb8dd3c7964a",
       "style": "IPY_MODEL_dbd4fc6f05344d3893968667ea288e00",
       "value": true
      }
     },
     "78c567360a394eb19dabc832927f8693": {
      "model_module": "@jupyter-widgets/base",
      "model_module_version": "1.2.0",
      "model_name": "LayoutModel",
      "state": {}
     },
     "7bec54694ea94b16aa7ddae3004a6907": {
      "model_module": "@jupyter-widgets/controls",
      "model_module_version": "1.5.0",
      "model_name": "HBoxModel",
      "state": {
       "children": [
        "IPY_MODEL_238506e028044b5b881ef74c8ad59846"
       ],
       "layout": "IPY_MODEL_234045dd6a114ecda45e0086e0d54e99"
      }
     },
     "7f64dea70b79470aa30508c8f0c20150": {
      "model_module": "@jupyter-widgets/controls",
      "model_module_version": "1.5.0",
      "model_name": "ToggleButtonModel",
      "state": {
       "description": "Stop",
       "layout": "IPY_MODEL_779d357055284d7d839ee1ba611221e8",
       "style": "IPY_MODEL_81f45b5f76104f8a980503f3e39332bb",
       "value": true
      }
     },
     "81f45b5f76104f8a980503f3e39332bb": {
      "model_module": "@jupyter-widgets/controls",
      "model_module_version": "1.5.0",
      "model_name": "DescriptionStyleModel",
      "state": {
       "description_width": ""
      }
     },
     "827b4767fde3485eb5c2b84a93302b94": {
      "model_module": "@jupyter-widgets/base",
      "model_module_version": "1.2.0",
      "model_name": "LayoutModel",
      "state": {}
     },
     "89d29651e3da4f80ade582061a753d91": {
      "model_module": "@jupyter-widgets/controls",
      "model_module_version": "1.5.0",
      "model_name": "ToggleButtonModel",
      "state": {
       "description": "Stop",
       "layout": "IPY_MODEL_2c0c1ccee30d431c9040ada58fd71129",
       "style": "IPY_MODEL_50e455fde9824f468875e0b897625f4c",
       "value": true
      }
     },
     "8aeb4d884e904dfe8c13404fefd0ef6f": {
      "model_module": "@jupyter-widgets/controls",
      "model_module_version": "1.5.0",
      "model_name": "BoundedIntTextModel",
      "state": {
       "description": "Bit-Depth:",
       "layout": "IPY_MODEL_a512d148087f4555b6bceeca8d4ea7a2",
       "max": 16,
       "min": 2,
       "style": "IPY_MODEL_5254bdb17cad4908be4e921410737e7b",
       "value": 8
      }
     },
     "8bfde2f187c84f8c936d80d6ab9dd110": {
      "model_module": "@jupyter-widgets/base",
      "model_module_version": "1.2.0",
      "model_name": "LayoutModel",
      "state": {}
     },
     "8f63fda556ae49eea3ef4be03fdd736a": {
      "model_module": "@jupyter-widgets/controls",
      "model_module_version": "1.5.0",
      "model_name": "ToggleButtonModel",
      "state": {
       "description": "Stop",
       "layout": "IPY_MODEL_ae6ab56d84d049e8b3a4a6453ee62cb7",
       "style": "IPY_MODEL_34f16d143e48488090e222e4ed23e9b8"
      }
     },
     "94b8806eb4eb41c29262f6f79153bdaa": {
      "model_module": "@jupyter-widgets/base",
      "model_module_version": "1.2.0",
      "model_name": "LayoutModel",
      "state": {}
     },
     "98cc8cdb6e87466a8f357e995b2a13e9": {
      "model_module": "@jupyter-widgets/base",
      "model_module_version": "1.2.0",
      "model_name": "LayoutModel",
      "state": {}
     },
     "9e41a52328224716afc6e66f01c14e6e": {
      "model_module": "@jupyter-widgets/controls",
      "model_module_version": "1.5.0",
      "model_name": "DescriptionStyleModel",
      "state": {
       "description_width": ""
      }
     },
     "9eefd0731f5c4392a5acde7f1e933fd5": {
      "model_module": "@jupyter-widgets/base",
      "model_module_version": "1.2.0",
      "model_name": "LayoutModel",
      "state": {}
     },
     "a105b9301e4e467b8f27efd88b0dd027": {
      "model_module": "@jupyter-widgets/controls",
      "model_module_version": "1.5.0",
      "model_name": "CheckboxModel",
      "state": {
       "description": "$\\mu$-Law",
       "disabled": false,
       "layout": "IPY_MODEL_02c9485b88554eb9992be45d9860b92e",
       "style": "IPY_MODEL_37389e5b17cf48e3a0021f24e6b830b3",
       "value": false
      }
     },
     "a1f23f60b3804a438ade7232ff60fcbb": {
      "model_module": "@jupyter-widgets/base",
      "model_module_version": "1.2.0",
      "model_name": "LayoutModel",
      "state": {}
     },
     "a512d148087f4555b6bceeca8d4ea7a2": {
      "model_module": "@jupyter-widgets/base",
      "model_module_version": "1.2.0",
      "model_name": "LayoutModel",
      "state": {}
     },
     "aa489c5c6242430bb9ef76d4460d61b5": {
      "model_module": "@jupyter-widgets/base",
      "model_module_version": "1.2.0",
      "model_name": "LayoutModel",
      "state": {}
     },
     "aba73fc98ae34b8e965b730c3c422205": {
      "model_module": "@jupyter-widgets/base",
      "model_module_version": "1.2.0",
      "model_name": "LayoutModel",
      "state": {}
     },
     "ad19b104bd2c4274827935f0bc642e1c": {
      "model_module": "@jupyter-widgets/controls",
      "model_module_version": "1.5.0",
      "model_name": "DropdownModel",
      "state": {
       "_options_labels": [
        "Mid-Tread",
        "Mid-Rise"
       ],
       "description": "Quantization Type:",
       "index": 0,
       "layout": "IPY_MODEL_476db36e2ef8495598b90265cb380580",
       "style": "IPY_MODEL_c7f454f84a4c4ffabeca0e6b66fd00c4"
      }
     },
     "ae6ab56d84d049e8b3a4a6453ee62cb7": {
      "model_module": "@jupyter-widgets/base",
      "model_module_version": "1.2.0",
      "model_name": "LayoutModel",
      "state": {}
     },
     "b7257f546d6542c08e06a519a7cfcff9": {
      "model_module": "@jupyter-widgets/base",
      "model_module_version": "1.2.0",
      "model_name": "LayoutModel",
      "state": {}
     },
     "bdb731b1250b48f6b81ae85d8318b6dc": {
      "model_module": "@jupyter-widgets/controls",
      "model_module_version": "1.5.0",
      "model_name": "ButtonStyleModel",
      "state": {}
     },
     "bf97deef015c4827a8967a671813f149": {
      "model_module": "@jupyter-widgets/controls",
      "model_module_version": "1.5.0",
      "model_name": "ToggleButtonModel",
      "state": {
       "description": "Stop",
       "layout": "IPY_MODEL_aa489c5c6242430bb9ef76d4460d61b5",
       "style": "IPY_MODEL_1a8f9d0d68954f4fa2ce1361633bde98"
      }
     },
     "c1920bdff8b14c4fa8e114b3921d9ade": {
      "model_module": "@jupyter-widgets/controls",
      "model_module_version": "1.5.0",
      "model_name": "HBoxModel",
      "state": {
       "children": [
        "IPY_MODEL_4181a03ad26243f18c1afcbac62c4b93"
       ],
       "layout": "IPY_MODEL_a1f23f60b3804a438ade7232ff60fcbb"
      }
     },
     "c47984031d354d7bb041c39975e4cb8c": {
      "model_module": "@jupyter-widgets/controls",
      "model_module_version": "1.5.0",
      "model_name": "ToggleButtonModel",
      "state": {
       "description": "Stop",
       "layout": "IPY_MODEL_3c934745843a4bdb9ecd61d569af4ee9",
       "style": "IPY_MODEL_015addf4649b4d41b3ee5a4e08b1feef",
       "value": true
      }
     },
     "c4d45858b9284681914cf8fde9407c40": {
      "model_module": "@jupyter-widgets/controls",
      "model_module_version": "1.5.0",
      "model_name": "DescriptionStyleModel",
      "state": {
       "description_width": ""
      }
     },
     "c63e57f2060841f7aa9fb386480ae645": {
      "model_module": "@jupyter-widgets/base",
      "model_module_version": "1.2.0",
      "model_name": "LayoutModel",
      "state": {}
     },
     "c7d3112a971e4497b7fd873765aed42d": {
      "model_module": "@jupyter-widgets/base",
      "model_module_version": "1.2.0",
      "model_name": "LayoutModel",
      "state": {}
     },
     "c7f454f84a4c4ffabeca0e6b66fd00c4": {
      "model_module": "@jupyter-widgets/controls",
      "model_module_version": "1.5.0",
      "model_name": "DescriptionStyleModel",
      "state": {
       "description_width": ""
      }
     },
     "cae0d9b30a044bcdbb4646d2a824b06f": {
      "model_module": "@jupyter-widgets/controls",
      "model_module_version": "1.5.0",
      "model_name": "DescriptionStyleModel",
      "state": {
       "description_width": ""
      }
     },
     "cbfa24b75cc64fddbd7a4eab87c56c46": {
      "model_module": "@jupyter-widgets/controls",
      "model_module_version": "1.5.0",
      "model_name": "HBoxModel",
      "state": {
       "children": [
        "IPY_MODEL_fe565191de1540f5b0197219c460af56",
        "IPY_MODEL_8f63fda556ae49eea3ef4be03fdd736a",
        "IPY_MODEL_a105b9301e4e467b8f27efd88b0dd027"
       ],
       "layout": "IPY_MODEL_1b001b2ac3e847549ef031ffa10555a7"
      }
     },
     "cbfc931a5e68487a91bda9c791d27a54": {
      "model_module": "@jupyter-widgets/base",
      "model_module_version": "1.2.0",
      "model_name": "LayoutModel",
      "state": {}
     },
     "cff4dfddc8ee4f25a80a855bdc65994f": {
      "model_module": "@jupyter-widgets/base",
      "model_module_version": "1.2.0",
      "model_name": "LayoutModel",
      "state": {}
     },
     "d2a3e1a11bc648cbac44ac8d661fcaae": {
      "model_module": "@jupyter-widgets/controls",
      "model_module_version": "1.5.0",
      "model_name": "ToggleButtonModel",
      "state": {
       "description": "Stop",
       "disabled": true,
       "layout": "IPY_MODEL_c7d3112a971e4497b7fd873765aed42d",
       "style": "IPY_MODEL_2f2f8d6d9d194d8d81aa9445ae96bc2a",
       "value": true
      }
     },
     "d3450ad02abc46db9032268bf51cf3a2": {
      "model_module": "@jupyter-widgets/controls",
      "model_module_version": "1.5.0",
      "model_name": "DescriptionStyleModel",
      "state": {
       "description_width": ""
      }
     },
     "d559cd1da181460381dcc77443386833": {
      "model_module": "@jupyter-widgets/controls",
      "model_module_version": "1.5.0",
      "model_name": "ButtonStyleModel",
      "state": {}
     },
     "d768baa1b42743999d0fb702cc36436b": {
      "model_module": "@jupyter-widgets/controls",
      "model_module_version": "1.5.0",
      "model_name": "ToggleButtonModel",
      "state": {
       "description": "Stop",
       "layout": "IPY_MODEL_510465f7cad54c2db0e18fd7acd3311a",
       "style": "IPY_MODEL_c4d45858b9284681914cf8fde9407c40"
      }
     },
     "da223fb00a7e46f6a12a63b53e4f3d9c": {
      "model_module": "@jupyter-widgets/controls",
      "model_module_version": "1.5.0",
      "model_name": "ButtonStyleModel",
      "state": {}
     },
     "dae75bebe0544ee88cd1071b3f87ff71": {
      "model_module": "@jupyter-widgets/controls",
      "model_module_version": "1.5.0",
      "model_name": "DescriptionStyleModel",
      "state": {
       "description_width": ""
      }
     },
     "dbd4fc6f05344d3893968667ea288e00": {
      "model_module": "@jupyter-widgets/controls",
      "model_module_version": "1.5.0",
      "model_name": "DescriptionStyleModel",
      "state": {
       "description_width": ""
      }
     },
     "dc77a42f93fd481294243d614e2c45ef": {
      "model_module": "@jupyter-widgets/controls",
      "model_module_version": "1.5.0",
      "model_name": "ToggleButtonModel",
      "state": {
       "description": "Stop",
       "layout": "IPY_MODEL_6fdb7d274eab44d2aaf38dd4dcfa0511",
       "style": "IPY_MODEL_0b9a6a693871477ebf610c47a13ce72a",
       "value": true
      }
     },
     "e099daeead614c06ba66a3b6aa2a6519": {
      "model_module": "@jupyter-widgets/base",
      "model_module_version": "1.2.0",
      "model_name": "LayoutModel",
      "state": {}
     },
     "e139e8ce24694bdda7967b2165ee342c": {
      "model_module": "@jupyter-widgets/controls",
      "model_module_version": "1.5.0",
      "model_name": "ToggleButtonModel",
      "state": {
       "description": "Stop",
       "layout": "IPY_MODEL_94b8806eb4eb41c29262f6f79153bdaa",
       "style": "IPY_MODEL_dae75bebe0544ee88cd1071b3f87ff71",
       "value": true
      }
     },
     "e51f5a36e4394ed689235a9794c618c1": {
      "model_module": "@jupyter-widgets/controls",
      "model_module_version": "1.5.0",
      "model_name": "CheckboxModel",
      "state": {
       "description": "Downsampling with Zeros",
       "disabled": false,
       "layout": "IPY_MODEL_b7257f546d6542c08e06a519a7cfcff9",
       "style": "IPY_MODEL_0124c108c90b41408309aa3aac820c5d",
       "value": true
      }
     },
     "e5505837f6154a0cae1a17c207323d4e": {
      "model_module": "@jupyter-widgets/controls",
      "model_module_version": "1.5.0",
      "model_name": "ToggleButtonModel",
      "state": {
       "description": "Stop",
       "disabled": true,
       "layout": "IPY_MODEL_36cef02e3ac343f597afecf7a0da19c4",
       "style": "IPY_MODEL_60bf9fcb59ec405fbb5f47ca2b2cd2ff",
       "value": true
      }
     },
     "e5d441cf0b974fe5926d4f430e662b4a": {
      "model_module": "@jupyter-widgets/controls",
      "model_module_version": "1.5.0",
      "model_name": "CheckboxModel",
      "state": {
       "description": "Downsampling with Zeros",
       "disabled": false,
       "layout": "IPY_MODEL_11649f3e118b4488af7188e4a8e73291",
       "style": "IPY_MODEL_367c6ac4f00e4104ba6837f8104dfb9f",
       "value": false
      }
     },
     "e7ffbebd8eea4250a1ff0c0a7ae94732": {
      "model_module": "@jupyter-widgets/base",
      "model_module_version": "1.2.0",
      "model_name": "LayoutModel",
      "state": {}
     },
     "e8f0676ca8644d3ea28ffb8dd3c7964a": {
      "model_module": "@jupyter-widgets/base",
      "model_module_version": "1.2.0",
      "model_name": "LayoutModel",
      "state": {}
     },
     "e9d3c86d3a7c49b799bdcc77191aa62a": {
      "model_module": "@jupyter-widgets/controls",
      "model_module_version": "1.5.0",
      "model_name": "ButtonModel",
      "state": {
       "description": "Stop",
       "layout": "IPY_MODEL_14f182217bd54f0eab515df20a2b5138",
       "style": "IPY_MODEL_da223fb00a7e46f6a12a63b53e4f3d9c"
      }
     },
     "ec805846f5734669b7fcc4fd0ea88cde": {
      "model_module": "@jupyter-widgets/controls",
      "model_module_version": "1.5.0",
      "model_name": "DescriptionStyleModel",
      "state": {
       "description_width": ""
      }
     },
     "ec8397c2b6e5444587135da33d9144fd": {
      "model_module": "@jupyter-widgets/base",
      "model_module_version": "1.2.0",
      "model_name": "LayoutModel",
      "state": {}
     },
     "f2232b0768124cf1804c9bc977ca3bc6": {
      "model_module": "@jupyter-widgets/controls",
      "model_module_version": "1.5.0",
      "model_name": "ButtonModel",
      "state": {
       "description": "Stop",
       "layout": "IPY_MODEL_aba73fc98ae34b8e965b730c3c422205",
       "style": "IPY_MODEL_bdb731b1250b48f6b81ae85d8318b6dc"
      }
     },
     "f2a8b23362844b65b7cc51c15b54f5cc": {
      "model_module": "@jupyter-widgets/controls",
      "model_module_version": "1.5.0",
      "model_name": "ToggleButtonModel",
      "state": {
       "description": "Stop",
       "layout": "IPY_MODEL_e7ffbebd8eea4250a1ff0c0a7ae94732",
       "style": "IPY_MODEL_d3450ad02abc46db9032268bf51cf3a2",
       "value": true
      }
     },
     "f469e7d7b4a541af8a5340dd1d099999": {
      "model_module": "@jupyter-widgets/base",
      "model_module_version": "1.2.0",
      "model_name": "LayoutModel",
      "state": {}
     },
     "f6566c5300744aa18d1396449e916c5b": {
      "model_module": "@jupyter-widgets/controls",
      "model_module_version": "1.5.0",
      "model_name": "HBoxModel",
      "state": {
       "children": [
        "IPY_MODEL_8aeb4d884e904dfe8c13404fefd0ef6f"
       ],
       "layout": "IPY_MODEL_cff4dfddc8ee4f25a80a855bdc65994f"
      }
     },
     "f7e7bb40afba4448b0c4506aed91c05a": {
      "model_module": "@jupyter-widgets/controls",
      "model_module_version": "1.5.0",
      "model_name": "HBoxModel",
      "state": {
       "children": [
        "IPY_MODEL_010411b23dde4ac9b0a3030e14cf116a",
        "IPY_MODEL_d768baa1b42743999d0fb702cc36436b",
        "IPY_MODEL_462478cddfff483e922a3aa095a2e610"
       ],
       "layout": "IPY_MODEL_0fbffec0398544c78cc392a8f3387f8e"
      }
     },
     "f832049896fd43d3a027ac200b0d333a": {
      "model_module": "@jupyter-widgets/controls",
      "model_module_version": "1.5.0",
      "model_name": "DescriptionStyleModel",
      "state": {
       "description_width": ""
      }
     },
     "fe565191de1540f5b0197219c460af56": {
      "model_module": "@jupyter-widgets/controls",
      "model_module_version": "1.5.0",
      "model_name": "ButtonModel",
      "state": {
       "description": "Start",
       "layout": "IPY_MODEL_654babd4900b4e1d91e2eb5889a5db49",
       "style": "IPY_MODEL_d559cd1da181460381dcc77443386833"
      }
     }
    },
    "version_major": 2,
    "version_minor": 0
   }
  }
 },
 "nbformat": 4,
 "nbformat_minor": 2
}
