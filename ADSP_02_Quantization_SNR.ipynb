{
 "cells": [
  {
   "cell_type": "markdown",
   "metadata": {
    "slideshow": {
     "slide_type": "slide"
    }
   },
   "source": [
    "<p align=\"center\">\n",
    "    <img src=\"./images/adsp_logo.png\">\n",
    "</p>\n",
    "\n",
    "### Prof. Dr. -Ing. Gerald Schuller <br> Jupyter Notebook: Renato Profeta\n"
   ]
  },
  {
   "cell_type": "markdown",
   "metadata": {
    "slideshow": {
     "slide_type": "-"
    }
   },
   "source": [
    "# Quantization: Signal to Noise Ratio (SNR)"
   ]
  },
  {
   "cell_type": "code",
   "execution_count": 1,
   "metadata": {
    "hide_input": true
   },
   "outputs": [
    {
     "data": {
      "text/html": [
       "<iframe width=\"560\" height=\"315\" src=\"https://www.youtube.com/embed/-4Dx7FpEAoc\" frameborder=\"0\" allow=\"accelerometer; encrypted-media; gyroscope; picture-in-picture\" allowfullscreen></iframe>\n"
      ],
      "text/plain": [
       "<IPython.core.display.HTML object>"
      ]
     },
     "metadata": {},
     "output_type": "display_data"
    }
   ],
   "source": [
    "%%html\n",
    "<iframe width=\"560\" height=\"315\" src=\"https://www.youtube.com/embed/-4Dx7FpEAoc\" frameborder=\"0\" allow=\"accelerometer; encrypted-media; gyroscope; picture-in-picture\" allowfullscreen></iframe>"
   ]
  },
  {
   "cell_type": "markdown",
   "metadata": {
    "slideshow": {
     "slide_type": "-"
    }
   },
   "source": [
    "Assume we have a A/D converter with a quantizer with a certain number of bits (say N bits), what is the resulting Signal to Noise Ratio (SNR) of this quantizer? \n",
    "\n",
    "**The SNR is defined as the ratio of the expectation of the signal power to the expectation of the noise power.** \n",
    "\n",
    "In our case, the expectation of the noise power is the expectation of the quantization error power. We already have the expectation of the quantization error power as $\\large \\dfrac{\\Delta^2}{12}$.<br>\n",
    "So what we still need for the SNR is the **average or expectation of the signal power**. How do we obtain this?<br>\n",
    "Basically we can take the same approach as we did for the expectation of the power of the quantization error (which is basically the second moment of the distribution of the quantization error). So what we need to know from our signal is its **probability distribution**. For the quantization error it was a uniform distribution between $-\\dfrac{\\Delta}{2}$ and $+\\dfrac{\\Delta}{2}$.<br> \n",
    "A very **simple case** would be a **uniformly distributed signal** with amplitude $\\dfrac{A}{2}$, which has values between $-\\dfrac{A}{2}$ up to $+\\dfrac{A}{2}$."
   ]
  },
  {
   "cell_type": "markdown",
   "metadata": {
    "slideshow": {
     "slide_type": "-"
    }
   },
   "source": [
    "<center>\n",
    "    <img src=\"./images/pdf_a.png\" width=\"250\">\n",
    "</center>\n",
    "\n",
    "So we could again use our formula for the average power, but now for our signal x:\n",
    "\n",
    "$$\\large E(x^2)=\\int_ {-A/2} ^ {A/2} x^2 \\cdot p(x) dx$$\n",
    "\n",
    "So here we have the same type of signal, and the resulting expectation of the power (its second moment, assumed we have a zero mean signal) is obtained by using our previous formula, and replace $\\Delta$ by A. The resulting power is: $\\frac{A^2}{12}$.\n",
    "\n",
    "**Which signals have this property?** One example is uniformly distributed random values (basically like our quantization error). \n",
    "\n",
    "**Observe: Speech or music has a non-uniform pdf**, it is usually modeled by a Laplacian distribution or a gaussian mixture model, so it doesn't apply to this case!"
   ]
  },
  {
   "cell_type": "code",
   "execution_count": 2,
   "metadata": {
    "hide_input": true
   },
   "outputs": [
    {
     "data": {
      "text/html": [
       "<iframe width=\"560\" height=\"315\" src=\"https://www.youtube.com/embed/5idUnMK_AkU\" frameborder=\"0\" allow=\"accelerometer; encrypted-media; gyroscope; picture-in-picture\" allowfullscreen></iframe>\n"
      ],
      "text/plain": [
       "<IPython.core.display.HTML object>"
      ]
     },
     "metadata": {},
     "output_type": "display_data"
    }
   ],
   "source": [
    "%%html\n",
    "<iframe width=\"560\" height=\"315\" src=\"https://www.youtube.com/embed/5idUnMK_AkU\" frameborder=\"0\" allow=\"accelerometer; encrypted-media; gyroscope; picture-in-picture\" allowfullscreen></iframe>"
   ]
  },
  {
   "cell_type": "markdown",
   "metadata": {
    "slideshow": {
     "slide_type": "-"
    }
   },
   "source": [
    "An example for a uniform pdf: **a triangular wave**:   \n",
    "\n",
    "<center>\n",
    "    <img src=\"./images/triang.png\" width=\"300\">\n",
    "</center>\n",
    "\n",
    "How do we obtain its pdf? One can imagine the vertical axis (the function value) covered by small intervals, and each interval is then passed in the same time-span. This means that the resulting pdf is also uniform!\n",
    "\n",
    "A further example: **A sawtooth wave**:\n",
    "\n",
    "<center>\n",
    "    <img src=\"./images/saw_tooth.png\" width=\"300\">\n",
    "</center>\n",
    "\n",
    "Again we can make the same argument, each small interval of our function value is covered in the same time-span, hence we obtain a uniform distribution.\n",
    "\n",
    "We now have seen a few examples which fulfil our assumption of a uniform distribution (realistic examples), and we know: their expectation of their power is $\\dfrac{A^2}{12}$. So what does this then mean for the SNR? The **SNR** is just the ratio:\n",
    "\n",
    "$$ \\large SNR = \\frac {\\dfrac{A^2}{12}} {\\dfrac{\\Delta^2}{12}}= \\frac{A^2} { \\Delta^2} $$\n",
    "\n",
    "If we assume our signal is full range, meaning the maximum values of our A/D converter is $-\\dfrac{A}{2}$ and $+\\dfrac{A}{2}$ (the signal goes to the maximum), we can compute the step size $\\Delta$ if we know the **number of bits** of converter, and if we assume uniform quantization step sizes. Assume we have **N bits** in our converter. This means we have $2^N$ quantization intervals. We obtain $\\Delta$ by dividing the full range by this number,\n",
    "\n",
    "$$ \\large\n",
    "\\Delta = \\frac{A}{2^N}\n",
    "$$\n",
    "\n",
    "Plug this in the SNR equation, and we obtain:\n",
    "\n",
    "$$\n",
    "SNR=  \\frac{A^2} { \\Delta^2}= \\frac{A^2} {\\left( \\dfrac {A}{2^N} \\right)^2} = {2^{2N}}\n",
    "$$\n",
    "\n",
    "This is now quite a simple result! But usually, the SNR is given in dB (deciBel), so lets convert it into dB:\n",
    "\n",
    "<br>\n",
    "$$SNR_{dB} = 10 \\cdot \\log_{10} (2^{2N})=10 \\cdot 2N \\cdot \\log_{10}(2) \\approx $$\n",
    "$$ \\approx 10 \\cdot 2N \\cdot 0.301 dB =N \\cdot 6.02 dB$$\n",
    "\n",
    "This is now our famous **rule of thumb**, that **each bit** more gives you about **6 dB more SNR**. But observe that the above formula only holds for uniformly distributed full range signals! (the signal is between -A/2 and +A/2, using all possible values of our converter)."
   ]
  },
  {
   "cell_type": "code",
   "execution_count": 3,
   "metadata": {
    "hide_input": true
   },
   "outputs": [
    {
     "data": {
      "text/html": [
       "<iframe width=\"560\" height=\"315\" src=\"https://www.youtube.com/embed/f62zWfAaEfc\" frameborder=\"0\" allow=\"accelerometer; encrypted-media; gyroscope; picture-in-picture\" allowfullscreen></iframe>\n"
      ],
      "text/plain": [
       "<IPython.core.display.HTML object>"
      ]
     },
     "metadata": {},
     "output_type": "display_data"
    }
   ],
   "source": [
    "%%html\n",
    "<iframe width=\"560\" height=\"315\" src=\"https://www.youtube.com/embed/f62zWfAaEfc\" frameborder=\"0\" allow=\"accelerometer; encrypted-media; gyroscope; picture-in-picture\" allowfullscreen></iframe>"
   ]
  },
  {
   "cell_type": "markdown",
   "metadata": {
    "slideshow": {
     "slide_type": "subslide"
    }
   },
   "source": [
    "What happens if the signal is not full range? What is the SNR if we have a signal with reduced range? Assume our signal has an amplitude of A/c, with a factor c>1.<br> \n",
    "We can then simply plug this into our equation:\n",
    "\n",
    "$$ \\large SNR=  \\frac{\\left(\\frac{A}{c}\\right)^2} {\\Delta^2}= \\frac{\\left(\\frac{A}{c}\\right)^2 }{ \\left(\\frac{A}{2^N}\\right)^2} = \\frac{2^{2N}}{c^2}$$\n",
    "\n",
    "in dB:\n",
    "\n",
    "$$ \\large SNR_{dB}=10 . \\log_{10}( \\frac {2^{2N}}  {c^2})=10\\cdot2N.\\log_{10}(2)-20.\\log_{10}(c) \\approx $$\n",
    "\n",
    "$$ \\large\n",
    " \\approx 10 \\cdot 2N \\cdot 0.301 dB -20 \\cdot \\log_{10}(c) =\n",
    "$$\n",
    "<br>\n",
    "$$ \\large\n",
    " =N \\cdot 6.02 dB -20 \\cdot log_{10}(c)\n",
    "$$\n",
    "<br>\n",
    "\n",
    "The last term, the $20 \\cdot \\log_{10}(c) $, is the number of dB which we are below our full range. This means we **reduce our SNR** by this number of **dB** which we are **below full range**! \n",
    "<br><br>\n",
    "**Example:** We have a 16 bit quantiser, then the SNR for uniformly distributed full range signals would be:\n",
    "\n",
    "\n",
    "$$SNR = 6.02 \\cdot 16 dB = 96.32 dB$$\n",
    "\n",
    "Now assume we have the same signal, but 20dB below full range (meaning only 1/10th of the full range). Then the resulting SNR would be only:\n",
    "\n",
    "$$SNR = 96.32-20 = 76.32 dB$$ \n",
    "\n",
    "This is considerably less. This also shows why it is important not to make the safety margin to full range too big! So for instance our sound engineer should keep the signal as big as possible, without ever reaching full range to avoid clipping the signal. "
   ]
  },
  {
   "cell_type": "markdown",
   "metadata": {
    "slideshow": {
     "slide_type": "slide"
    }
   },
   "source": [
    "The other assumption we made concerned the type of signal we quantize. \n",
    "\n",
    "**What if we don't have a uniformly distributed signal?** \n",
    "\n",
    "As we saw, speech and audio signals are best modelled by a Laplacian distribution or a Gaussian mixture model, and similar for audio signals. Even a simple sine wave does not fulfil this assumption of a uniform distribution. What is the pdf of a simple sine wave?\n",
    "\n",
    "**Observe:** If a sinusoid represents a full range signal, its values are from $-A/2$ to $+A/2$, as in the previous cases."
   ]
  },
  {
   "cell_type": "code",
   "execution_count": 4,
   "metadata": {
    "hide_input": true
   },
   "outputs": [
    {
     "data": {
      "text/html": [
       "<iframe width=\"560\" height=\"315\" src=\"https://www.youtube.com/embed/vAjOvN5fVjE\" frameborder=\"0\" allow=\"accelerometer; autoplay; gyroscope; picture-in-picture\" allowfullscreen></iframe>\n"
      ],
      "text/plain": [
       "<IPython.core.display.HTML object>"
      ]
     },
     "metadata": {},
     "output_type": "display_data"
    }
   ],
   "source": [
    "%%html\n",
    "<iframe width=\"560\" height=\"315\" src=\"https://www.youtube.com/embed/vAjOvN5fVjE\" frameborder=\"0\" allow=\"accelerometer; autoplay; gyroscope; picture-in-picture\" allowfullscreen></iframe>"
   ]
  },
  {
   "cell_type": "markdown",
   "metadata": {
    "slideshow": {
     "slide_type": "-"
    }
   },
   "source": [
    "What is our SNR if we have a sinusoidal signal? What is its pdf? Basically it is its normalized histogram, such that its integral becomes 1, to obtain a probability distribution.\n",
    "\n",
    "If we look at the signal, and try to see how probable it is for the signal to be in a certain small interval on the y axis, we see that the signal stays longest around +1 and -1, because there the signal slowly turns around. Hence we would expect a pdf, which has peaks at +1 and -1.<br>\n",
    "If you calculate the pdf of a sine wave, x=sin(t), with t being continuous and with a range larger than 2pi, then the result is\n",
    "<br>\n",
    "$$\n",
    "p(x)=\\frac{1}  {\\pi \\cdot \\sqrt{1-x^2}}\n",
    "$$\n",
    "<br>\n",
    "This results from the derivative of the inverse sine function (arcsin). This derivation can be found for instance on Wikipedia. For our pdf we need to know how fast a signal x passes through a given bin in x. This is what we obtain if we compute the inverse function $x=f^{-1}(y)$, and then its derivative $df^{-1}(x)/dy$."
   ]
  },
  {
   "cell_type": "markdown",
   "metadata": {
    "slideshow": {
     "slide_type": "subslide"
    }
   },
   "source": [
    "### PDF of Time Series\n"
   ]
  },
  {
   "cell_type": "markdown",
   "metadata": {
    "slideshow": {
     "slide_type": "-"
    }
   },
   "source": [
    "Given a signal a = f (t) which is sampled uniformly over a time period T , its PDF, p(a) can be calculated as follows. Because the signal is uniformly sampled we have $p(t) = \\frac{1}{T}$ . The function f(t) acts to transform this density from one over *t* to one over *a*. Hence, using the method for transforming PDFs, we get:\n",
    "\n",
    "$$\\large\n",
    "p(a)=\\dfrac{p(t)}{\\left|\\frac {da}{dt} \\right|} $$\n",
    "\n",
    "where | | denotes the absolute value and the derivative is evaluated at $t=f^{-1}(x).$\n",
    "<font size=\"2\">  \n",
    "From: https://www.fil.ion.ucl.ac.uk/~wpenny/course/appendixDE.pdf\n",
    "</font>"
   ]
  },
  {
   "cell_type": "code",
   "execution_count": 5,
   "metadata": {
    "slideshow": {
     "slide_type": "-"
    }
   },
   "outputs": [
    {
     "data": {
      "text/latex": [
       "$\\displaystyle x = \\sin{\\left(t \\right)}$"
      ],
      "text/plain": [
       "Eq(x, sin(t))"
      ]
     },
     "execution_count": 5,
     "metadata": {},
     "output_type": "execute_result"
    }
   ],
   "source": [
    "from sympy import symbols, pi, sqrt, Integral, Function, Eq, diff, sin, solve, simplify, Abs\n",
    "x, t = symbols('x t', real=True)\n",
    "A, w = symbols('A w', real=True, positive=True)\n",
    "Eq_x=Eq(x, sin(t))\n",
    "Eq_x"
   ]
  },
  {
   "cell_type": "code",
   "execution_count": 6,
   "metadata": {
    "slideshow": {
     "slide_type": "-"
    }
   },
   "outputs": [
    {
     "data": {
      "text/latex": [
       "$\\displaystyle t = \\operatorname{asin}{\\left(x \\right)}$"
      ],
      "text/plain": [
       "Eq(t, asin(x))"
      ]
     },
     "execution_count": 6,
     "metadata": {},
     "output_type": "execute_result"
    }
   ],
   "source": [
    "# Find the Inverse\n",
    "y=solve(Eq_x,t)\n",
    "Eq_y=Eq(t,y[1])\n",
    "Eq_y"
   ]
  },
  {
   "cell_type": "markdown",
   "metadata": {
    "slideshow": {
     "slide_type": "-"
    }
   },
   "source": [
    "The inverse sine is only defined for $-\\frac{\\pi}{2} \\leq  t \\leq +\\frac{\\pi}{2}$ and p(t) is uniform within this. \n",
    "Hence, $ p(t) = \\frac {1}{\\pi} $."
   ]
  },
  {
   "cell_type": "code",
   "execution_count": 7,
   "metadata": {
    "slideshow": {
     "slide_type": "-"
    }
   },
   "outputs": [
    {
     "data": {
      "text/latex": [
       "$\\displaystyle \\sqrt{1 - x^{2}}$"
      ],
      "text/plain": [
       "sqrt(1 - x**2)"
      ]
     },
     "execution_count": 7,
     "metadata": {},
     "output_type": "execute_result"
    }
   ],
   "source": [
    "# Find dx\\dt and evaluate at t=arsin(x)\n",
    "\n",
    "dxdt = (diff(Eq_x.rhs,t))\n",
    "dxdt = dxdt.subs(t,Eq_y.rhs)\n",
    "dxdt"
   ]
  },
  {
   "cell_type": "code",
   "execution_count": 8,
   "metadata": {
    "slideshow": {
     "slide_type": "-"
    }
   },
   "outputs": [
    {
     "data": {
      "text/latex": [
       "$\\displaystyle p{\\left(t \\right)} = \\begin{cases} \\frac{1}{\\pi} & \\text{for}\\: t \\geq - \\frac{\\pi}{2} \\wedge t \\leq \\frac{\\pi}{2} \\\\0 & \\text{otherwise} \\end{cases}$"
      ],
      "text/plain": [
       "Eq(p(t), Piecewise((1/pi, (t >= -pi/2) & (t <= pi/2)), (0, True)))"
      ]
     },
     "execution_count": 8,
     "metadata": {},
     "output_type": "execute_result"
    }
   ],
   "source": [
    "# Calculate p(t)\n",
    "from sympy.stats import Uniform, density\n",
    "P_t = Function('p')(t)\n",
    "p_t = Uniform('X',-pi/2,pi/2)\n",
    "Eq_p_t=Eq(P_t,density(p_t)(t))\n",
    "Eq_p_t"
   ]
  },
  {
   "cell_type": "code",
   "execution_count": 9,
   "metadata": {
    "slideshow": {
     "slide_type": "-"
    }
   },
   "outputs": [
    {
     "data": {
      "text/latex": [
       "$\\displaystyle p{\\left(x \\right)} = \\frac{1}{\\pi \\sqrt{1 - x^{2}}}$"
      ],
      "text/plain": [
       "Eq(p(x), 1/(pi*sqrt(1 - x**2)))"
      ]
     },
     "execution_count": 9,
     "metadata": {},
     "output_type": "execute_result"
    }
   ],
   "source": [
    "# Calculate p(x)\n",
    "p_x = Function('p')(x)\n",
    "Eq_p_x= Eq(p_x,(1/pi)/dxdt)\n",
    "Eq_p_x"
   ]
  },
  {
   "cell_type": "code",
   "execution_count": 10,
   "metadata": {
    "hide_input": true
   },
   "outputs": [
    {
     "data": {
      "text/html": [
       "<iframe width=\"560\" height=\"315\" src=\"https://www.youtube.com/embed/jkCIZoVnweg\" frameborder=\"0\" allow=\"accelerometer; encrypted-media; gyroscope; picture-in-picture\" allowfullscreen></iframe>\n"
      ],
      "text/plain": [
       "<IPython.core.display.HTML object>"
      ]
     },
     "metadata": {},
     "output_type": "display_data"
    }
   ],
   "source": [
    "%%html\n",
    "<iframe width=\"560\" height=\"315\" src=\"https://www.youtube.com/embed/jkCIZoVnweg\" frameborder=\"0\" allow=\"accelerometer; encrypted-media; gyroscope; picture-in-picture\" allowfullscreen></iframe>"
   ]
  },
  {
   "cell_type": "markdown",
   "metadata": {
    "slideshow": {
     "slide_type": "-"
    }
   },
   "source": [
    "Here we can see that p(x) indeed becomes infinite at x=+/-1! We could now use the same approach as before to obtain the expectation of the power, multiplying it with $x^2$ and integrating it. But this seems to be somewhat tedious.  But since we now have a deterministic signal, we can also try an **alternative** solution, since the sine function is not a probabilistic function, but a deterministic function.\n",
    "\n",
    "We can simply directly compute the power of our sine signal over t, and then take the average over at least one period of the sine function.\n",
    "\n",
    "$$ \\large\n",
    "E(x^2)= \\frac{1} {2\\pi}\\int _ {t=0} ^{2\\pi} sin^2(t) dt = \\frac{1}  {2\\pi}\\int _ {t=0} ^{2\\pi} {\\dfrac{\\left(1-cos(2t)\\right)}{2}}dt\n",
    "$$\n",
    "\n",
    "Trigonometric Identity: $cos(2x)=1-2sin^2(x)$\n",
    "\n",
    "The cosine integrated over complete periods  becomes 0, hence we get:\n",
    "\n",
    "$$ n\\large\n",
    "=\\frac{1}  {2\\pi} \\int _{t=0}^{2\\pi} {\\dfrac{1}{2}} dt =\\frac{1} {2\\pi} \\cdot \\pi=\\frac{1}{ 2}\n",
    "$$\n"
   ]
  },
  {
   "cell_type": "code",
   "execution_count": 11,
   "metadata": {
    "slideshow": {
     "slide_type": "-"
    }
   },
   "outputs": [
    {
     "data": {
      "text/latex": [
       "$\\displaystyle E{\\left(x^{2} \\right)} = \\int\\limits_{-1}^{1} \\frac{x^{2}}{\\pi \\sqrt{1 - x^{2}}}\\, dx$"
      ],
      "text/plain": [
       "Eq(E(x**2), Integral(x**2/(pi*sqrt(1 - x**2)), (x, -1, 1)))"
      ]
     },
     "metadata": {},
     "output_type": "display_data"
    },
    {
     "data": {
      "text/latex": [
       "$\\displaystyle E{\\left(x^{2} \\right)} = \\frac{1}{2}$"
      ],
      "text/plain": [
       "Eq(E(x**2), 1/2)"
      ]
     },
     "metadata": {},
     "output_type": "display_data"
    }
   ],
   "source": [
    "# Calculate the Expctation of Power\n",
    "E = Function('E')(x**2)\n",
    "E_x2 = Eq(E,Integral(x**2*Eq_p_x.rhs,(x,-1,1)))\n",
    "display(E_x2)\n",
    "display(E_x2.doit())"
   ]
  },
  {
   "cell_type": "markdown",
   "metadata": {
    "slideshow": {
     "slide_type": "-"
    }
   },
   "source": [
    "What do we get for a sinusoid with a different amplitude, say $A/2 \\cdot sin(t)$?\n",
    "\n",
    "The expected power is:\n",
    "\n",
    "$$ \\large\n",
    "E(x^2)=\\frac{A^2}{ 8}\n",
    "$$"
   ]
  },
  {
   "cell_type": "code",
   "execution_count": 12,
   "metadata": {
    "slideshow": {
     "slide_type": "-"
    }
   },
   "outputs": [
    {
     "data": {
      "text/latex": [
       "$\\displaystyle E{\\left(x^{2} \\right)} = \\frac{\\int\\limits_{0}^{2 \\pi} \\frac{A^{2} \\sin^{2}{\\left(t \\right)}}{4}\\, dt}{2 \\pi}$"
      ],
      "text/plain": [
       "Eq(E(x**2), Integral(A**2*sin(t)**2/4, (t, 0, 2*pi))/(2*pi))"
      ]
     },
     "metadata": {},
     "output_type": "display_data"
    },
    {
     "data": {
      "text/latex": [
       "$\\displaystyle E{\\left(x^{2} \\right)} = \\frac{A^{2}}{8}$"
      ],
      "text/plain": [
       "Eq(E(x**2), A**2/8)"
      ]
     },
     "metadata": {},
     "output_type": "display_data"
    }
   ],
   "source": [
    "# Calculate Expectation of Power of A/2 * sin(t)\n",
    "E = Function('E')(x**2)\n",
    "E_x2 = Eq(E,(1/(2*pi))*Integral(((A/2)*sin(t))**2,(t,0,2*pi)))\n",
    "display(E_x2)\n",
    "display(E_x2.doit())"
   ]
  },
  {
   "cell_type": "markdown",
   "metadata": {
    "slideshow": {
     "slide_type": "-"
    }
   },
   "source": [
    "So this leads to an SNR of:\n",
    "\n",
    "$$ \\large\n",
    "SNR=\\frac{\\frac{A^2}{8}} {\\frac{\\Delta^2}{12}}=\\frac{3 \\cdot A^2} {2 \\cdot \\Delta^2}\n",
    "$$\n",
    "\n",
    "Now assume again we have a A/D converter with N bits, and the sinusoid is at full range for this converter. Then \n",
    "$A=2^N \\cdot \\Delta$\n",
    "\n",
    "We can plug in this result into the above equation, and get\n",
    "\n",
    "$$ \\large\n",
    "SNR=\\frac{3 \\cdot 2^{2N} \\cdot \\Delta^2}  {2 \\cdot \\Delta^2}={1.5 \\cdot 2^{2N}} $$\n",
    "\n",
    "In dB this will now be:\n",
    "\n",
    "$$\\large 10 \\cdot \\log_{10}(SNR)=10 \\cdot \\log_{10}(1.5) + N \\cdot 20 \\cdot \\log_{10}(2)=\n",
    "$$\n",
    "\n",
    "$$\\large = 1.76 dB +N \\cdot 6.02 dB$$\n",
    "\n",
    "\n",
    "Here we can see now, that using a sinusoidal signal instead of a uniformly distributed signal gives us a **boost of 1.76 dB** in SNR. This is because it is more likely to have larger values!\n",
    "We see that our rule of 6dB more SNR for each bit still holds!"
   ]
  },
  {
   "cell_type": "code",
   "execution_count": 13,
   "metadata": {
    "slideshow": {
     "slide_type": "-"
    }
   },
   "outputs": [
    {
     "data": {
      "text/latex": [
       "$\\displaystyle \\Delta = 2^{- N} A$"
      ],
      "text/plain": [
       "Eq(\\Delta, 2**(-N)*A)"
      ]
     },
     "metadata": {},
     "output_type": "display_data"
    },
    {
     "data": {
      "text/latex": [
       "$\\displaystyle A = 2^{N} \\Delta$"
      ],
      "text/plain": [
       "Eq(A, 2**N*\\Delta)"
      ]
     },
     "metadata": {},
     "output_type": "display_data"
    }
   ],
   "source": [
    "# Stepsize as function of full range\n",
    "delta, N = symbols('\\Delta N')\n",
    "Eq_delta = Eq(delta, A/(2**N) )\n",
    "display(Eq_delta)\n",
    "Eq_A = Eq(A,solve(Eq_delta,A)[0])\n",
    "display(Eq_A)"
   ]
  },
  {
   "cell_type": "code",
   "execution_count": 14,
   "metadata": {
    "slideshow": {
     "slide_type": "-"
    }
   },
   "outputs": [
    {
     "data": {
      "text/latex": [
       "$\\displaystyle \\frac{3 A^{2}}{2 \\Delta^{2}}$"
      ],
      "text/plain": [
       "3*A**2/(2*\\Delta**2)"
      ]
     },
     "metadata": {},
     "output_type": "display_data"
    },
    {
     "data": {
      "text/latex": [
       "$\\displaystyle \\frac{3 \\cdot 2^{2 N}}{2}$"
      ],
      "text/plain": [
       "3*2**(2*N)/2"
      ]
     },
     "metadata": {},
     "output_type": "display_data"
    }
   ],
   "source": [
    "# Calculate Signal to Noise Rate\n",
    "SNR = E_x2.doit().rhs / (delta**2/12)\n",
    "display(SNR)\n",
    "display(SNR.subs(A,Eq_A.rhs))"
   ]
  }
 ],
 "metadata": {
  "kernelspec": {
   "display_name": "Python 3",
   "language": "python",
   "name": "python3"
  },
  "language_info": {
   "codemirror_mode": {
    "name": "ipython",
    "version": 3
   },
   "file_extension": ".py",
   "mimetype": "text/x-python",
   "name": "python",
   "nbconvert_exporter": "python",
   "pygments_lexer": "ipython3",
   "version": "3.7.5"
  },
  "livereveal": {
   "rise": {
    "height": "90%",
    "width": "90%"
   },
   "scroll": true,
   "theme": "sky",
   "transition": "zoom"
  },
  "widgets": {
   "application/vnd.jupyter.widget-state+json": {
    "state": {},
    "version_major": 2,
    "version_minor": 0
   }
  }
 },
 "nbformat": 4,
 "nbformat_minor": 2
}
