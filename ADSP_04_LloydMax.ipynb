{
 "cells": [
  {
   "cell_type": "markdown",
   "metadata": {
    "slideshow": {
     "slide_type": "slide"
    }
   },
   "source": [
    "<center>\n",
    "    <img src=\"./images/adsp_logo.png\">\n",
    "</center>\n",
    "\n",
    "### Prof. Dr. -Ing. Gerald Schuller <br> Jupyter Notebook: Renato Profeta\n"
   ]
  },
  {
   "cell_type": "markdown",
   "metadata": {
    "slideshow": {
     "slide_type": "-"
    }
   },
   "source": [
    "# Lloyd-Max Quantizer"
   ]
  },
  {
   "cell_type": "code",
   "execution_count": 1,
   "metadata": {
    "hide_input": true
   },
   "outputs": [
    {
     "data": {
      "text/html": [
       "<iframe width=\"560\" height=\"315\" src=\"https://www.youtube.com/embed/n2xuCE2dKeo\" frameborder=\"0\" allow=\"accelerometer; encrypted-media; gyroscope; picture-in-picture\" allowfullscreen></iframe>\n"
      ],
      "text/plain": [
       "<IPython.core.display.HTML object>"
      ]
     },
     "metadata": {},
     "output_type": "display_data"
    }
   ],
   "source": [
    "%%html\n",
    "<iframe width=\"560\" height=\"315\" src=\"https://www.youtube.com/embed/n2xuCE2dKeo\" frameborder=\"0\" allow=\"accelerometer; encrypted-media; gyroscope; picture-in-picture\" allowfullscreen></iframe>"
   ]
  },
  {
   "cell_type": "markdown",
   "metadata": {
    "slideshow": {
     "slide_type": "-"
    }
   },
   "source": [
    "**Idea:** Wouldn't it be helpful if we choose our **quantization steps smaller** where **signal samples appear most often**, to reduce the quantization error there, and make the quantization step size (and also the error) larger, where there are only a few samples?\n",
    "\n",
    "This is the idea behind the Lloyd-Max quantizer (see also the Book: N.S. Jayant, P. Noll: “Digital coding of waveforms“).\n",
    "\n",
    "**Observe** that this is not quite the same as for $\\mu$-law companding. There, the **small** values get the smallest quantization step sizes, here, the **most likely** values get the smallest quantization steps sizes.\n",
    "\n",
    "This is a type of non-uniform quantizer, which is adapted to the signals pdf. It basically minimizes the expectation of the quanization power (the expectaion of the squared signal, or its second moment), given the pdf of the signal to quantize."
   ]
  },
  {
   "cell_type": "code",
   "execution_count": 2,
   "metadata": {
    "hide_input": true
   },
   "outputs": [
    {
     "data": {
      "text/html": [
       "<iframe width=\"560\" height=\"315\" src=\"https://www.youtube.com/embed/3TBS2vnBxow\" frameborder=\"0\" allow=\"accelerometer; encrypted-media; gyroscope; picture-in-picture\" allowfullscreen></iframe>\n"
      ],
      "text/plain": [
       "<IPython.core.display.HTML object>"
      ]
     },
     "metadata": {},
     "output_type": "display_data"
    }
   ],
   "source": [
    "%%html\n",
    "<iframe width=\"560\" height=\"315\" src=\"https://www.youtube.com/embed/3TBS2vnBxow\" frameborder=\"0\" allow=\"accelerometer; encrypted-media; gyroscope; picture-in-picture\" allowfullscreen></iframe>"
   ]
  },
  {
   "cell_type": "markdown",
   "metadata": {
    "slideshow": {
     "slide_type": "-"
    }
   },
   "source": [
    "Let's call our Quantisation function Q(x) (this is quantization followed by reverse quantization). You can also think of non-uniform quantization as first applying this non-linear function and then to use uniform quantization. Then the expectation of our quantization power is:\n",
    "\n",
    "$$\n",
    "D=E((x-Q(x))^2)\n",
    "$$\n",
    "\n",
    "Observe that we use the square here, and not for instance the magnitude of the error, because the square leads to an easier solution for minimum, which we would like to find.\n",
    "\n",
    "Our **goal** is to **minimize this expectation** of the quantisation error power D.\n",
    "Starting with the pdf of our signal, the result should be our quantisation intervals and reconstruction values. Since we now assume non-uniform intervals, we need to give those intervals and their reconstruction values names, which can be see in the following graphic:\n",
    "\n",
    "<center>\n",
    "    <img src=\"./images/lloyd_max.png\" width='600'>\n",
    "</center>"
   ]
  },
  {
   "cell_type": "code",
   "execution_count": 3,
   "metadata": {
    "hide_input": true
   },
   "outputs": [
    {
     "data": {
      "text/html": [
       "<iframe width=\"560\" height=\"315\" src=\"https://www.youtube.com/embed/1Fr1Qo2-nEk\" frameborder=\"0\" allow=\"accelerometer; encrypted-media; gyroscope; picture-in-picture\" allowfullscreen></iframe>\n"
      ],
      "text/plain": [
       "<IPython.core.display.HTML object>"
      ]
     },
     "metadata": {},
     "output_type": "display_data"
    }
   ],
   "source": [
    "%%html\n",
    "<iframe width=\"560\" height=\"315\" src=\"https://www.youtube.com/embed/1Fr1Qo2-nEk\" frameborder=\"0\" allow=\"accelerometer; encrypted-media; gyroscope; picture-in-picture\" allowfullscreen></iframe>"
   ]
  },
  {
   "cell_type": "markdown",
   "metadata": {
    "slideshow": {
     "slide_type": "-"
    }
   },
   "source": [
    "The encoder knows the $b_k$, and decides in which interval (what we called $\\Delta$ before) the sample lies, and assigns the interval index k to it, as before (remember: only the index k is transmitted to the decoder). The decoder takes this index, and assigns the reconstructed value $y_k$ to it, also as before.\n",
    "\n",
    "\n",
    "We call $b_k$ the decision boundaries, in the A/D converter or encoder (each interval gets an index as before), and on the decoding side we have the $y_k$ as the reconstruction values for each index from the encoding side. <br>\n",
    "In the multidimensional case, they are also called a “**codeword**”. \n",
    "\n",
    "So using these definitions, and the pdf  our  the measured **probability distribution** of our signal p(x),  we can re-write our equation for the error power or distortion:\n",
    "\n",
    "$$ \\large\n",
    "D=E((x-Q(x))^2)=\\int_{-\\infty} ^ \\infty (x-Q(x))^2 p(x) dx\n",
    "$$\n",
    "\n",
    "we can now subdivide the integral over the quantisation intervals, assuming we have M quantization intervals, by just adding the quantization error power of all the quantisation intervals (see also: Wikipedia: quantization (signal processing)):\n",
    "\n",
    "$$ \\large\n",
    "D=\\sum _ {k=1} ^ {M }\\int _ {b_{k-1}} ^ {b_k} (x-y_k)^2 p(x) dx$$\n",
    "\n",
    "We would now like to have the minimum of this expression for the decision boundaries $b_k$ and the reconstruction values $y_k$. Hence we need to take the first derivative of the distortion D with respect to those variables and obtain the zero point."
   ]
  },
  {
   "cell_type": "code",
   "execution_count": 4,
   "metadata": {
    "hide_input": true
   },
   "outputs": [
    {
     "data": {
      "text/html": [
       "<iframe width=\"560\" height=\"315\" src=\"https://www.youtube.com/embed/4wLah9Agrnw\" frameborder=\"0\" allow=\"accelerometer; encrypted-media; gyroscope; picture-in-picture\" allowfullscreen></iframe>\n"
      ],
      "text/plain": [
       "<IPython.core.display.HTML object>"
      ]
     },
     "metadata": {},
     "output_type": "display_data"
    }
   ],
   "source": [
    "%%html\n",
    "<iframe width=\"560\" height=\"315\" src=\"https://www.youtube.com/embed/4wLah9Agrnw\" frameborder=\"0\" allow=\"accelerometer; encrypted-media; gyroscope; picture-in-picture\" allowfullscreen></iframe>"
   ]
  },
  {
   "cell_type": "markdown",
   "metadata": {
    "slideshow": {
     "slide_type": "-"
    }
   },
   "source": [
    "Lets start with the decision boundaries $b_k$:\n",
    "\n",
    "$$\\large\n",
    "\\frac{\\partial D} {\\partial {b_k}}=0$$\n",
    "\n",
    "To obtain this derivative, we could first solve the integral, over 2 neighbouring quantisation intervals, because each decision interval $b_k$ appears in two intervals (one where it is the upper boundary, and one where it it the lower boundary).\n",
    "\n",
    "$$ \\large\n",
    "D_k=\\int _ {b_k }^ {b_{k+1}} (x-y_{k+1})^2 p(x) dx+ \\int _ {b_{k-1}} ^ {b_{k}} (x-y_{k})^2 p(x) dx\n",
    "$$\n",
    "\n",
    "Here we cannot really get a closed form solution for a general probability function p(x). Hence, to simplify matters, we make the **assumption** that p(x) is **approximately constant** over our 2 neighbouring quantisation intervals. This means we assume that our quantisation intervals are small in comparison with the changes of p(x)! \n",
    "\n",
    "**We need to keep this assumption in mind, because the derived algorithm is based on this assumption!**\n",
    "\n",
    "Hence we can set:\n",
    "\n",
    "$$p(x)=p$$\n",
    "\n",
    "Using this simplification we can now solve this integral:\n",
    "\n",
    "$$ \\large\n",
    "\\frac{D_k} {p}= \\frac{(b_k-y_k)^3}{ 3} - \\frac{(b_{k-1}-y_k)^3} {3 }+ \\frac{(b_{k+1}-y_{k+1})^3} { 3} -\\frac{(b_{k}-y_{k+1})^3} {3} $$"
   ]
  },
  {
   "cell_type": "markdown",
   "metadata": {
    "slideshow": {
     "slide_type": "subslide"
    }
   },
   "source": [
    "#### Solving using Sympy"
   ]
  },
  {
   "cell_type": "code",
   "execution_count": 5,
   "metadata": {
    "slideshow": {
     "slide_type": "-"
    }
   },
   "outputs": [],
   "source": [
    "# Imports \n",
    "from sympy import Eq, symbols, Integral, Derivative, simplify, solve\n",
    "\n",
    "# Define Symbols\n",
    "x, yk, yk1, bk, bkp1, bkm1, p = symbols('x y_k y_{k+1} b_k b_{k+1} b_{k-1} p', real=True)"
   ]
  },
  {
   "cell_type": "code",
   "execution_count": 6,
   "metadata": {
    "slideshow": {
     "slide_type": "-"
    }
   },
   "outputs": [
    {
     "data": {
      "text/latex": [
       "$\\displaystyle \\int\\limits_{b_{k-1}}^{b_{k}} p \\left(x - y_{k}\\right)^{2}\\, dx + \\int\\limits_{b_{k}}^{b_{k+1}} p \\left(x - y_{k+1}\\right)^{2}\\, dx$"
      ],
      "text/plain": [
       "Integral(p*(x - y_k)**2, (x, b_{k-1}, b_k)) + Integral(p*(x - y_{k+1})**2, (x, b_k, b_{k+1}))"
      ]
     },
     "metadata": {},
     "output_type": "display_data"
    },
    {
     "data": {
      "text/latex": [
       "$\\displaystyle \\frac{p \\left(- 3 b_{k}^{2} y_{k} + 3 b_{k}^{2} y_{k+1} + 3 b_{k} y_{k}^{2} - 3 b_{k} y_{k+1}^{2} + b_{k+1}^{3} - 3 b_{k+1}^{2} y_{k+1} + 3 b_{k+1} y_{k+1}^{2} - b_{k-1}^{3} + 3 b_{k-1}^{2} y_{k} - 3 b_{k-1} y_{k}^{2}\\right)}{3}$"
      ],
      "text/plain": [
       "p*(-3*b_k**2*y_k + 3*b_k**2*y_{k+1} + 3*b_k*y_k**2 - 3*b_k*y_{k+1}**2 + b_{k+1}**3 - 3*b_{k+1}**2*y_{k+1} + 3*b_{k+1}*y_{k+1}**2 - b_{k-1}**3 + 3*b_{k-1}**2*y_k - 3*b_{k-1}*y_k**2)/3"
      ]
     },
     "execution_count": 6,
     "metadata": {},
     "output_type": "execute_result"
    }
   ],
   "source": [
    "# Dk Integral\n",
    "Dk = Integral((x-yk1)**2*p,(x,bk,bkp1)) + Integral((x-yk)**2*p,(x,bkm1,bk))\n",
    "display(Dk)\n",
    "simplify(Dk.doit())"
   ]
  },
  {
   "cell_type": "markdown",
   "metadata": {
    "slideshow": {
     "slide_type": "-"
    }
   },
   "source": [
    "Since we now have a closed form solution, we can easily take the derivative with respect to $b_k$ (which only influences $D_k$ in $D$, hence we can drop the k in the derivative):\n",
    "\n",
    "$$ \\large\n",
    "\\frac{\\partial D/p}  {\\partial {b_k}} = (b_k -y_k)^2 -(b_k -y_{k+1})^2$$"
   ]
  },
  {
   "cell_type": "code",
   "execution_count": 7,
   "metadata": {
    "slideshow": {
     "slide_type": "-"
    }
   },
   "outputs": [
    {
     "data": {
      "text/latex": [
       "$\\displaystyle \\frac{\\partial}{\\partial b_{k}} \\frac{\\int\\limits_{b_{k-1}}^{b_{k}} p \\left(x - y_{k}\\right)^{2}\\, dx + \\int\\limits_{b_{k}}^{b_{k+1}} p \\left(x - y_{k+1}\\right)^{2}\\, dx}{p}$"
      ],
      "text/plain": [
       "Derivative((Integral(p*(x - y_k)**2, (x, b_{k-1}, b_k)) + Integral(p*(x - y_{k+1})**2, (x, b_k, b_{k+1})))/p, b_k)"
      ]
     },
     "metadata": {},
     "output_type": "display_data"
    },
    {
     "data": {
      "text/latex": [
       "$\\displaystyle - 2 b_{k} y_{k} + 2 b_{k} y_{k+1} + y_{k}^{2} - y_{k+1}^{2}$"
      ],
      "text/plain": [
       "-2*b_k*y_k + 2*b_k*y_{k+1} + y_k**2 - y_{k+1}**2"
      ]
     },
     "execution_count": 7,
     "metadata": {},
     "output_type": "execute_result"
    }
   ],
   "source": [
    "display(Derivative(Dk/p,bk))\n",
    "simplify(Derivative(Dk/p,bk).doit())"
   ]
  },
  {
   "cell_type": "markdown",
   "metadata": {
    "slideshow": {
     "slide_type": "-"
    }
   },
   "source": [
    "We can set this then to zero, and observing that $y_{k+1}>b_k$ (see above image), we can take the positive square root of both sides:\n",
    "\n",
    "$$ \\large\n",
    "(b_k -y_k)^2 -(b_k -y_{k+1})^2=0\n",
    "$$\n",
    "\n",
    "$$ \\large\n",
    "(b_k -y_k) =( y_{k+1} - b_k)\n",
    "$$\n",
    "\n",
    "$$ \\large\n",
    "b_k= \\frac{y_{k+1}+\n",
    "y_k} { 2}$$\n",
    "\n",
    "This means that we put our decision boundaries right in the middle of two reconstruction values. But remember, this is only optimal if we assume that the signals pdf is roughly constant over the 2 quantisation intervals! This approach is also called the “**nearest neighbour**”, because any signal value or data point is always quantized to the **nearest reconstruction value**. This is one important result of this strategy."
   ]
  },
  {
   "cell_type": "code",
   "execution_count": 8,
   "metadata": {
    "slideshow": {
     "slide_type": "-"
    }
   },
   "outputs": [
    {
     "data": {
      "text/latex": [
       "$\\displaystyle - 2 b_{k} y_{k} + 2 b_{k} y_{k+1} + y_{k}^{2} - y_{k+1}^{2} = 0$"
      ],
      "text/plain": [
       "Eq(-2*b_k*y_k + 2*b_k*y_{k+1} + y_k**2 - y_{k+1}**2, 0)"
      ]
     },
     "metadata": {},
     "output_type": "display_data"
    },
    {
     "data": {
      "text/latex": [
       "$\\displaystyle b_{k} = \\frac{y_{k}}{2} + \\frac{y_{k+1}}{2}$"
      ],
      "text/plain": [
       "Eq(b_k, y_k/2 + y_{k+1}/2)"
      ]
     },
     "metadata": {},
     "output_type": "display_data"
    }
   ],
   "source": [
    "Eq_bk = Eq(simplify(Derivative(Dk/p,bk).doit()))\n",
    "display(Eq_bk)\n",
    "display(Eq(bk,solve(Eq_bk,bk)[0]))"
   ]
  },
  {
   "cell_type": "markdown",
   "metadata": {
    "slideshow": {
     "slide_type": "subslide"
    }
   },
   "source": [
    "Now we have the decision boundaries, but we still need the reconstruction values $y_k$. To obtain them, we can again take the derivative of D, and set it to zero. Here we cannot start with an assumption of a uniform pdf, because we would like to have a dependency on a non-uniform pdf. We could make this assumption before, because we only assumed it for the (small) quantisation intervals. This can be true in practice also for non-uniform pdf's, if we have enough quantisation intervals.\n",
    "\n",
    "But to still have the dependency on the pdf, for the reconstruction values $y_k$ we have to start at the beginning, take the derivative of the original formulation of D.\n",
    "\n",
    "$$ \\large\n",
    "D=\\sum_{k=1} ^M \\int _{b_{k-1}}^ {b_k} (x-y_k)^2 p(x) dx$$\n",
    "\n",
    "\n",
    "Here we have the pdf p(x) and the reconstruction values (codewords) $y_k$. Now we start with taking the derivative with respect to the reconstruction value $y_k$ and set it to 0:\n",
    "\n",
    "$$ \\large\n",
    "\\frac{\\partial D} {\\partial {y_k}}=-\\sum_ {k=1} ^ {M} \\int_{b_{k-1}} ^{b_k} 2 \\cdot (x-y_k) p(x) dx = 0\n",
    "$$"
   ]
  },
  {
   "cell_type": "code",
   "execution_count": 9,
   "metadata": {
    "hide_input": true
   },
   "outputs": [
    {
     "data": {
      "text/html": [
       "<iframe width=\"560\" height=\"315\" src=\"https://www.youtube.com/embed/DTeqd_PFbQc\" frameborder=\"0\" allow=\"accelerometer; encrypted-media; gyroscope; picture-in-picture\" allowfullscreen></iframe>\n"
      ],
      "text/plain": [
       "<IPython.core.display.HTML object>"
      ]
     },
     "metadata": {},
     "output_type": "display_data"
    }
   ],
   "source": [
    "%%html\n",
    "<iframe width=\"560\" height=\"315\" src=\"https://www.youtube.com/embed/DTeqd_PFbQc\" frameborder=\"0\" allow=\"accelerometer; encrypted-media; gyroscope; picture-in-picture\" allowfullscreen></iframe>"
   ]
  },
  {
   "cell_type": "code",
   "execution_count": 10,
   "metadata": {
    "slideshow": {
     "slide_type": "-"
    }
   },
   "outputs": [],
   "source": [
    "from sympy import Function, Sum, Indexed\n",
    "p_x = Function('p')(x)\n",
    "M, k = symbols('M k', real=True, positive=True)"
   ]
  },
  {
   "cell_type": "code",
   "execution_count": 11,
   "metadata": {
    "slideshow": {
     "slide_type": "-"
    }
   },
   "outputs": [
    {
     "data": {
      "text/latex": [
       "$\\displaystyle \\sum_{k=1}^{M} \\int\\limits_{b_{k-1}}^{b_{k}} \\left(x - y_{k}\\right)^{2} p{\\left(x \\right)}\\, dx$"
      ],
      "text/plain": [
       "Sum(Integral((x - y_k)**2*p(x), (x, b_{k-1}, b_k)), (k, 1, M))"
      ]
     },
     "metadata": {},
     "output_type": "display_data"
    },
    {
     "data": {
      "text/latex": [
       "$\\displaystyle \\frac{\\partial}{\\partial y_{k}} \\sum_{k=1}^{M} \\int\\limits_{b_{k-1}}^{b_{k}} \\left(x - y_{k}\\right)^{2} p{\\left(x \\right)}\\, dx$"
      ],
      "text/plain": [
       "Derivative(Sum(Integral((x - y_k)**2*p(x), (x, b_{k-1}, b_k)), (k, 1, M)), y_k)"
      ]
     },
     "metadata": {},
     "output_type": "display_data"
    }
   ],
   "source": [
    "D = Sum(Integral((x-yk)**2*p_x,(x,bkm1,bk)),(k,1,M))\n",
    "display(D)\n",
    "display(Derivative(D,yk))"
   ]
  },
  {
   "cell_type": "markdown",
   "metadata": {
    "slideshow": {
     "slide_type": "-"
    }
   },
   "source": [
    "Since the $y_k$ is only in 1 interval, the sum disappears:\n",
    "\n",
    "$$ \\large\n",
    "\\frac{\\partial D}{\\partial {y_k}}=- \\int _ {b_{k-1}}^{b_k} 2 \\cdot (x-y_k) p(x) dx = 0\n",
    "$$\n"
   ]
  },
  {
   "cell_type": "code",
   "execution_count": 12,
   "metadata": {
    "slideshow": {
     "slide_type": "-"
    }
   },
   "outputs": [
    {
     "data": {
      "text/latex": [
       "$\\displaystyle \\frac{\\partial}{\\partial y_{k}} \\int\\limits_{b_{k-1}}^{b_{k}} \\left(x - y_{k}\\right)^{2} p{\\left(x \\right)}\\, dx$"
      ],
      "text/plain": [
       "Derivative(Integral((x - y_k)**2*p(x), (x, b_{k-1}, b_k)), y_k)"
      ]
     },
     "metadata": {},
     "output_type": "display_data"
    },
    {
     "data": {
      "text/latex": [
       "$\\displaystyle \\int\\limits_{b_{k-1}}^{b_{k}} 2 \\left(- x + y_{k}\\right) p{\\left(x \\right)}\\, dx$"
      ],
      "text/plain": [
       "Integral(2*(-x + y_k)*p(x), (x, b_{k-1}, b_k))"
      ]
     },
     "metadata": {},
     "output_type": "display_data"
    }
   ],
   "source": [
    "display(Derivative(Integral((x-yk)**2*p_x,(x,bkm1,bk)),yk))\n",
    "display(simplify(Derivative(Integral((x-yk)**2*p_x,(x,bkm1,bk)),yk).doit()))"
   ]
  },
  {
   "cell_type": "markdown",
   "metadata": {
    "slideshow": {
     "slide_type": "-"
    }
   },
   "source": [
    "Since we have a sum, we can split this integral in 2 parts (and remove the - sign):\n",
    "\n",
    "\n",
    "$$ \\large\n",
    "\\int _ {b_{k-1}}^{b_k} 2 \\cdot x p(x) dx -\\int _{b_{k-1}} ^ {b_k} 2 \\cdot y_k p(x) dx = 0\n",
    "$$\n",
    "\n",
    "$$ \\large\n",
    "\\int _ {b_{k-1}} ^ {b_k}   x \\cdot p(x) dx -y_k \\cdot \\int_ {b_{k-1}} ^ {b_k}  p(x) dx = 0\n",
    "$$\n",
    "\n",
    "Hence we get the result\n",
    "\n",
    "$$ \\large\n",
    "y_k = \\frac{\\int _ {b_{k-1}}^ {b_k}   x \\cdot p(x) dx}  {\\int _{b_{k-1}} ^{b_k}  p(x) dx}\n",
    "$$"
   ]
  },
  {
   "cell_type": "code",
   "execution_count": 13,
   "metadata": {
    "slideshow": {
     "slide_type": "-"
    }
   },
   "outputs": [
    {
     "data": {
      "text/latex": [
       "$\\displaystyle - 2 \\int\\limits_{b_{k-1}}^{b_{k}} x p{\\left(x \\right)}\\, dx + 2 \\int\\limits_{b_{k-1}}^{b_{k}} y_{k} p{\\left(x \\right)}\\, dx = 0$"
      ],
      "text/plain": [
       "Eq(-2*Integral(x*p(x), (x, b_{k-1}, b_k)) + 2*Integral(y_k*p(x), (x, b_{k-1}, b_k)), 0)"
      ]
     },
     "metadata": {},
     "output_type": "display_data"
    },
    {
     "data": {
      "text/latex": [
       "$\\displaystyle - 2 \\int\\limits_{b_{k-1}}^{b_{k}} x p{\\left(x \\right)}\\, dx = - 2 y_{k} \\int\\limits_{b_{k-1}}^{b_{k}} p{\\left(x \\right)}\\, dx$"
      ],
      "text/plain": [
       "Eq(-2*Integral(x*p(x), (x, b_{k-1}, b_k)), -2*y_k*Integral(p(x), (x, b_{k-1}, b_k)))"
      ]
     },
     "metadata": {},
     "output_type": "display_data"
    },
    {
     "data": {
      "text/latex": [
       "$\\displaystyle y_{k} = \\frac{\\int\\limits_{b_{k-1}}^{b_{k}} x p{\\left(x \\right)}\\, dx}{\\int\\limits_{b_{k-1}}^{b_{k}} p{\\left(x \\right)}\\, dx}$"
      ],
      "text/plain": [
       "Eq(y_k, Integral(x*p(x), (x, b_{k-1}, b_k))/Integral(p(x), (x, b_{k-1}, b_k)))"
      ]
     },
     "execution_count": 13,
     "metadata": {},
     "output_type": "execute_result"
    }
   ],
   "source": [
    "display(Eq(-2*(Integral(x*p_x,(x,bkm1,bk)) - Integral(yk*p_x,(x,bkm1,bk)))))\n",
    "Eq_yk=Eq(-2*(Integral(x*p_x,(x,bkm1,bk))),-2*yk*Integral(p_x,(x,bkm1,bk)))\n",
    "display(Eq_yk)\n",
    "Eq(yk,solve(Eq_yk,yk)[0])"
   ]
  },
  {
   "cell_type": "markdown",
   "metadata": {
    "slideshow": {
     "slide_type": "-"
    }
   },
   "source": [
    "Observe that we now got a result without making any assumptions on p(x).\n",
    "\n",
    "This can be interpreted as a **conditional expectation** of our signal value over the quantization interval (given the signal is in this interval), or also its “**centroid**” as reconstruction value (codeword). \n",
    "\n",
    "- The value in the numerator can be seen as the expectation value of  our signal in the interval.\n",
    "- The denominator can be seen as the probability of that signal being in that interval. \n",
    "\n",
    "Hence it can be interpreted as: Given the signal is inside the interval, this is its average or expected value.\n",
    "\n",
    "Since the decision boundaries $b_k$ depend on the reconstruction values $y_k$, and the $y_k$ in turn depend on the $b_k$, we need to come up with a way to compute them. The approach for this is an **iterative algorithm**:\n",
    "\n",
    "<ol>\n",
    "  <li>Decide on M, start (initialize the iteration) with a <b> random </b> assignment of M <b>reconstruction values </b> (codewords) $y_k$</li>\n",
    "  <li>Using the reconstruction values $y_k$, compute the <b>boundary values</b> $b_k$ as mid-points between 2 reconstruction values / codewords (<b>nearest neighbour rule</b>)</li>\n",
    "  <li>Using the pdf of our signal and the boundary values $b_k$, update, <b>compute new reconstruction values (codewords) $y_k$ as centroids or conditional expectation over the quantisation areas between $b_k$ and $b_{k-1}$</b></li>\n",
    "    <li>Go to 2) until update is sufficiently small (&lt; epsilon).</li>\n",
    "</ol>\n",
    "\n",
    "This algorithm usually converges (it finds an equilibrium and doesn't change anymore), and it results in the minimum distortion D."
   ]
  },
  {
   "cell_type": "code",
   "execution_count": 14,
   "metadata": {
    "hide_input": true
   },
   "outputs": [
    {
     "data": {
      "text/html": [
       "<iframe width=\"560\" height=\"315\" src=\"https://www.youtube.com/embed/nPk1vHD6S8s\" frameborder=\"0\" allow=\"accelerometer; encrypted-media; gyroscope; picture-in-picture\" allowfullscreen></iframe>\n"
      ],
      "text/plain": [
       "<IPython.core.display.HTML object>"
      ]
     },
     "metadata": {},
     "output_type": "display_data"
    }
   ],
   "source": [
    "%%html\n",
    "<iframe width=\"560\" height=\"315\" src=\"https://www.youtube.com/embed/nPk1vHD6S8s\" frameborder=\"0\" allow=\"accelerometer; encrypted-media; gyroscope; picture-in-picture\" allowfullscreen></iframe>"
   ]
  },
  {
   "cell_type": "markdown",
   "metadata": {
    "slideshow": {
     "slide_type": "slide"
    }
   },
   "source": [
    "## Example 1 for Max-Lloyd Interation"
   ]
  },
  {
   "cell_type": "markdown",
   "metadata": {
    "slideshow": {
     "slide_type": "-"
    }
   },
   "source": [
    "Assume we have a signal x between $0\\leq x \\leq 1$, uniformly distributed (p(x)=1 on this interval) and we want to have 2 reconstruction values/ codewords $y_k$, and hence 3 boundaries $b_k$ (where $b_0=0$ and $b_2=1$), we need to find only $b_1$.\n",
    "\n",
    "1) **Random initialization:** $y_1=0.3$, $y_2=0.8$<br> \n",
    "2) **Nearest neighbour:** $b_1=(0.3+0.8)/2=0.55$<br> \n",
    "3) **Conditional expectation:** <br>\n",
    "\n",
    "$$ \\large\n",
    "y_k = \\frac{\\int_{b_{k-1}}^ {b_k}   x \\cdot p(x) dx} {\\int_ {b_{k-1}}^{b_k}  p(x) dx}$$\n",
    "\n",
    "now we use that $p(x)=1$.\n",
    "\n",
    "$$\n",
    "y_1 = \\frac{\\int_{0} ^{0.55}   x  dx} {\\int _ {0} ^ {0.55}  1 dx}=\\frac{0.55^2 /2}{ 0.55 }= 0.275\n",
    "$$\n",
    "<br>\n",
    "$$\n",
    "y_2 = \\frac{\\int_{0.55} ^{1}   x  dx} {\\int _ {0.55} ^ {1}  1 dx}=\\frac{1/2-0.55^2/2}{1- 0.55 }= 0.775\n",
    "$$<br>\n",
    "\n",
    "4) Go to 2), **nearest neighbour:**\n",
    "$b_1=(0.275+0.775)/2=0.525$\n",
    "\n",
    "3) **Conditional expectation:**<br>\n",
    "\n",
    "$y_1 = \\frac{0.525^2 /2}{ 0.525} = 0.26250$\n",
    "\n",
    "$y_2 =\\frac{1/2-0.525^2 / 2} {1- 0.525} =  0.76250$\n",
    "\n",
    "and so on until it doesn't change much any more. This should converge to $y_1=0.25$, $y_2=0.75$, and $b_1=0.5$."
   ]
  },
  {
   "cell_type": "code",
   "execution_count": 15,
   "metadata": {
    "hide_input": true
   },
   "outputs": [
    {
     "data": {
      "text/html": [
       "<iframe width=\"560\" height=\"315\" src=\"https://www.youtube.com/embed/5rNDlO5xYv0\" frameborder=\"0\" allow=\"accelerometer; encrypted-media; gyroscope; picture-in-picture\" allowfullscreen></iframe>\n"
      ],
      "text/plain": [
       "<IPython.core.display.HTML object>"
      ]
     },
     "metadata": {},
     "output_type": "display_data"
    }
   ],
   "source": [
    "%%html\n",
    "<iframe width=\"560\" height=\"315\" src=\"https://www.youtube.com/embed/5rNDlO5xYv0\" frameborder=\"0\" allow=\"accelerometer; encrypted-media; gyroscope; picture-in-picture\" allowfullscreen></iframe>"
   ]
  },
  {
   "cell_type": "code",
   "execution_count": 16,
   "metadata": {
    "slideshow": {
     "slide_type": "-"
    }
   },
   "outputs": [],
   "source": [
    "import numpy as np\n",
    "from scipy.integrate import quad\n",
    "\n",
    "# Algorithm \n",
    "\n",
    "def b_k(y):\n",
    "    return (y.sum())/2\n",
    "\n",
    "def y_k(b):\n",
    "    return np.array([(quad(lambda x: x,0,b)[0]/quad(lambda x: 1,0,b)[0]),\n",
    "           (quad(lambda x: x,b,1)[0]/quad(lambda x: 1,b,1)[0])])\n"
   ]
  },
  {
   "cell_type": "code",
   "execution_count": 17,
   "metadata": {
    "slideshow": {
     "slide_type": "-"
    }
   },
   "outputs": [
    {
     "name": "stdout",
     "output_type": "stream",
     "text": [
      "Iteration: 14\n",
      "[y1 y2]: [0.2500061 0.7500061]\n",
      "b: 0.500006103515625\n"
     ]
    }
   ],
   "source": [
    "y = np.array([0.3,0.8])\n",
    "it = 100\n",
    "epsilon=1e-5\n",
    "b=0\n",
    "for i in range(it):\n",
    "    b_old=b\n",
    "    b=b_k(y)\n",
    "    if i>0 and (b_old-b)<=epsilon:\n",
    "        print('Iteration:',i+1)\n",
    "        print('[y1 y2]:',y)\n",
    "        print('b:',b)\n",
    "        break\n",
    "    y=y_k(b)"
   ]
  },
  {
   "cell_type": "markdown",
   "metadata": {
    "slideshow": {
     "slide_type": "slide"
    }
   },
   "source": [
    "## Example 2"
   ]
  },
  {
   "cell_type": "markdown",
   "metadata": {
    "slideshow": {
     "slide_type": "-"
    }
   },
   "source": [
    "Like above, but now with a **non-uniform**, Laplacian pdf: $p(x)=e^{-0.5\\cdot \\mid x \\mid}$\n",
    "   \n",
    "1) **Random initialization:** $y_1=0.3$ ,$y_2=0.8$ <br>\n",
    "2) **Nearest neighbour:** $b_1=(0.3+0.8)/2=0.55$<br> \n",
    "3) **Conditional expectation:**\n",
    "\n",
    "$$ \\large\n",
    "y_k=\\frac{\\int _{b_{k-1}} ^{b_k} x \\cdot p(x)dx}{\\int _{b_{k-1}}^{b_k} p(x)dx}\n",
    "$$\n"
   ]
  },
  {
   "cell_type": "markdown",
   "metadata": {
    "slideshow": {
     "slide_type": "-"
    }
   },
   "source": [
    "Now we need Python to compute the numerator integral, for $y_1$:\n",
    "\n",
    "$$ \\large\n",
    "\\int _0^{b_1} x \\cdot p(x)dx= \\int_0 ^{0.55} x \\cdot e^{-0.5 \\cdot \\mid(x)\\mid } dx\n",
    "$$"
   ]
  },
  {
   "cell_type": "code",
   "execution_count": 18,
   "metadata": {
    "hide_input": true
   },
   "outputs": [
    {
     "data": {
      "text/html": [
       "<iframe width=\"560\" height=\"315\" src=\"https://www.youtube.com/embed/8FFMFzZvXl0\" frameborder=\"0\" allow=\"accelerometer; encrypted-media; gyroscope; picture-in-picture\" allowfullscreen></iframe>\n"
      ],
      "text/plain": [
       "<IPython.core.display.HTML object>"
      ]
     },
     "metadata": {},
     "output_type": "display_data"
    }
   ],
   "source": [
    "%%html\n",
    "<iframe width=\"560\" height=\"315\" src=\"https://www.youtube.com/embed/8FFMFzZvXl0\" frameborder=\"0\" allow=\"accelerometer; encrypted-media; gyroscope; picture-in-picture\" allowfullscreen></iframe>"
   ]
  },
  {
   "cell_type": "code",
   "execution_count": 19,
   "metadata": {
    "slideshow": {
     "slide_type": "-"
    }
   },
   "outputs": [
    {
     "data": {
      "text/plain": [
       "0.1261821715526608"
      ]
     },
     "execution_count": 19,
     "metadata": {},
     "output_type": "execute_result"
    }
   ],
   "source": [
    "# Numerator\n",
    "Num,Nerr=quad(lambda x: x*np.exp(-0.5*abs(x)),0,0.55) \n",
    "Num"
   ]
  },
  {
   "cell_type": "markdown",
   "metadata": {
    "slideshow": {
     "slide_type": "-"
    }
   },
   "source": [
    "For the denominator integral we get:\n",
    "$$ \\large\n",
    "\\int_0 ^{0.55} p(x)dx $$, hence:"
   ]
  },
  {
   "cell_type": "code",
   "execution_count": 20,
   "metadata": {
    "slideshow": {
     "slide_type": "-"
    }
   },
   "outputs": [
    {
     "data": {
      "text/plain": [
       "0.48085575355006305"
      ]
     },
     "execution_count": 20,
     "metadata": {},
     "output_type": "execute_result"
    }
   ],
   "source": [
    "# Denominator\n",
    "Den,Derr=quad(lambda x: np.exp(-0.5*abs(x)),0,0.55) \n",
    "Den"
   ]
  },
  {
   "cell_type": "markdown",
   "metadata": {
    "slideshow": {
     "slide_type": "-"
    }
   },
   "source": [
    "and hence we obtain,\n",
    " \n",
    "$$y_1= \\frac {Num}{ Den} = \\frac{0.12618 }{0.48086} = 0.26240$$"
   ]
  },
  {
   "cell_type": "markdown",
   "metadata": {},
   "source": [
    "For $y_2$ we get:"
   ]
  },
  {
   "cell_type": "code",
   "execution_count": 21,
   "metadata": {
    "slideshow": {
     "slide_type": "-"
    }
   },
   "outputs": [
    {
     "name": "stdout",
     "output_type": "stream",
     "text": [
      "Num =  0.23463387017153867\n",
      "Den =  0.3060829270246701\n",
      "0.7665696105703645\n"
     ]
    }
   ],
   "source": [
    "Num,Nerr=quad(lambda x: x*np.exp(-0.5*abs(x)),0.55,1)\n",
    "print (\"Num = \",Num)\n",
    "Den,Derr=quad(lambda x: np.exp(-0.5*abs(x)),0.55,1)\n",
    "print (\"Den = \",Den)\n",
    "\n",
    "print(Num/Den) "
   ]
  },
  {
   "cell_type": "markdown",
   "metadata": {
    "slideshow": {
     "slide_type": "-"
    }
   },
   "source": [
    "Hence $y_2= 0.7665$.\n",
    "Go back from here to step 2 until convergence."
   ]
  },
  {
   "cell_type": "code",
   "execution_count": 22,
   "metadata": {
    "slideshow": {
     "slide_type": "-"
    }
   },
   "outputs": [],
   "source": [
    "def b_k(y):\n",
    "    return (y.sum())/2\n",
    "\n",
    "def y_k(b):\n",
    "    return np.array([(quad(lambda x: x*np.exp(-0.5*abs(x)),0,b)[0]/quad(lambda x: np.exp(-0.5*abs(x)),0,b)[0]),\n",
    "           (quad(lambda x: x*np.exp(-0.5*abs(x)),b,1)[0]/quad(lambda x: np.exp(-0.5*abs(x)),b,1)[0])])"
   ]
  },
  {
   "cell_type": "code",
   "execution_count": 23,
   "metadata": {
    "slideshow": {
     "slide_type": "-"
    }
   },
   "outputs": [
    {
     "name": "stdout",
     "output_type": "stream",
     "text": [
      "Iteration: 28\n",
      "[y1 y2]: [0.23001919 0.7282855 ]\n",
      "b: 0.47915234324165445\n"
     ]
    }
   ],
   "source": [
    "y = np.array([0.3,0.8])\n",
    "it = 100\n",
    "epsilon=1e-9\n",
    "b=0\n",
    "for i in range(it):\n",
    "    b_old=b\n",
    "    b=b_k(y)\n",
    "    if i>0 and (b_old-b)<=epsilon:\n",
    "        print('Iteration:',i+1)\n",
    "        print('[y1 y2]:',y)\n",
    "        print('b:',b)\n",
    "        break\n",
    "    y=y_k(b)"
   ]
  }
 ],
 "metadata": {
  "kernelspec": {
   "display_name": "Python 3",
   "language": "python",
   "name": "python3"
  },
  "language_info": {
   "codemirror_mode": {
    "name": "ipython",
    "version": 3
   },
   "file_extension": ".py",
   "mimetype": "text/x-python",
   "name": "python",
   "nbconvert_exporter": "python",
   "pygments_lexer": "ipython3",
   "version": "3.7.5"
  },
  "livereveal": {
   "rise": {
    "height": "90%",
    "width": "90%"
   },
   "scroll": true,
   "theme": "sky",
   "transition": "zoom"
  },
  "widgets": {
   "application/vnd.jupyter.widget-state+json": {
    "state": {
     "010411b23dde4ac9b0a3030e14cf116a": {
      "model_module": "@jupyter-widgets/controls",
      "model_module_version": "1.5.0",
      "model_name": "ButtonModel",
      "state": {
       "description": "Start",
       "layout": "IPY_MODEL_6a3bf4da31de478d94493fb7e7bf2612",
       "style": "IPY_MODEL_28c5906b489444688437bc5e2decf81a"
      }
     },
     "02c9485b88554eb9992be45d9860b92e": {
      "model_module": "@jupyter-widgets/base",
      "model_module_version": "1.2.0",
      "model_name": "LayoutModel",
      "state": {}
     },
     "0b8e46359cee465aa82778a67f6c0b96": {
      "model_module": "@jupyter-widgets/base",
      "model_module_version": "1.2.0",
      "model_name": "LayoutModel",
      "state": {}
     },
     "0fbffec0398544c78cc392a8f3387f8e": {
      "model_module": "@jupyter-widgets/base",
      "model_module_version": "1.2.0",
      "model_name": "LayoutModel",
      "state": {}
     },
     "14129132b8da4c588bdb14db56917502": {
      "model_module": "@jupyter-widgets/controls",
      "model_module_version": "1.5.0",
      "model_name": "DescriptionStyleModel",
      "state": {
       "description_width": ""
      }
     },
     "16fff80d180c43a599f5bb2e9b551989": {
      "model_module": "@jupyter-widgets/controls",
      "model_module_version": "1.5.0",
      "model_name": "DescriptionStyleModel",
      "state": {
       "description_width": ""
      }
     },
     "1b001b2ac3e847549ef031ffa10555a7": {
      "model_module": "@jupyter-widgets/base",
      "model_module_version": "1.2.0",
      "model_name": "LayoutModel",
      "state": {}
     },
     "234045dd6a114ecda45e0086e0d54e99": {
      "model_module": "@jupyter-widgets/base",
      "model_module_version": "1.2.0",
      "model_name": "LayoutModel",
      "state": {}
     },
     "238506e028044b5b881ef74c8ad59846": {
      "model_module": "@jupyter-widgets/controls",
      "model_module_version": "1.5.0",
      "model_name": "BoundedIntTextModel",
      "state": {
       "description": "Bit-Depth:",
       "layout": "IPY_MODEL_56ad1c5dc11f482f9602ecf86f593745",
       "max": 16,
       "min": 2,
       "style": "IPY_MODEL_f832049896fd43d3a027ac200b0d333a",
       "value": 8
      }
     },
     "25438168806e49268b476a257216e7dd": {
      "model_module": "@jupyter-widgets/controls",
      "model_module_version": "1.5.0",
      "model_name": "HBoxModel",
      "state": {
       "children": [
        "IPY_MODEL_ad19b104bd2c4274827935f0bc642e1c"
       ],
       "layout": "IPY_MODEL_266d77a5a8bf4ba0b75999d1ff5ec2ba"
      }
     },
     "266d77a5a8bf4ba0b75999d1ff5ec2ba": {
      "model_module": "@jupyter-widgets/base",
      "model_module_version": "1.2.0",
      "model_name": "LayoutModel",
      "state": {}
     },
     "28c5906b489444688437bc5e2decf81a": {
      "model_module": "@jupyter-widgets/controls",
      "model_module_version": "1.5.0",
      "model_name": "ButtonStyleModel",
      "state": {}
     },
     "34f16d143e48488090e222e4ed23e9b8": {
      "model_module": "@jupyter-widgets/controls",
      "model_module_version": "1.5.0",
      "model_name": "DescriptionStyleModel",
      "state": {
       "description_width": ""
      }
     },
     "37389e5b17cf48e3a0021f24e6b830b3": {
      "model_module": "@jupyter-widgets/controls",
      "model_module_version": "1.5.0",
      "model_name": "DescriptionStyleModel",
      "state": {
       "description_width": ""
      }
     },
     "4181a03ad26243f18c1afcbac62c4b93": {
      "model_module": "@jupyter-widgets/controls",
      "model_module_version": "1.5.0",
      "model_name": "DropdownModel",
      "state": {
       "_options_labels": [
        "Mid-Tread",
        "Mid-Rise"
       ],
       "description": "Quantization Type:",
       "index": 0,
       "layout": "IPY_MODEL_0b8e46359cee465aa82778a67f6c0b96",
       "style": "IPY_MODEL_16fff80d180c43a599f5bb2e9b551989"
      }
     },
     "462478cddfff483e922a3aa095a2e610": {
      "model_module": "@jupyter-widgets/controls",
      "model_module_version": "1.5.0",
      "model_name": "CheckboxModel",
      "state": {
       "description": "$\\mu$-Law",
       "disabled": false,
       "layout": "IPY_MODEL_78c567360a394eb19dabc832927f8693",
       "style": "IPY_MODEL_14129132b8da4c588bdb14db56917502",
       "value": false
      }
     },
     "476db36e2ef8495598b90265cb380580": {
      "model_module": "@jupyter-widgets/base",
      "model_module_version": "1.2.0",
      "model_name": "LayoutModel",
      "state": {}
     },
     "510465f7cad54c2db0e18fd7acd3311a": {
      "model_module": "@jupyter-widgets/base",
      "model_module_version": "1.2.0",
      "model_name": "LayoutModel",
      "state": {}
     },
     "5254bdb17cad4908be4e921410737e7b": {
      "model_module": "@jupyter-widgets/controls",
      "model_module_version": "1.5.0",
      "model_name": "DescriptionStyleModel",
      "state": {
       "description_width": ""
      }
     },
     "56ad1c5dc11f482f9602ecf86f593745": {
      "model_module": "@jupyter-widgets/base",
      "model_module_version": "1.2.0",
      "model_name": "LayoutModel",
      "state": {}
     },
     "654babd4900b4e1d91e2eb5889a5db49": {
      "model_module": "@jupyter-widgets/base",
      "model_module_version": "1.2.0",
      "model_name": "LayoutModel",
      "state": {}
     },
     "6a3bf4da31de478d94493fb7e7bf2612": {
      "model_module": "@jupyter-widgets/base",
      "model_module_version": "1.2.0",
      "model_name": "LayoutModel",
      "state": {}
     },
     "78c567360a394eb19dabc832927f8693": {
      "model_module": "@jupyter-widgets/base",
      "model_module_version": "1.2.0",
      "model_name": "LayoutModel",
      "state": {}
     },
     "7bec54694ea94b16aa7ddae3004a6907": {
      "model_module": "@jupyter-widgets/controls",
      "model_module_version": "1.5.0",
      "model_name": "HBoxModel",
      "state": {
       "children": [
        "IPY_MODEL_238506e028044b5b881ef74c8ad59846"
       ],
       "layout": "IPY_MODEL_234045dd6a114ecda45e0086e0d54e99"
      }
     },
     "8aeb4d884e904dfe8c13404fefd0ef6f": {
      "model_module": "@jupyter-widgets/controls",
      "model_module_version": "1.5.0",
      "model_name": "BoundedIntTextModel",
      "state": {
       "description": "Bit-Depth:",
       "layout": "IPY_MODEL_a512d148087f4555b6bceeca8d4ea7a2",
       "max": 16,
       "min": 2,
       "style": "IPY_MODEL_5254bdb17cad4908be4e921410737e7b",
       "value": 8
      }
     },
     "8f63fda556ae49eea3ef4be03fdd736a": {
      "model_module": "@jupyter-widgets/controls",
      "model_module_version": "1.5.0",
      "model_name": "ToggleButtonModel",
      "state": {
       "description": "Stop",
       "layout": "IPY_MODEL_ae6ab56d84d049e8b3a4a6453ee62cb7",
       "style": "IPY_MODEL_34f16d143e48488090e222e4ed23e9b8"
      }
     },
     "a105b9301e4e467b8f27efd88b0dd027": {
      "model_module": "@jupyter-widgets/controls",
      "model_module_version": "1.5.0",
      "model_name": "CheckboxModel",
      "state": {
       "description": "$\\mu$-Law",
       "disabled": false,
       "layout": "IPY_MODEL_02c9485b88554eb9992be45d9860b92e",
       "style": "IPY_MODEL_37389e5b17cf48e3a0021f24e6b830b3",
       "value": false
      }
     },
     "a1f23f60b3804a438ade7232ff60fcbb": {
      "model_module": "@jupyter-widgets/base",
      "model_module_version": "1.2.0",
      "model_name": "LayoutModel",
      "state": {}
     },
     "a512d148087f4555b6bceeca8d4ea7a2": {
      "model_module": "@jupyter-widgets/base",
      "model_module_version": "1.2.0",
      "model_name": "LayoutModel",
      "state": {}
     },
     "ad19b104bd2c4274827935f0bc642e1c": {
      "model_module": "@jupyter-widgets/controls",
      "model_module_version": "1.5.0",
      "model_name": "DropdownModel",
      "state": {
       "_options_labels": [
        "Mid-Tread",
        "Mid-Rise"
       ],
       "description": "Quantization Type:",
       "index": 0,
       "layout": "IPY_MODEL_476db36e2ef8495598b90265cb380580",
       "style": "IPY_MODEL_c7f454f84a4c4ffabeca0e6b66fd00c4"
      }
     },
     "ae6ab56d84d049e8b3a4a6453ee62cb7": {
      "model_module": "@jupyter-widgets/base",
      "model_module_version": "1.2.0",
      "model_name": "LayoutModel",
      "state": {}
     },
     "c1920bdff8b14c4fa8e114b3921d9ade": {
      "model_module": "@jupyter-widgets/controls",
      "model_module_version": "1.5.0",
      "model_name": "HBoxModel",
      "state": {
       "children": [
        "IPY_MODEL_4181a03ad26243f18c1afcbac62c4b93"
       ],
       "layout": "IPY_MODEL_a1f23f60b3804a438ade7232ff60fcbb"
      }
     },
     "c4d45858b9284681914cf8fde9407c40": {
      "model_module": "@jupyter-widgets/controls",
      "model_module_version": "1.5.0",
      "model_name": "DescriptionStyleModel",
      "state": {
       "description_width": ""
      }
     },
     "c7f454f84a4c4ffabeca0e6b66fd00c4": {
      "model_module": "@jupyter-widgets/controls",
      "model_module_version": "1.5.0",
      "model_name": "DescriptionStyleModel",
      "state": {
       "description_width": ""
      }
     },
     "cbfa24b75cc64fddbd7a4eab87c56c46": {
      "model_module": "@jupyter-widgets/controls",
      "model_module_version": "1.5.0",
      "model_name": "HBoxModel",
      "state": {
       "children": [
        "IPY_MODEL_fe565191de1540f5b0197219c460af56",
        "IPY_MODEL_8f63fda556ae49eea3ef4be03fdd736a",
        "IPY_MODEL_a105b9301e4e467b8f27efd88b0dd027"
       ],
       "layout": "IPY_MODEL_1b001b2ac3e847549ef031ffa10555a7"
      }
     },
     "cff4dfddc8ee4f25a80a855bdc65994f": {
      "model_module": "@jupyter-widgets/base",
      "model_module_version": "1.2.0",
      "model_name": "LayoutModel",
      "state": {}
     },
     "d559cd1da181460381dcc77443386833": {
      "model_module": "@jupyter-widgets/controls",
      "model_module_version": "1.5.0",
      "model_name": "ButtonStyleModel",
      "state": {}
     },
     "d768baa1b42743999d0fb702cc36436b": {
      "model_module": "@jupyter-widgets/controls",
      "model_module_version": "1.5.0",
      "model_name": "ToggleButtonModel",
      "state": {
       "description": "Stop",
       "layout": "IPY_MODEL_510465f7cad54c2db0e18fd7acd3311a",
       "style": "IPY_MODEL_c4d45858b9284681914cf8fde9407c40"
      }
     },
     "f6566c5300744aa18d1396449e916c5b": {
      "model_module": "@jupyter-widgets/controls",
      "model_module_version": "1.5.0",
      "model_name": "HBoxModel",
      "state": {
       "children": [
        "IPY_MODEL_8aeb4d884e904dfe8c13404fefd0ef6f"
       ],
       "layout": "IPY_MODEL_cff4dfddc8ee4f25a80a855bdc65994f"
      }
     },
     "f7e7bb40afba4448b0c4506aed91c05a": {
      "model_module": "@jupyter-widgets/controls",
      "model_module_version": "1.5.0",
      "model_name": "HBoxModel",
      "state": {
       "children": [
        "IPY_MODEL_010411b23dde4ac9b0a3030e14cf116a",
        "IPY_MODEL_d768baa1b42743999d0fb702cc36436b",
        "IPY_MODEL_462478cddfff483e922a3aa095a2e610"
       ],
       "layout": "IPY_MODEL_0fbffec0398544c78cc392a8f3387f8e"
      }
     },
     "f832049896fd43d3a027ac200b0d333a": {
      "model_module": "@jupyter-widgets/controls",
      "model_module_version": "1.5.0",
      "model_name": "DescriptionStyleModel",
      "state": {
       "description_width": ""
      }
     },
     "fe565191de1540f5b0197219c460af56": {
      "model_module": "@jupyter-widgets/controls",
      "model_module_version": "1.5.0",
      "model_name": "ButtonModel",
      "state": {
       "description": "Start",
       "layout": "IPY_MODEL_654babd4900b4e1d91e2eb5889a5db49",
       "style": "IPY_MODEL_d559cd1da181460381dcc77443386833"
      }
     }
    },
    "version_major": 2,
    "version_minor": 0
   }
  }
 },
 "nbformat": 4,
 "nbformat_minor": 2
}
