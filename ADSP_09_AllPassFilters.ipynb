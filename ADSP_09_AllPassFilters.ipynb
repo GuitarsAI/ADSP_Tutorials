{
 "cells": [
  {
   "cell_type": "markdown",
   "metadata": {
    "slideshow": {
     "slide_type": "slide"
    }
   },
   "source": [
    "<center>\n",
    "    <img src=\"./images/adsp_logo.png\">\n",
    "</center>\n",
    "\n",
    "### Prof. Dr. -Ing. Gerald Schuller <br> Jupyter Notebook: Renato Profeta\n"
   ]
  },
  {
   "cell_type": "markdown",
   "metadata": {
    "slideshow": {
     "slide_type": "-"
    }
   },
   "source": [
    "# Allpass Filters"
   ]
  },
  {
   "cell_type": "code",
   "execution_count": 2,
   "metadata": {
    "hide_input": true
   },
   "outputs": [
    {
     "data": {
      "text/html": [
       "<iframe width=\"560\" height=\"315\" src=\"https://www.youtube.com/embed/sLY2mSAPh6M\" frameborder=\"0\" allow=\"accelerometer; encrypted-media; gyroscope; picture-in-picture\" allowfullscreen></iframe>\n"
      ],
      "text/plain": [
       "<IPython.core.display.HTML object>"
      ]
     },
     "metadata": {},
     "output_type": "display_data"
    }
   ],
   "source": [
    "%%html\n",
    "<iframe width=\"560\" height=\"315\" src=\"https://www.youtube.com/embed/sLY2mSAPh6M\" frameborder=\"0\" allow=\"accelerometer; encrypted-media; gyroscope; picture-in-picture\" allowfullscreen></iframe>"
   ]
  },
  {
   "cell_type": "markdown",
   "metadata": {
    "slideshow": {
     "slide_type": "-"
    }
   },
   "source": [
    "So far we specified the magnitude of our frequency response and didn't care much about the phase. For allpass filters, it is basically the other way around.\n",
    "\n",
    "In the beginning of filter design, we saw that we can write a transfer function as:\n",
    "\n",
    "$$\\large\n",
    "H(e^{j\\Omega})=e^{j\\phi\\Omega}\\cdot A(e^{j \\Omega})$$\n",
    "\n",
    "Here we specify, or rather, alter the phase, and keep the the magnitude of our frequency response at constant 1, meaning\n",
    "\n",
    "$$A(e^{j\\Omega})=1 $$\n",
    "\n",
    "Hence we would like to have a filter with transfer function H of magnitude constant 1,\n",
    "\n",
    "$$\\mid H(e^{j\\Omega})\\mid=1$$\n",
    "\n",
    "This also means: The magnitude of our z-trnasform is **1 on the unit circle in complex z-plane!**"
   ]
  },
  {
   "cell_type": "code",
   "execution_count": 3,
   "metadata": {
    "hide_input": true
   },
   "outputs": [
    {
     "data": {
      "text/html": [
       "<iframe width=\"560\" height=\"315\" src=\"https://www.youtube.com/embed/sR4_P72QMAk\" frameborder=\"0\" allow=\"accelerometer; encrypted-media; gyroscope; picture-in-picture\" allowfullscreen></iframe>\n"
      ],
      "text/plain": [
       "<IPython.core.display.HTML object>"
      ]
     },
     "metadata": {},
     "output_type": "display_data"
    }
   ],
   "source": [
    "%%html\n",
    "<iframe width=\"560\" height=\"315\" src=\"https://www.youtube.com/embed/sR4_P72QMAk\" frameborder=\"0\" allow=\"accelerometer; encrypted-media; gyroscope; picture-in-picture\" allowfullscreen></iframe>"
   ]
  },
  {
   "cell_type": "markdown",
   "metadata": {
    "slideshow": {
     "slide_type": "slide"
    }
   },
   "source": [
    "## Allpass Filter as Fractional Delay "
   ]
  },
  {
   "cell_type": "code",
   "execution_count": 4,
   "metadata": {
    "hide_input": true
   },
   "outputs": [
    {
     "data": {
      "text/html": [
       "<iframe width=\"560\" height=\"315\" src=\"https://www.youtube.com/embed/_u5IfMjc3aQ\" frameborder=\"0\" allow=\"accelerometer;encrypted-media; gyroscope; picture-in-picture\" allowfullscreen></iframe>\n"
      ],
      "text/plain": [
       "<IPython.core.display.HTML object>"
      ]
     },
     "metadata": {},
     "output_type": "display_data"
    }
   ],
   "source": [
    "%%html\n",
    "<iframe width=\"560\" height=\"315\" src=\"https://www.youtube.com/embed/_u5IfMjc3aQ\" frameborder=\"0\" allow=\"accelerometer;encrypted-media; gyroscope; picture-in-picture\" allowfullscreen></iframe>"
   ]
  },
  {
   "cell_type": "markdown",
   "metadata": {
    "hide_input": true,
    "slideshow": {
     "slide_type": "-"
    }
   },
   "source": [
    "We can use such a filter to implement a “**fractional” delay** $d$, where d is a real number, for instance $d=0.5$ if we want to delay a signal by half a sample. In this case we cannot simply use a memory element as in the case of integer delays. In lecture 8 we saw that in this case, our ideal frequency response in the Discrete Time Fourier Transform (DTFT) domain is\n",
    "\n",
    "$$\\large\n",
    "H(e^{j\\Omega})=e^{-j\\Omega \\cdot d}\n",
    "$$\n",
    "\n",
    "To obtain its **ideal impulse response** for a filter design, we apply the inverse DTFT, also as seen in lecture 8,\n",
    "\n",
    "$$\\large\n",
    "h(n)= \\frac{1 } {2 \\pi} \\cdot \\int_{\\Omega=-\\pi} ^ \\pi H(e^{j\\Omega}) e^{j \\Omega n} d \\Omega =\n",
    "$$\n",
    "\n",
    "$$\\large\n",
    "h(n)= \\frac{1} {2 \\pi} \\cdot \\int _ {\\Omega=-\\pi} ^ \\pi e^{-j \\Omega d} e^{j \\Omega n} d \\Omega =\n",
    "$$\n",
    "\n",
    "\n",
    "$$\\large\n",
    "= \\frac{1} {2 \\pi} \\cdot \\int _ {\\Omega=-\\pi} ^ \\pi e^{j \\Omega(-d+n)}  d \\Omega =\n",
    "$$\n",
    "\n",
    "\n",
    "$$\\large\n",
    " = \\frac{1} {2 \\pi} \\cdot \\left( \\frac{1} {j \\cdot (-d+n)} e^{j \\pi (-d+n)} - \\frac{1} {j \\cdot (-d+n)} e^{-j \\pi (-d+n)}   \\right) =\n",
    "$$\n",
    "\n",
    "using $e^{j \\cdot x}-e^{-j \\cdot x}=2 \\cdot j \\cdot sin(x)$ we obtain:\n",
    "\n",
    "$$\\large\n",
    "=\\frac{1} { 2 \\cdot \\pi \\cdot j \\cdot (-d+n) } \\cdot 2 \\cdot j \\cdot sin( \\pi \\cdot (-d+n) )=\n",
    "$$\n",
    "\n",
    "$$\\large\n",
    "=\\frac{1}  { \\pi  \\cdot (-d+n) }  \\cdot sin( \\pi \\cdot (-d+n) )=\n",
    "$$\n",
    "\n",
    "$$\\large\n",
    "sinc( -d+n )$$\n"
   ]
  },
  {
   "cell_type": "markdown",
   "metadata": {
    "slideshow": {
     "slide_type": "-"
    }
   },
   "source": [
    "This means our ideal impulse response is simply a **sinc function**, shifted by d! For the case of an integer delay d this degenerates to a 1 at the d’th position of our impulse response, and zeros elsewhere. To make this an FIR filter, we need to apply a “**window function**”, as described in the lecture “Multirate Signal Processing”. \n",
    "\n",
    "**Example:** The window function is a sine window:\n",
    "\n",
    "$w(n)=sin(\\frac{\\pi} { L} \\cdot ( n+0.5))$, with n=0..L-1, and L: length of the window. This avoids having sudden ends of the impulse response. We also want to keep the most significant parts of our sinc function, the keep the resulting error small. The samples we drop should be small. To include some of the significant values of the sinc function at negative n, we need to shift it to positive indices (by $n_0$) to make it causal. In this way, we obtain our impulse response,\n",
    "\n",
    "$$\\large\n",
    "h(n)=sinc(-d+n-n_0) \\cdot w(n)$$"
   ]
  },
  {
   "cell_type": "markdown",
   "metadata": {
    "slideshow": {
     "slide_type": "-"
    }
   },
   "source": [
    "**Python example:**\n",
    "\n",
    "Take $L=10, n_0=4$ "
   ]
  },
  {
   "cell_type": "code",
   "execution_count": 5,
   "metadata": {
    "hide_input": true
   },
   "outputs": [
    {
     "data": {
      "text/html": [
       "<iframe width=\"560\" height=\"315\" src=\"https://www.youtube.com/embed/BZv6wgx7PD4\" frameborder=\"0\" allow=\"accelerometer; \n",
       "encrypted-media; gyroscope; picture-in-picture\" allowfullscreen></iframe>\n"
      ],
      "text/plain": [
       "<IPython.core.display.HTML object>"
      ]
     },
     "metadata": {},
     "output_type": "display_data"
    }
   ],
   "source": [
    "%%html\n",
    "<iframe width=\"560\" height=\"315\" src=\"https://www.youtube.com/embed/BZv6wgx7PD4\" frameborder=\"0\" allow=\"accelerometer; \n",
    "encrypted-media; gyroscope; picture-in-picture\" allowfullscreen></iframe>"
   ]
  },
  {
   "cell_type": "code",
   "execution_count": 7,
   "metadata": {
    "slideshow": {
     "slide_type": "-"
    }
   },
   "outputs": [
    {
     "name": "stdout",
     "output_type": "stream",
     "text": [
      "n: [0 1 2 3 4 5 6 7 8 9]\n"
     ]
    },
    {
     "data": {
      "image/png": "[encoded data removed]",
      "text/plain": [
       "<Figure size 432x288 with 1 Axes>"
      ]
     },
     "metadata": {
      "needs_background": "light"
     },
     "output_type": "display_data"
    },
    {
     "data": {
      "image/png": "[encoded data removed]",
      "text/plain": [
       "<Figure size 432x288 with 1 Axes>"
      ]
     },
     "metadata": {
      "needs_background": "light"
     },
     "output_type": "display_data"
    },
    {
     "data": {
      "image/png": "[encoded data removed]",
      "text/plain": [
       "<Figure size 432x288 with 1 Axes>"
      ]
     },
     "metadata": {
      "needs_background": "light"
     },
     "output_type": "display_data"
    },
    {
     "data": {
      "image/png": "[encoded data removed]",
      "text/plain": [
       "<Figure size 432x288 with 1 Axes>"
      ]
     },
     "metadata": {
      "needs_background": "light"
     },
     "output_type": "display_data"
    }
   ],
   "source": [
    "import numpy as np\n",
    "import matplotlib.pyplot as plt\n",
    "\n",
    "#time index range:\n",
    "L=10\n",
    "n=np.arange(L)\n",
    "print('n:',n)\n",
    "\n",
    "w=np.sin(np.pi/L*(n+0.5))\n",
    "plt.figure()\n",
    "plt.plot(w)\n",
    "plt.plot(np.sinc(-0.5+n-4))\n",
    "\n",
    "\n",
    "h=w*np.sinc(-0.5+n-4)\n",
    "\n",
    "plt.plot(h)\n",
    "plt.legend(('Sine Window', 'Sinc Function', 'Windowed SincFunction'),bbox_to_anchor=(1.04,1), loc=\"upper left\")\n",
    "plt.title('The Shifted Windowed Sinc Function')\n",
    "plt.grid()\n",
    "\n",
    "plt.figure()\n",
    "x=np.hstack((np.arange(4),np.zeros(8)))\n",
    "plt.plot(x)\n",
    "\n",
    "import scipy.signal as sp\n",
    "y=sp.lfilter(h,1,x)\n",
    "plt.plot(y)\n",
    "plt.legend(('Original Signal','Shifted signal, by 4.5 samples'),bbox_to_anchor=(1.04,1), loc=\"upper left\")\n",
    "plt.title('The Test Signal, Shifted by our Filter by 4.5 Samples')\n",
    "plt.grid()\n",
    "\n",
    "#Test with longer filter, to reduce errors:\n",
    "plt.figure()\n",
    "L=20\n",
    "n=np.arange(L)\n",
    "w=np.sin(np.pi/L*(n+0.5))\n",
    "plt.plot(np.sinc(-0.5+n-9))\n",
    "h=w*np.sinc(-0.5+n-9)\n",
    "plt.plot(h)\n",
    "plt.legend(('The Shifted Sinc Function','The Shifted Windowed SincFunction'),bbox_to_anchor=(1.04,1), loc=\"upper left\")\n",
    "plt.title('The Shifted Sinc Function')\n",
    "plt.grid()\n",
    "\n",
    "plt.figure()\n",
    "x=np.hstack((np.arange(4),np.zeros(12)))\n",
    "y=sp.lfilter(h,1,x)\n",
    "plt.plot(x)\n",
    "plt.plot(y)\n",
    "plt.legend(('Shifted signal, by 9.5 samples', 'Original Signal'),bbox_to_anchor=(1.04,1), loc=\"upper left\")\n",
    "plt.title('The Test Signal, Shifted by our Filter by 9.5 Samples')\n",
    "plt.grid()"
   ]
  },
  {
   "cell_type": "markdown",
   "metadata": {
    "hide_input": false,
    "slideshow": {
     "slide_type": "-"
    }
   },
   "source": [
    "**Observe:** The longer we make the filter, keeping the main\n",
    "lobe of the sinc function in the center, the smaller the\n",
    "resulting error for the shifted signal x becomes, but the\n",
    "hight of the ripples remains similar."
   ]
  },
  {
   "cell_type": "code",
   "execution_count": 8,
   "metadata": {
    "hide_input": true
   },
   "outputs": [
    {
     "data": {
      "text/html": [
       "<iframe width=\"560\" height=\"315\" src=\"https://www.youtube.com/embed/krAMLN7tF0M\" frameborder=\"0\" allow=\"accelerometer; \n",
       "encrypted-media; gyroscope; picture-in-picture\" allowfullscreen></iframe>\n"
      ],
      "text/plain": [
       "<IPython.core.display.HTML object>"
      ]
     },
     "metadata": {},
     "output_type": "display_data"
    }
   ],
   "source": [
    "%%html\n",
    "<iframe width=\"560\" height=\"315\" src=\"https://www.youtube.com/embed/krAMLN7tF0M\" frameborder=\"0\" allow=\"accelerometer; \n",
    "encrypted-media; gyroscope; picture-in-picture\" allowfullscreen></iframe>"
   ]
  },
  {
   "cell_type": "code",
   "execution_count": 9,
   "metadata": {
    "slideshow": {
     "slide_type": "-"
    }
   },
   "outputs": [
    {
     "data": {
      "image/png": "[encoded data removed]",
      "text/plain": [
       "<Figure size 720x576 with 2 Axes>"
      ]
     },
     "metadata": {
      "needs_background": "light"
     },
     "output_type": "display_data"
    }
   ],
   "source": [
    "from scipy.signal import freqz\n",
    "import numpy as np\n",
    "from matplotlib.ticker import FuncFormatter, MultipleLocator\n",
    "\n",
    "w, h_response  = freqz(h)\n",
    "\n",
    "fig=plt.figure(figsize=(10,8))\n",
    "fig.suptitle('Frequency Response', fontsize=16)\n",
    "plt.subplot(2,1,1)\n",
    "plt.plot(w, 20 * np.log10(abs(h_response)), 'b')\n",
    "plt.ylabel('Amplitude (dB)')\n",
    "plt.xlabel('Normalized Frequency')\n",
    "plt.grid()\n",
    "'''ax = plt.gca()\n",
    "ax.xaxis.set_major_formatter(FuncFormatter(\n",
    "   lambda val,pos: '{:.0g}$\\pi$'.format(val) if val !=0 else '0'\n",
    "))\n",
    "ax.xaxis.set_major_locator(MultipleLocator(base=0.2))'''\n",
    "plt.subplot(2,1,2)\n",
    "angles = np.angle(h_response)\n",
    "plt.plot(w, angles, 'g')\n",
    "'''plt.ylabel('Angle (radians)')\n",
    "plt.xlabel('Normalized Frequency')\n",
    "ax = plt.gca()\n",
    "ax.xaxis.set_major_formatter(FuncFormatter(\n",
    "   lambda val,pos: '{:.0g}$\\pi$'.format(val) if val !=0 else '0'\n",
    "))\n",
    "ax.xaxis.set_major_locator(MultipleLocator(base=0.2))'''\n",
    "plt.grid()\n"
   ]
  },
  {
   "cell_type": "markdown",
   "metadata": {
    "slideshow": {
     "slide_type": "-"
    }
   },
   "source": [
    "**Observe** the phase plot at normalized frequency.\n",
    "\n",
    "Remember: Angle= -d Omega, for a delay d,\n",
    "hence d= -Angle/Omega, the negative slope.\n",
    "\n",
    "Also observe that the magnitude deviates from 0 dB at\n",
    "high frequencies at about above normalized frequency 2.8.\n",
    "\n",
    "To estimate the obtained delay (for verification), we use\n",
    "the mouse, got to y=-3.14, which is the first wrap around\n",
    "point, and read out position x=0.32. From that we obtain\n",
    "the delay d= -y/x=3.14/0.32=9.8, which is indeed roughly\n",
    "the desired 9.5 samples delay. Observe that our calculation\n",
    "from the plot is only a rough estimation.\n",
    "\n",
    "This gives us a **tool for fractional delays!**\n",
    "But we have this attenuation at high high frequencies.\n",
    "IIR filters can improve our filters performance."
   ]
  },
  {
   "cell_type": "code",
   "execution_count": 10,
   "metadata": {
    "slideshow": {
     "slide_type": "-"
    }
   },
   "outputs": [
    {
     "data": {
      "text/plain": [
       "9.462962962962964"
      ]
     },
     "execution_count": 10,
     "metadata": {},
     "output_type": "execute_result"
    }
   ],
   "source": [
    "# Delay:\n",
    "angles.max()/w[np.argmax(angles)]"
   ]
  },
  {
   "cell_type": "markdown",
   "metadata": {
    "hide_input": false,
    "slideshow": {
     "slide_type": "slide"
    }
   },
   "source": [
    "## IIR Fractional Delay Filter Design"
   ]
  },
  {
   "cell_type": "markdown",
   "metadata": {
    "slideshow": {
     "slide_type": "-"
    }
   },
   "source": [
    "In “I. Senesnick, “Low-pass filters realizable as allpass\n",
    "sums: design via a new flat delay filter,” in\n",
    "IEEE Transactions on Circuits and Systems II:\n",
    "Analog and Digital Signal Processing, vol. 46,\n",
    "1999” we found a way to design fractional delay IIR allpass\n",
    "filters. https://ieeexplore.ieee.org/document/749080"
   ]
  },
  {
   "cell_type": "code",
   "execution_count": 11,
   "metadata": {
    "hide_input": true
   },
   "outputs": [
    {
     "data": {
      "text/html": [
       "<iframe width=\"560\" height=\"315\" src=\"https://www.youtube.com/embed/-_-k_o3CLpc\" frameborder=\"0\" allow=\"accelerometer; encrypted-media; gyroscope; picture-in-picture\" allowfullscreen></iframe>\n"
      ],
      "text/plain": [
       "<IPython.core.display.HTML object>"
      ]
     },
     "metadata": {},
     "output_type": "display_data"
    }
   ],
   "source": [
    "%%html\n",
    "<iframe width=\"560\" height=\"315\" src=\"https://www.youtube.com/embed/-_-k_o3CLpc\" frameborder=\"0\" allow=\"accelerometer; encrypted-media; gyroscope; picture-in-picture\" allowfullscreen></iframe>"
   ]
  },
  {
   "cell_type": "code",
   "execution_count": 12,
   "metadata": {
    "hide_input": true,
    "slideshow": {
     "slide_type": "-"
    }
   },
   "outputs": [
    {
     "data": {
      "text/html": [
       "<iframe src='https://ieeexplore.ieee.org/document/749080/references#references', width=800, height=400></iframe>\n"
      ],
      "text/plain": [
       "<IPython.core.display.HTML object>"
      ]
     },
     "metadata": {},
     "output_type": "display_data"
    }
   ],
   "source": [
    "%%html\n",
    "<iframe src='https://ieeexplore.ieee.org/document/749080/references#references', width=800, height=400></iframe>"
   ]
  },
  {
   "cell_type": "markdown",
   "metadata": {
    "hide_input": false,
    "slideshow": {
     "slide_type": "-"
    }
   },
   "source": [
    "As a Python function it is,"
   ]
  },
  {
   "cell_type": "code",
   "execution_count": 13,
   "metadata": {
    "slideshow": {
     "slide_type": "-"
    }
   },
   "outputs": [],
   "source": [
    "def allp_delayfilt(tau):\n",
    "    \n",
    "    '''\n",
    "    produces a Fractional-delay All-pass Filter\n",
    "    Arguments: tau: fractional delay in samples (float).\n",
    "    :returns:\n",
    "    a: Denominator of the transfer function\n",
    "    b: Numerator of the transfer function\n",
    "    '''\n",
    "    \n",
    "    L = int(tau)+1\n",
    "    n = np.arange(0,L)\n",
    "    a_0 = np.array([1.0])\n",
    "    a = np.array(np.cumprod( np.divide(np.multiply((L -\n",
    "    n), (L-n-tau)) , (np.multiply((n+1), (n+1+tau))))))\n",
    "    a = np.append(a_0, a) # Denominator of the transfer function\n",
    "    b = np.flipud(a) # Numerator of the transfer function\n",
    "    return a, b"
   ]
  },
  {
   "cell_type": "code",
   "execution_count": 14,
   "metadata": {
    "slideshow": {
     "slide_type": "-"
    }
   },
   "outputs": [
    {
     "data": {
      "image/png": "[encoded data removed]",
      "text/plain": [
       "<Figure size 720x576 with 1 Axes>"
      ]
     },
     "metadata": {
      "needs_background": "light"
     },
     "output_type": "display_data"
    }
   ],
   "source": [
    "#testing the fractional delay allpass filter\n",
    "import matplotlib.pyplot as plt\n",
    "import scipy.signal as sp\n",
    "#fractional delay of 5.5 samples:\n",
    "a,b=allp_delayfilt(5.5)\n",
    "x=np.hstack((np.arange(4),np.zeros(8)))\n",
    "y=sp.lfilter(b,a,x) #applying the allpass filter\n",
    "\n",
    "plt.figure(figsize=(10,8))\n",
    "plt.title('The IIR Fractional Delay Filter Result')\n",
    "plt.xlabel('Samples')\n",
    "plt.plot(x, label='Original Signal')\n",
    "plt.plot(y, label='Delayed Signal')\n",
    "plt.grid()\n",
    "plt.legend(bbox_to_anchor=(1.04,1), loc=\"upper left\");"
   ]
  },
  {
   "cell_type": "markdown",
   "metadata": {
    "hide_input": false,
    "slideshow": {
     "slide_type": "-"
    }
   },
   "source": [
    "**Observe** that the extrapolated zero crossing of the orange\n",
    "delayed signal would indeed be at around 5.5 samples.\n",
    "Also observe that particularly before our signal we now\n",
    "have **fewer ripples**."
   ]
  },
  {
   "cell_type": "code",
   "execution_count": 15,
   "metadata": {
    "slideshow": {
     "slide_type": "-"
    }
   },
   "outputs": [
    {
     "data": {
      "image/png": "[encoded data removed]",
      "text/plain": [
       "<Figure size 720x576 with 2 Axes>"
      ]
     },
     "metadata": {
      "needs_background": "light"
     },
     "output_type": "display_data"
    }
   ],
   "source": [
    "# Frequency Response\n",
    "\n",
    "from scipy.signal import freqz\n",
    "import numpy as np\n",
    "from matplotlib.ticker import FuncFormatter, MultipleLocator\n",
    "\n",
    "w, h_response  = freqz(b,a)\n",
    "\n",
    "fig=plt.figure(figsize=(10,8))\n",
    "fig.suptitle('Frequency Response', fontsize=16)\n",
    "plt.subplot(2,1,1)\n",
    "plt.plot(w/np.pi, 20 * np.log10(abs(h_response)), 'b')\n",
    "#plt.ylim((-0.001,0.001))\n",
    "plt.ylabel('Amplitude (dB)')\n",
    "plt.xlabel('Normalized Frequency')\n",
    "plt.grid()\n",
    "ax = plt.gca()\n",
    "ax.xaxis.set_major_formatter(FuncFormatter(\n",
    "   lambda val,pos: '{:.0g}$\\pi$'.format(val) if val !=0 else '0'\n",
    "))\n",
    "ax.xaxis.set_major_locator(MultipleLocator(base=0.2))\n",
    "plt.subplot(2,1,2)\n",
    "angles = np.angle(h_response)\n",
    "plt.plot(w/np.pi, angles, 'g')\n",
    "plt.ylabel('Angle (radians)')\n",
    "plt.xlabel('Normalized Frequency')\n",
    "ax = plt.gca()\n",
    "ax.xaxis.set_major_formatter(FuncFormatter(\n",
    "   lambda val,pos: '{:.0g}$\\pi$'.format(val) if val !=0 else '0'\n",
    "))\n",
    "ax.xaxis.set_major_locator(MultipleLocator(base=0.2))\n",
    "plt.grid()\n"
   ]
  },
  {
   "cell_type": "markdown",
   "metadata": {
    "slideshow": {
     "slide_type": "-"
    }
   },
   "source": [
    " Now we obtain a nice impulse response or set of coefficients hmin and its frequencies response is:"
   ]
  },
  {
   "cell_type": "markdown",
   "metadata": {
    "slideshow": {
     "slide_type": "-"
    }
   },
   "source": [
    "**Observe** that the magnitude is practically precisely at 0 dB,\n",
    "except for rounding errors, meaning a gain factor of 1.\n",
    "\n",
    "**Observe** the phase plot at normalized frequency, put the\n",
    "mouse over Omega=0.5. The angle is -2.8 radiants.\n",
    "Remember: Angle= -d Omega, for a delay d,\n",
    "hence d= -Angle/Omega = 2.8/0.5=5.6.\n",
    "\n",
    "This fits nicely to our desired delay of 5.5 samples!"
   ]
  },
  {
   "cell_type": "code",
   "execution_count": 16,
   "metadata": {
    "slideshow": {
     "slide_type": "-"
    }
   },
   "outputs": [
    {
     "data": {
      "text/plain": [
       "5.393617013098638"
      ]
     },
     "execution_count": 16,
     "metadata": {},
     "output_type": "execute_result"
    }
   ],
   "source": [
    "# Delays\n",
    "peaks, _ = sp.find_peaks(angles, height=0)\n",
    "angles[peaks[0]]/w[peaks[0]]"
   ]
  },
  {
   "cell_type": "markdown",
   "metadata": {
    "slideshow": {
     "slide_type": "-"
    }
   },
   "source": [
    "Application example: Stereo source separation, with 2\n",
    "sources and 2 microphones. We want to cancel one of the\n",
    "2 sources, and for that we need to model the precise delay\n",
    "from one microphone to the other to be able to remove\n",
    "the signal by subtraction. See e.g.:\n",
    "\n",
    "    - Oleg Golokolenko and Gerald Schuller: \n",
    "    \"FAST TIME DOMAIN STEREO AUDIO SOURCE SEPARATION USING FRACTIONAL DELAY FILTERS\", 147th AES Convention,\n",
    "    October, 2019, 16 – 19, New York, NY, USA\n",
    "    - Oleg Golokolenko, Gerald Schuller: \"A FAST STEREO AUDIO SOURCE SEPARATION FOR MOVING SOURCES\", \n",
    "    Asilomar Conference on Signals, Systems, and Computers, Nov 3-6, 2019, Asilomar, CA, USA"
   ]
  },
  {
   "cell_type": "markdown",
   "metadata": {
    "slideshow": {
     "slide_type": "slide"
    }
   },
   "source": [
    "## Simple IIR Allpass Filters"
   ]
  },
  {
   "cell_type": "markdown",
   "metadata": {
    "slideshow": {
     "slide_type": "-"
    }
   },
   "source": [
    "The simplest allpass filter has one pole and one zero in the z-domain for the transfer function,\n",
    " \n",
    "$$\\large\n",
    "H_{ap}(z)=\\frac{z^{-1} -\\bar{ a} }  {1 -a z^{-1}}=\\frac{-\\bar{ a} (1- \\frac{z^{-1} } {\\bar {a}}) }  {1 -a z^{-1}}\n",
    "$$   \n",
    "\n",
    "where $a$ is a complex number, and $\\bar{a}$ specifies the conjugate complex number.\n",
    "\n",
    "Observe that here we have a zero at $z=\\frac{1}{a}$ and a pole at $z=a$! **The pole and the zero are at conjugate reverse locations!**"
   ]
  },
  {
   "cell_type": "code",
   "execution_count": 17,
   "metadata": {
    "hide_input": true
   },
   "outputs": [
    {
     "data": {
      "text/html": [
       "<iframe width=\"560\" height=\"315\" src=\"https://www.youtube.com/embed/_SzJLFPuBig\" frameborder=\"0\" allow=\"accelerometer; encrypted-media; gyroscope; picture-in-picture\" allowfullscreen></iframe>\n"
      ],
      "text/plain": [
       "<IPython.core.display.HTML object>"
      ]
     },
     "metadata": {},
     "output_type": "display_data"
    }
   ],
   "source": [
    "%%html\n",
    "<iframe width=\"560\" height=\"315\" src=\"https://www.youtube.com/embed/_SzJLFPuBig\" frameborder=\"0\" allow=\"accelerometer; encrypted-media; gyroscope; picture-in-picture\" allowfullscreen></iframe>"
   ]
  },
  {
   "cell_type": "markdown",
   "metadata": {
    "hide_input": false,
    "slideshow": {
     "slide_type": "-"
    }
   },
   "source": [
    "**Example:** If a=0.5, we obtain the pole/zero plot with Python,"
   ]
  },
  {
   "cell_type": "code",
   "execution_count": 18,
   "metadata": {
    "slideshow": {
     "slide_type": "-"
    }
   },
   "outputs": [],
   "source": [
    "def zplane(B,A):\n",
    "    # Plot Poles and Zeros\n",
    "    from  matplotlib import patches\n",
    "    plt.figure(figsize=(10,8))\n",
    "    ax = plt.subplot(111)\n",
    "    r = 2.5; plt.axis('scaled'); plt.axis([-r, r, -r, r])\n",
    "    #ticks = [-1, 1]; plt.xticks(ticks); plt.yticks(ticks)\n",
    "    # Unit Circle\n",
    "    uc = patches.Circle((0,0), radius=1, fill=False, color='black', ls='dashed')\n",
    "    ax.add_patch(uc)\n",
    "    ax.spines['left'].set_position('center')\n",
    "    ax.spines['bottom'].set_position('center')\n",
    "    ax.spines['right'].set_visible(False)\n",
    "    ax.spines['top'].set_visible(False)\n",
    "    plt.xlabel('Re', horizontalalignment='right', x=1.0)\n",
    "    plt.ylabel('Im',  y=1.0)\n",
    "    plt.title('Complex z-Plane', loc='right')\n",
    "    plt.grid()\n",
    "    plt.plot(np.real(A),np.imag(A),'rx')\n",
    "    plt.plot(np.real(B),np.imag(B),'bo')"
   ]
  },
  {
   "cell_type": "code",
   "execution_count": 19,
   "metadata": {
    "slideshow": {
     "slide_type": "-"
    }
   },
   "outputs": [
    {
     "data": {
      "image/png": "[encoded data removed]",
      "text/plain": [
       "<Figure size 720x576 with 1 Axes>"
      ]
     },
     "metadata": {
      "needs_background": "light"
     },
     "output_type": "display_data"
    }
   ],
   "source": [
    "a=0.5; #Pole location\n",
    "B=[1/a.conjugate()]; #the zero location \n",
    "A=[a]; \n",
    "zplane(B,A); #plot the pole/zero diagram with axis limits\n"
   ]
  },
  {
   "cell_type": "markdown",
   "metadata": {
    "slideshow": {
     "slide_type": "-"
    }
   },
   "source": [
    "In this plot, the cross at 0.5 is the pole, and the circle at 2 is the zero.\n",
    "\n",
    "How can we see that the magnitude of the frequency response $H(e^{j \\cdot \\Omega})$ is 1? We can re-write it as\n",
    "\n",
    "$$\\large\n",
    "H_{ap}(e^{j \\Omega})=\\frac{e^{-j \\Omega} -\\bar{ a}} {1 -a e^{-j \\Omega}}=e^{-j \\Omega}\\frac{1 -\\bar {a} e^{j \\Omega}}  {1 -a e^{-j \\Omega}}\n",
    "$$\n",
    "\n",
    "Here you can see that the expression in the numerator is the **conjugate complex** of the denominator, hence their **magnitude** cancels to **one**. The exponential before the fraction also has magnitude 1, hence the entire expression has magnitude 1,\n",
    "\n",
    "$$\\large\n",
    "\\mid{H_{ap}(e^{j}\\Omega)}\\mid=1\n",
    "$$\n",
    "\n",
    "Here we can see, using just 1 pole and one zero, we can obtain a magnitude of constant 1.\n",
    "\n",
    "More interesting now is the resulting phase. The phase function can be found in the book Oppenheim/Schafer, “Discrete Time Signal Processing”:\n",
    "\n",
    "$$\\large\n",
    "\\begin{equation}\n",
    "\\phi(\\Omega)=- \\Omega - 2 arctan \\left(\\frac{r sin(\\Omega-\\theta)} {1 - r cos(\\Omega-\\theta)} \\right)\n",
    "\\end{equation}\n",
    "$$\n",
    " \n",
    "where r is the magnitude of a and $\\theta$ is the phase angle of a (hence $a=r\\cdot e^{j \\theta}$).\n",
    "\n",
    "Observe that so far we assumed the phase to be linearly dependent on the frequency ($\\phi(\\Omega=-\\Omega \\cdot d)$), and here we see it to be quite non-linear, with the trigonometric functions!\n",
    "\n",
    "\n",
    "We can now plot the resulting phase over the normalized frequency, and compare it with the phase of a delay of 1 sample (of $z^{-1}$), where we get $\\phi(\\Omega)=-\\Omega$. This can be seen in the following plot, for $a=0.5$ and $a=-0.5$:\n"
   ]
  },
  {
   "cell_type": "code",
   "execution_count": 20,
   "metadata": {
    "hide_input": true
   },
   "outputs": [
    {
     "data": {
      "text/html": [
       "<iframe width=\"560\" height=\"315\" src=\"https://www.youtube.com/embed/Mbk8-zRg-9o\" frameborder=\"0\" allow=\"accelerometer; \n",
       "encrypted-media; gyroscope; picture-in-picture\" allowfullscreen></iframe>\n"
      ],
      "text/plain": [
       "<IPython.core.display.HTML object>"
      ]
     },
     "metadata": {},
     "output_type": "display_data"
    }
   ],
   "source": [
    "%%html\n",
    "<iframe width=\"560\" height=\"315\" src=\"https://www.youtube.com/embed/Mbk8-zRg-9o\" frameborder=\"0\" allow=\"accelerometer; \n",
    "encrypted-media; gyroscope; picture-in-picture\" allowfullscreen></iframe>"
   ]
  },
  {
   "cell_type": "code",
   "execution_count": 21,
   "metadata": {
    "slideshow": {
     "slide_type": "-"
    }
   },
   "outputs": [
    {
     "name": "stdout",
     "output_type": "stream",
     "text": [
      "Hap=\n"
     ]
    },
    {
     "data": {
      "text/latex": [
       "$\\displaystyle \\frac{- \\overline{a} + e^{- i \\Omega}}{- a e^{- i \\Omega} + 1}$"
      ],
      "text/plain": [
       "(-conjugate(a) + exp(-I*\\Omega))/(-a*exp(-I*\\Omega) + 1)"
      ]
     },
     "metadata": {},
     "output_type": "display_data"
    },
    {
     "name": "stdout",
     "output_type": "stream",
     "text": [
      "Magnitude=\n"
     ]
    },
    {
     "data": {
      "text/latex": [
       "$\\displaystyle \\sqrt{a \\overline{a} - a e^{- i \\Omega} - e^{i \\Omega} \\overline{a} + 1} \\left|{\\frac{1}{a e^{- i \\Omega} - 1}}\\right|$"
      ],
      "text/plain": [
       "sqrt(a*conjugate(a) - a*exp(-I*\\Omega) - exp(I*\\Omega)*conjugate(a) + 1)*Abs(1/(a*exp(-I*\\Omega) - 1))"
      ]
     },
     "metadata": {},
     "output_type": "display_data"
    },
    {
     "name": "stdout",
     "output_type": "stream",
     "text": [
      "For a = 0.5, |Hap| =\n"
     ]
    },
    {
     "data": {
      "text/latex": [
       "$\\displaystyle 1.0$"
      ],
      "text/plain": [
       "1.00000000000000"
      ]
     },
     "metadata": {},
     "output_type": "display_data"
    },
    {
     "name": "stdout",
     "output_type": "stream",
     "text": [
      "Phase:\n"
     ]
    },
    {
     "data": {
      "image/png": "[encoded data removed]",
      "text/plain": [
       "<Figure size 432x288 with 1 Axes>"
      ]
     },
     "metadata": {
      "needs_background": "light"
     },
     "output_type": "display_data"
    }
   ],
   "source": [
    "from sympy import symbols, I , E, conjugate, Abs\n",
    "from sympy.functions import arg\n",
    "from sympy.plotting import plot\n",
    "\n",
    "\n",
    "\n",
    "a = symbols('a', complex=True)\n",
    "omega, r  = symbols('\\Omega r', real=True)\n",
    "\n",
    "Hap=(E**(-I*omega)-conjugate(a))/(1-a*E**(-I*omega))\n",
    "print('Hap=')\n",
    "display(Hap)\n",
    "print('Magnitude=')\n",
    "display(Abs(Hap))\n",
    "print('For a = 0.5, |Hap| =')\n",
    "display(Abs(Hap.subs(a,-0.5)))\n",
    "print('Phase:')\n",
    "phase=arg(Hap.subs(a,r*E**(I*omega)))\n",
    "\n",
    "\n",
    "p = plot(arg(Hap.subs(a,-0.5)),arg(Hap.subs(a,0)),arg(Hap.subs(a,0.5)), (omega,0,np.pi), show = False, legend = True)\n",
    "p[0].line_color = 'green'\n",
    "p[0].label = 'a=- 0.5'\n",
    "p[1].line_color = 'red'\n",
    "p[1].label = 'a=0'\n",
    "p[2].line_color = 'blue'\n",
    "p[2].label = 'a=0.5'\n",
    "p.show()\n"
   ]
  },
  {
   "cell_type": "markdown",
   "metadata": {
    "slideshow": {
     "slide_type": "-"
    }
   },
   "source": [
    "Here, the blue line is the allpass phase for a=0.5, the green line for a=-0.5, and the red line is for a=0, the phase of a pure 1 sample delay $z^{-1}$. Here it can be seen that the beginning and end of the curves are identical (at frequencies 0 and pi), and only in between the allpass phase deviates from the 1 sample delay! For a=0 the allpass indeed becomes identical to $z^{-1}$, a delay of 1 sample. So we can see that it behaves very **similar to a delay**.\n",
    "\n",
    "Such an IIR allpass filter can also be used to implement **fractional delays**. In the above plot, observe the different **slopes** or **derivatives** of the phase function with respect to frequency, which shows different **group delays** for different coefficients a. For instance the green curve for a=-0.5 at frequencies below about half Nyquist frequency has a slope which is about a third of the slope of the red curve for a delay of 1 sample, and hence represents a fractional delay.\n",
    "\n",
    "This application is described more detailed e.g. in:\n",
    "T. I. Laakso, V. Välimäki, M. Karjalainen, and U. K. Laine.\n",
    "Splitting the unit delay. IEEE Signal\n",
    "Processing Magazine, 13(1):30–60, January 1996.\n"
   ]
  },
  {
   "cell_type": "code",
   "execution_count": 22,
   "metadata": {
    "hide_input": true,
    "slideshow": {
     "slide_type": "-"
    }
   },
   "outputs": [
    {
     "data": {
      "text/html": [
       "<iframe src='https://ieeexplore.ieee.org/document/482137', width=800, height=400></iframe>\n"
      ],
      "text/plain": [
       "<IPython.core.display.HTML object>"
      ]
     },
     "metadata": {},
     "output_type": "display_data"
    }
   ],
   "source": [
    "%%html\n",
    "<iframe src='https://ieeexplore.ieee.org/document/482137', width=800, height=400></iframe>"
   ]
  },
  {
   "cell_type": "markdown",
   "metadata": {
    "slideshow": {
     "slide_type": "subslide"
    }
   },
   "source": [
    "## Frequency Warping"
   ]
  },
  {
   "cell_type": "code",
   "execution_count": 23,
   "metadata": {
    "hide_input": true
   },
   "outputs": [
    {
     "data": {
      "text/html": [
       "<iframe width=\"560\" height=\"315\" src=\"https://www.youtube.com/embed/EH6UWE7sauI\" frameborder=\"0\" allow=\"accelerometer; encrypted-media; gyroscope; picture-in-picture\" allowfullscreen></iframe>\n"
      ],
      "text/plain": [
       "<IPython.core.display.HTML object>"
      ]
     },
     "metadata": {},
     "output_type": "display_data"
    }
   ],
   "source": [
    "%%html\n",
    "<iframe width=\"560\" height=\"315\" src=\"https://www.youtube.com/embed/EH6UWE7sauI\" frameborder=\"0\" allow=\"accelerometer; encrypted-media; gyroscope; picture-in-picture\" allowfullscreen></iframe>"
   ]
  },
  {
   "cell_type": "markdown",
   "metadata": {
    "slideshow": {
     "slide_type": "-"
    }
   },
   "source": [
    "For a=0.5 (the blue curve) we observe a **“streching”** of the low frequency range, where a small part of the low frequencies strech over a wider phase range than the other curves. \n",
    "\n",
    "For the frequency warping we will interpret the negative phase as a normalized frequency.\n",
    "\n",
    "The plot can also be produced with a simple Python function for the phase function:"
   ]
  },
  {
   "cell_type": "code",
   "execution_count": 24,
   "metadata": {
    "hide_input": false,
    "slideshow": {
     "slide_type": "-"
    }
   },
   "outputs": [],
   "source": [
    "def warpingphase(w, a):\n",
    "    #produces (outputs) phase wy for an allpass filter \n",
    "    #w: input vector of normlized frequencies (0..pi)\n",
    "    #a: allpass coefficient\n",
    "    #phase of allpass zero/pole :\n",
    "    theta = np.angle(a); \n",
    "    #magnitude of allpass zero/pole :\n",
    "    r = np.abs(a); \n",
    "    wy = -w-2*np.arctan((r*np.sin(w-theta))/(1-r*np.cos(w-theta)));    \n",
    "    \n",
    "    return wy"
   ]
  },
  {
   "cell_type": "code",
   "execution_count": 25,
   "metadata": {
    "slideshow": {
     "slide_type": "-"
    }
   },
   "outputs": [
    {
     "data": {
      "image/png": "[encoded data removed]",
      "text/plain": [
       "<Figure size 432x288 with 1 Axes>"
      ]
     },
     "metadata": {
      "needs_background": "light"
     },
     "output_type": "display_data"
    }
   ],
   "source": [
    "w=np.arange(0,3.14,0.01)\n",
    "plt.figure()\n",
    "plt.plot(w,warpingphase(w,0.5))\n",
    "plt.plot(w,warpingphase(w,0))\n",
    "plt.plot(w,warpingphase(w,-0.5))\n",
    "plt.grid()\n",
    "plt.xlabel('Normalized Frequency')\n",
    "plt.ylabel('Phase Angle');"
   ]
  },
  {
   "cell_type": "markdown",
   "metadata": {
    "hide_input": false,
    "slideshow": {
     "slide_type": "-"
    }
   },
   "source": [
    "The **phase** at the output of our phase function can also be **interpreted as a normalized frequency**. This means its **output** can be the **input** of another warpingphase function.\n",
    "\n",
    "An interesting observation is, that the warpingphase function with coefficient $-\\bar{a}$ is the inverse of the warpingphase function with coefficient $a$! \n",
    "\n",
    "We can try this in Python:"
   ]
  },
  {
   "cell_type": "code",
   "execution_count": 26,
   "metadata": {
    "slideshow": {
     "slide_type": "-"
    }
   },
   "outputs": [
    {
     "data": {
      "image/png": "[encoded data removed]",
      "text/plain": [
       "<Figure size 432x288 with 1 Axes>"
      ]
     },
     "metadata": {
      "needs_background": "light"
     },
     "output_type": "display_data"
    }
   ],
   "source": [
    "import matplotlib.pyplot as plt\n",
    "#from warpingphase import *\n",
    "#frequency range:\n",
    "w = np.arange(0,np.pi, 0.01)\n",
    "a = 0.5 * (1+1j)\n",
    "wyy = (warpingphase(warpingphase(w,a), -a.conjugate()))\n",
    "plt.figure()\n",
    "plt.plot(w,wyy)\n",
    "plt.xlabel('Normalized Frequency')\n",
    "plt.ylabel('Phase Angle')\n",
    "plt.show()"
   ]
  },
  {
   "cell_type": "markdown",
   "metadata": {
    "slideshow": {
     "slide_type": "-"
    }
   },
   "source": [
    "Here we see that it is indeed the **identity** function. This shows that interpreting the allpass as a normalized frequency “warper”, the allpass with coefficient $a$ is inverse to the allpass with $-\\bar{a}$."
   ]
  },
  {
   "cell_type": "markdown",
   "metadata": {
    "hide_input": false,
    "slideshow": {
     "slide_type": "-"
    }
   },
   "source": [
    "What is the frequency response of an example allpass filter? For $a=0.5$, we can use ```freqz```.\n",
    "\n",
    "There we expect to see the magnitude to be contant 1, and the phase angle like we saw from our phase formula for Oppenheim, Schafer, (eq. 1). This also allows “cross-checking” the results!\n",
    "\n",
    "Looking at the z-transform:\n",
    "    $$\\large\n",
    "    H_{ap}(z)=\\frac{z^{-1} -\\bar{ a} } {1 -a z^{-1}}\n",
    "    $$\n",
    "\n",
    "we get our coefficient vectors to\n",
    "\n",
    "`a=0.5;\n",
    "B=[-a.conjugate(), 1];\n",
    "A=[1, -a];`\n",
    "\n",
    "(observe that for freqz the higher exponents of $z^{-1}$ appear to the right)\n",
    "\n",
    "Now we plot the frequency response and impulse response:"
   ]
  },
  {
   "cell_type": "code",
   "execution_count": 27,
   "metadata": {
    "hide_input": true
   },
   "outputs": [
    {
     "data": {
      "text/html": [
       "<iframe width=\"560\" height=\"315\" src=\"https://www.youtube.com/embed/fDjerT8uCvU\" frameborder=\"0\" allow=\"accelerometer; encrypted-media; gyroscope; picture-in-picture\" allowfullscreen></iframe>\n"
      ],
      "text/plain": [
       "<IPython.core.display.HTML object>"
      ]
     },
     "metadata": {},
     "output_type": "display_data"
    }
   ],
   "source": [
    "%%html\n",
    "<iframe width=\"560\" height=\"315\" src=\"https://www.youtube.com/embed/fDjerT8uCvU\" frameborder=\"0\" allow=\"accelerometer; encrypted-media; gyroscope; picture-in-picture\" allowfullscreen></iframe>"
   ]
  },
  {
   "cell_type": "code",
   "execution_count": 28,
   "metadata": {
    "slideshow": {
     "slide_type": "-"
    }
   },
   "outputs": [
    {
     "data": {
      "image/png": "[encoded data removed]",
      "text/plain": [
       "<Figure size 720x576 with 2 Axes>"
      ]
     },
     "metadata": {
      "needs_background": "light"
     },
     "output_type": "display_data"
    }
   ],
   "source": [
    "a=0.5;\n",
    "B=[-a.conjugate(), 1];\n",
    "A=[1, -a];\n",
    "\n",
    "# Frequency Response\n",
    "\n",
    "from scipy.signal import freqz\n",
    "import numpy as np\n",
    "from matplotlib.ticker import FuncFormatter, MultipleLocator\n",
    "\n",
    "w, h_response  = freqz(B,A)\n",
    "\n",
    "fig=plt.figure(figsize=(10,8))\n",
    "fig.suptitle('Frequency Response', fontsize=16)\n",
    "plt.subplot(2,1,1)\n",
    "plt.plot(w/np.pi, 20 * np.log10(abs(h_response)), 'b')\n",
    "#plt.ylim((-0.001,0.001))\n",
    "plt.ylabel('Amplitude (dB)')\n",
    "plt.xlabel('Normalized Frequency')\n",
    "plt.grid()\n",
    "ax = plt.gca()\n",
    "ax.xaxis.set_major_formatter(FuncFormatter(\n",
    "   lambda val,pos: '{:.0g}$\\pi$'.format(val) if val !=0 else '0'\n",
    "))\n",
    "ax.xaxis.set_major_locator(MultipleLocator(base=0.2))\n",
    "plt.subplot(2,1,2)\n",
    "angles = np.angle(h_response)\n",
    "plt.plot(w/np.pi, angles, 'g')\n",
    "plt.ylabel('Angle (radians)')\n",
    "plt.xlabel('Normalized Frequency')\n",
    "ax = plt.gca()\n",
    "ax.xaxis.set_major_formatter(FuncFormatter(\n",
    "   lambda val,pos: '{:.0g}$\\pi$'.format(val) if val !=0 else '0'\n",
    "))\n",
    "ax.xaxis.set_major_locator(MultipleLocator(base=0.2))\n",
    "plt.grid()\n"
   ]
  },
  {
   "cell_type": "markdown",
   "metadata": {
    "slideshow": {
     "slide_type": "-"
    }
   },
   "source": [
    " Here we can see in the above plot of the magnitude, that we indeed obtain a constant 1 (which is 0 dB, 2e-15 comes from the finite accuracy and rounding errors), and that we have the **non-linear** phase in the lower plot, as in the phase plots before.\n",
    "\n",
    "To obtain the impulse response, we can use the function “lfilter”, and input a unit impulse into it."
   ]
  },
  {
   "cell_type": "code",
   "execution_count": 29,
   "metadata": {
    "slideshow": {
     "slide_type": "-"
    }
   },
   "outputs": [
    {
     "data": {
      "image/png": "[encoded data removed]",
      "text/plain": [
       "<Figure size 576x432 with 1 Axes>"
      ]
     },
     "metadata": {
      "needs_background": "light"
     },
     "output_type": "display_data"
    }
   ],
   "source": [
    "from scipy import signal as sp\n",
    "Imp = np.zeros(21)\n",
    "Imp[0] = 1\n",
    "h = sp.lfilter(B, A, Imp)\n",
    "plt.figure(figsize=(8,6))\n",
    "plt.plot(h)\n",
    "plt.title('Impulse Response of our IIR Allpass with a=0.5')\n",
    "plt.xlabel('Sample')\n",
    "plt.ylabel('Value')\n",
    "plt.grid()"
   ]
  },
  {
   "cell_type": "markdown",
   "metadata": {
    "slideshow": {
     "slide_type": "-"
    }
   },
   "source": [
    "Here we can see that we have the first, non-delayed, sample not at zero, but at -0.5. This can also be seen by plotting the first 4 elements of our impulse response:\n",
    "\n",
    "`\n",
    "print h[0:4]\n",
    "ans =\n",
    "[-0.5     0.75    0.375   0.1875]`\n",
    "\n",
    "The second element corresponds to the delay of 1 sample, our $z^{-1}$, with a factor of 0.75. But then there are more samples, going back into the past, exponentially decaying. \n",
    "\n",
    "This means, not only the past samples goes into our filtering calculation, but also more past samples, and even the **non-delayed** sample, with a factor of -0.5. This is actually a problem for the so-called frequency warping (next section), if we want to use frequency warping in IIR filters, because here we would get delay-less loops, which are difficult to implement! (With **FIR filters** this is **no problem** though)"
   ]
  },
  {
   "cell_type": "markdown",
   "metadata": {
    "hide_input": true,
    "slideshow": {
     "slide_type": "slide"
    }
   },
   "source": [
    "# Frequency Warping"
   ]
  },
  {
   "cell_type": "markdown",
   "metadata": {
    "slideshow": {
     "slide_type": "-"
    }
   },
   "source": [
    "These properties of the allpass can now be used to “warp” the frequency scale of a filter (by effectively replacing $e^{j\\Omega} \\leftarrow e^{j\\phi (\\Omega)}$ in our frequency response), for instance to map it according to the so-called **Bark scale**, used in psycho-acoustics.\n",
    "\n",
    "A common approximation of the Bark scale is\n",
    "\n",
    "$$\\large\n",
    "Bark=13 \\cdot arctan(0.0076 \\cdot f) + 3.5 \\cdot arctan\\left(\\left(\\dfrac{f}{7500}\\right)^2\\right)\n",
    "$$\n",
    "\n",
    "(From Wikipedia, Bark scale, the approximation goes back to Zwicker and Terhard), where f is the frequency in Hz. The Bark scale can be seen as an approximation of the changing frequency resolution over frequency of the inner ear filters of the human ears cochlea.\n",
    "\n",
    "Because of the structure of our chochlea, the ear has different sensitivites for different frequencies and different signals. The signal dependent threshold of audibility of the ear is called the **Masking Threshold**. It has more spectral detail at lower than at higher frequencies, according to the Bark scale.\n",
    "\n",
    "We can plot the Bark formula using the python:"
   ]
  },
  {
   "cell_type": "code",
   "execution_count": 30,
   "metadata": {
    "hide_input": true
   },
   "outputs": [
    {
     "data": {
      "text/html": [
       "<iframe width=\"560\" height=\"315\" src=\"https://www.youtube.com/embed/-toXcoqWHRE\" frameborder=\"0\" allow=\"accelerometer; encrypted-media; gyroscope; picture-in-picture\" allowfullscreen></iframe>\n"
      ],
      "text/plain": [
       "<IPython.core.display.HTML object>"
      ]
     },
     "metadata": {},
     "output_type": "display_data"
    }
   ],
   "source": [
    "%%html\n",
    "<iframe width=\"560\" height=\"315\" src=\"https://www.youtube.com/embed/-toXcoqWHRE\" frameborder=\"0\" allow=\"accelerometer; encrypted-media; gyroscope; picture-in-picture\" allowfullscreen></iframe>"
   ]
  },
  {
   "cell_type": "code",
   "execution_count": 31,
   "metadata": {
    "slideshow": {
     "slide_type": "-"
    }
   },
   "outputs": [
    {
     "data": {
      "image/png": "[encoded data removed]",
      "text/plain": [
       "<Figure size 576x432 with 1 Axes>"
      ]
     },
     "metadata": {
      "needs_background": "light"
     },
     "output_type": "display_data"
    }
   ],
   "source": [
    "#Frequency array between 0 and 20000 Hz in 1000 steps:\n",
    "f=np.linspace(0,20000,1000)\n",
    "#Computation of Zwickers Bark approximation formula:\n",
    "z=13*np.arctan(0.00076*f)+3.5*np.arctan((f/7500.0)**2)\n",
    "#plot Bark over Hertz:\n",
    "plt.figure(figsize=(8,6))\n",
    "plt.plot(f,z)\n",
    "plt.xlabel('Frequency in Hertz')\n",
    "plt.ylabel('Frequency in Bark')\n",
    "plt.title('Zwicker&Terhard Approximation')\n",
    "plt.grid()"
   ]
  },
  {
   "cell_type": "markdown",
   "metadata": {
    "hide_input": false,
    "slideshow": {
     "slide_type": "-"
    }
   },
   "source": [
    "Here we can see, that 1 bark at lower frequency has a much lower bandwidth than at higher frequencies. This means the ear can be seen as having a higher frequency resolution at lower frequencies than at higher frequencies. Imagine, we want to **design a filter** or system for **hearing purposes**, for instance, we would like to model the masking threshold of the ear for any given signal by some linear filter (FIR or IIR). \n",
    "\n",
    "Then it would be useful, to give this filter a **higher frequency resolution at lower frequencies**, such that it matches the smaller details of the **masking threshold** at lower frequencies.  But if we look at the **usual design methods**, they distribute the filter **details independent of the frequency range** (for instance what we saw with the remez method, where we have equally distributed ripples). \n",
    "\n",
    "Here we can now use frequency warping, such that we **enlarge the low frequency range** and shrink the high frequency range accordingly, such that our filter now works on the **warped frequency**, and **“sees”** the **lower frequencies in more detail**, the lower frequencies are more spread out in comparison to the higher frequencies."
   ]
  },
  {
   "cell_type": "markdown",
   "metadata": {
    "slideshow": {
     "slide_type": "-"
    }
   },
   "source": [
    "**How do we do this?** For some frequency response $H(e^{j\\Omega})$ we would like to warp the frequency $\\Omega$ with some function $\\phi(\\Omega)$ according to our desired frequency scale, such that we get\n",
    "\n",
    "$$\\large\n",
    "H(e^{j\\cdot \\phi (\\Omega)})\n",
    "$$\n",
    "\n",
    "But this is exactly the principle of an **allpass filter**, which has the frequency response\n",
    "\n",
    "$$\\large\n",
    "H_{ap}(e^{j \\Omega})=e^{j \\cdot \\phi_{ap}(\\Omega)}\n",
    "$$\n",
    "    \n",
    "Usually we would like to map positive frequencies to again positive frequencies, and we saw that $\\phi_{ap}(\\Omega)$ becomes negative, hence we take the approach to **replace z** in the argument of our transfer function with the reverse of our **allpass** transfer function:\n",
    "\n",
    "\n",
    "$$\\large\n",
    "z^{-1}\\leftarrow H_{ap}(a,z)$$\n",
    "\n",
    "This is replacing all delays of our filter to be warped by our allpass filter.\n",
    "\n",
    "In this way we replace our linear function on the unit circle in z with the non-linear, warped function on the unit circle $H_{ap}$.\n",
    "\n",
    "Hence we get the warped transfer function as:\n",
    "\n",
    "$$\\large\n",
    "H_{warped}(z)=H(H_{ap}( a,z)^{-1})$$\n",
    "\n",
    "and the resulting frequency response becomes:\n",
    "\n",
    "$$\\large\n",
    "H_{warped}(e^{j \\Omega})=H(e^{-j \\cdot \\phi_{ap}(\\Omega)})\n",
    "$$\n",
    "\n",
    "Here we can now see that we obtained the **desired frequency warping.**\n",
    "\n",
    "What does this mean for the filter implementation? We know that our FIR  filters always consist of many delay elements $z^{-1}$. "
   ]
  },
  {
   "cell_type": "code",
   "execution_count": 32,
   "metadata": {
    "hide_input": true
   },
   "outputs": [
    {
     "data": {
      "text/html": [
       "<iframe width=\"560\" height=\"315\" src=\"https://www.youtube.com/embed/2arqHPweD5I\" frameborder=\"0\" allow=\"accelerometer; encrypted-media; gyroscope; picture-in-picture\" allowfullscreen></iframe>\n"
      ],
      "text/plain": [
       "<IPython.core.display.HTML object>"
      ]
     },
     "metadata": {},
     "output_type": "display_data"
    }
   ],
   "source": [
    "%%html\n",
    "<iframe width=\"560\" height=\"315\" src=\"https://www.youtube.com/embed/2arqHPweD5I\" frameborder=\"0\" allow=\"accelerometer; encrypted-media; gyroscope; picture-in-picture\" allowfullscreen></iframe>"
   ]
  },
  {
   "cell_type": "markdown",
   "metadata": {
    "hide_input": false,
    "slideshow": {
     "slide_type": "-"
    }
   },
   "source": [
    "**Example:** Take an FIR filter,\n",
    "\n",
    "$$\\large\n",
    "H(z)= {\\sum _{m=0} ^ L b(m)  \\cdot z^{-m}} $$\n",
    "\n",
    "its warped version is:\n",
    "\n",
    "$$\\large\n",
    "H(H_{ap}(a,z)^{-1})= {\\sum_ {m=0} ^ L b(m)  \\cdot H^{m}_{ap}(a,z)} $$\n",
    "\n",
    "\n",
    "To obtain a desired filter, we now first have to **warp our desired filter**, and then **design** our filter in the **warped domain**.\n",
    "\n",
    "Observe that the warping turns an **FIR filter into an IIR filter**, because the allpass has poles outside of zero.\n",
    "\n",
    "An example of this kind of design can be seen in the following picture.\n",
    "\n",
    "(From [1])\n",
    "\n",
    "Here we can see that the 12th order filter successfully approximated the more detailed curve at low frequencies, using the warping approach.\n",
    "\n",
    "<center>\n",
    "    <img src='./images/Lecture9-2.PNG' width=\"600\">\n",
    "    <img src='./images/Lecture9-3.PNG' width=\"600\">\n",
    "</center>\n",
    "\n",
    "\n",
    "    - [1] Julius O. Smith and Jonathan S. Abel, “Bark and ERB Bilinear Transforms,” \n",
    "    IEEE Transactions on Speech and Audio Processing, vol. 7, \n",
    "    no. 6, pp. 697 – 708, November 1999.\n",
    "    - [2] S. Wabnik, G. Schuller, U. Kraemer, J. Hirschfeld: \n",
    "    \"Frequency Warping in Low Delay Audio Coding\",\n",
    "    IEEE International Conference on Acoustics, Speech, and Signal Processing, \n",
    "    Philadelphia, PA, March 18–23, 2005 "
   ]
  },
  {
   "cell_type": "code",
   "execution_count": null,
   "metadata": {},
   "outputs": [],
   "source": []
  }
 ],
 "metadata": {
  "kernelspec": {
   "display_name": "Python 3",
   "language": "python",
   "name": "python3"
  },
  "language_info": {
   "codemirror_mode": {
    "name": "ipython",
    "version": 3
   },
   "file_extension": ".py",
   "mimetype": "text/x-python",
   "name": "python",
   "nbconvert_exporter": "python",
   "pygments_lexer": "ipython3",
   "version": "3.7.5"
  },
  "livereveal": {
   "rise": {
    "height": "90%",
    "width": "90%"
   },
   "scroll": true,
   "theme": "sky",
   "transition": "zoom"
  },
  "widgets": {
   "application/vnd.jupyter.widget-state+json": {
    "state": {
     "010411b23dde4ac9b0a3030e14cf116a": {
      "model_module": "@jupyter-widgets/controls",
      "model_module_version": "1.5.0",
      "model_name": "ButtonModel",
      "state": {
       "description": "Start",
       "layout": "IPY_MODEL_6a3bf4da31de478d94493fb7e7bf2612",
       "style": "IPY_MODEL_28c5906b489444688437bc5e2decf81a"
      }
     },
     "0124c108c90b41408309aa3aac820c5d": {
      "model_module": "@jupyter-widgets/controls",
      "model_module_version": "1.5.0",
      "model_name": "DescriptionStyleModel",
      "state": {
       "description_width": ""
      }
     },
     "015addf4649b4d41b3ee5a4e08b1feef": {
      "model_module": "@jupyter-widgets/controls",
      "model_module_version": "1.5.0",
      "model_name": "DescriptionStyleModel",
      "state": {
       "description_width": ""
      }
     },
     "01a5f4dbc4064fd3a34973eb916c31c5": {
      "model_module": "@jupyter-widgets/controls",
      "model_module_version": "1.5.0",
      "model_name": "ToggleButtonModel",
      "state": {
       "description": "Stop",
       "disabled": true,
       "layout": "IPY_MODEL_05ed0d85918542ce8e2d2b5a11d7d46c",
       "style": "IPY_MODEL_11beb2d8d5cb46ccbbbf8aa79a579437"
      }
     },
     "02c9485b88554eb9992be45d9860b92e": {
      "model_module": "@jupyter-widgets/base",
      "model_module_version": "1.2.0",
      "model_name": "LayoutModel",
      "state": {}
     },
     "0301e5ad87f74818b0033801839a6489": {
      "model_module": "@jupyter-widgets/controls",
      "model_module_version": "1.5.0",
      "model_name": "DescriptionStyleModel",
      "state": {
       "description_width": ""
      }
     },
     "05ed0d85918542ce8e2d2b5a11d7d46c": {
      "model_module": "@jupyter-widgets/base",
      "model_module_version": "1.2.0",
      "model_name": "LayoutModel",
      "state": {}
     },
     "06b3502ca24649cfba2505a7ae4369a3": {
      "model_module": "@jupyter-widgets/controls",
      "model_module_version": "1.5.0",
      "model_name": "ToggleButtonModel",
      "state": {
       "description": "Stop",
       "disabled": true,
       "layout": "IPY_MODEL_d4c25c99462a4868b15757073e777364",
       "style": "IPY_MODEL_58865ee688c741d484e0a1e5fe729ed1",
       "value": true
      }
     },
     "070df1bc17ac48328bf07a4c6bbf4386": {
      "model_module": "@jupyter-widgets/base",
      "model_module_version": "1.2.0",
      "model_name": "LayoutModel",
      "state": {}
     },
     "0889d4344f00492d990089599a0cbb1e": {
      "model_module": "@jupyter-widgets/base",
      "model_module_version": "1.2.0",
      "model_name": "LayoutModel",
      "state": {}
     },
     "08bcfe0454894f769d36cf36a969a89c": {
      "model_module": "@jupyter-widgets/controls",
      "model_module_version": "1.5.0",
      "model_name": "CheckboxModel",
      "state": {
       "description": "Downsampling with Zeros",
       "disabled": false,
       "layout": "IPY_MODEL_ec8397c2b6e5444587135da33d9144fd",
       "style": "IPY_MODEL_3fe6660526e44cc19947700d461a8a9d",
       "value": false
      }
     },
     "0b8e46359cee465aa82778a67f6c0b96": {
      "model_module": "@jupyter-widgets/base",
      "model_module_version": "1.2.0",
      "model_name": "LayoutModel",
      "state": {}
     },
     "0b9a6a693871477ebf610c47a13ce72a": {
      "model_module": "@jupyter-widgets/controls",
      "model_module_version": "1.5.0",
      "model_name": "DescriptionStyleModel",
      "state": {
       "description_width": ""
      }
     },
     "0d37c449c02940ea80583d16fffe742e": {
      "model_module": "@jupyter-widgets/controls",
      "model_module_version": "1.5.0",
      "model_name": "DescriptionStyleModel",
      "state": {
       "description_width": ""
      }
     },
     "0fbffec0398544c78cc392a8f3387f8e": {
      "model_module": "@jupyter-widgets/base",
      "model_module_version": "1.2.0",
      "model_name": "LayoutModel",
      "state": {}
     },
     "11649f3e118b4488af7188e4a8e73291": {
      "model_module": "@jupyter-widgets/base",
      "model_module_version": "1.2.0",
      "model_name": "LayoutModel",
      "state": {}
     },
     "11beb2d8d5cb46ccbbbf8aa79a579437": {
      "model_module": "@jupyter-widgets/controls",
      "model_module_version": "1.5.0",
      "model_name": "DescriptionStyleModel",
      "state": {
       "description_width": ""
      }
     },
     "12c1d6bd34634a1fb100dddc180fee8c": {
      "model_module": "@jupyter-widgets/controls",
      "model_module_version": "1.5.0",
      "model_name": "ToggleButtonModel",
      "state": {
       "description": "Stop",
       "disabled": true,
       "layout": "IPY_MODEL_cbfc931a5e68487a91bda9c791d27a54",
       "style": "IPY_MODEL_154ee137a89643c596b033dd8318706c",
       "value": true
      }
     },
     "1372b726ab434f9b89571f6da34c9e62": {
      "model_module": "@jupyter-widgets/base",
      "model_module_version": "1.2.0",
      "model_name": "LayoutModel",
      "state": {}
     },
     "14129132b8da4c588bdb14db56917502": {
      "model_module": "@jupyter-widgets/controls",
      "model_module_version": "1.5.0",
      "model_name": "DescriptionStyleModel",
      "state": {
       "description_width": ""
      }
     },
     "14f182217bd54f0eab515df20a2b5138": {
      "model_module": "@jupyter-widgets/base",
      "model_module_version": "1.2.0",
      "model_name": "LayoutModel",
      "state": {}
     },
     "154ee137a89643c596b033dd8318706c": {
      "model_module": "@jupyter-widgets/controls",
      "model_module_version": "1.5.0",
      "model_name": "DescriptionStyleModel",
      "state": {
       "description_width": ""
      }
     },
     "16fff80d180c43a599f5bb2e9b551989": {
      "model_module": "@jupyter-widgets/controls",
      "model_module_version": "1.5.0",
      "model_name": "DescriptionStyleModel",
      "state": {
       "description_width": ""
      }
     },
     "1a8f9d0d68954f4fa2ce1361633bde98": {
      "model_module": "@jupyter-widgets/controls",
      "model_module_version": "1.5.0",
      "model_name": "DescriptionStyleModel",
      "state": {
       "description_width": ""
      }
     },
     "1b001b2ac3e847549ef031ffa10555a7": {
      "model_module": "@jupyter-widgets/base",
      "model_module_version": "1.2.0",
      "model_name": "LayoutModel",
      "state": {}
     },
     "1d77796b884c4861a25db47632b8d489": {
      "model_module": "@jupyter-widgets/controls",
      "model_module_version": "1.5.0",
      "model_name": "ButtonStyleModel",
      "state": {}
     },
     "1e4739a8c3694e0184b1d7a856de0e23": {
      "model_module": "@jupyter-widgets/controls",
      "model_module_version": "1.5.0",
      "model_name": "DescriptionStyleModel",
      "state": {
       "description_width": ""
      }
     },
     "1ea7b64595fd40cfa2673963652b111d": {
      "model_module": "@jupyter-widgets/base",
      "model_module_version": "1.2.0",
      "model_name": "LayoutModel",
      "state": {}
     },
     "1f7c5c8eb1f645d0b0b4ffb1db9e262b": {
      "model_module": "@jupyter-widgets/controls",
      "model_module_version": "1.5.0",
      "model_name": "DescriptionStyleModel",
      "state": {
       "description_width": ""
      }
     },
     "224bcb4dea094163994aaa3f0121c825": {
      "model_module": "@jupyter-widgets/controls",
      "model_module_version": "1.5.0",
      "model_name": "DescriptionStyleModel",
      "state": {
       "description_width": ""
      }
     },
     "234045dd6a114ecda45e0086e0d54e99": {
      "model_module": "@jupyter-widgets/base",
      "model_module_version": "1.2.0",
      "model_name": "LayoutModel",
      "state": {}
     },
     "238506e028044b5b881ef74c8ad59846": {
      "model_module": "@jupyter-widgets/controls",
      "model_module_version": "1.5.0",
      "model_name": "BoundedIntTextModel",
      "state": {
       "description": "Bit-Depth:",
       "layout": "IPY_MODEL_56ad1c5dc11f482f9602ecf86f593745",
       "max": 16,
       "min": 2,
       "style": "IPY_MODEL_f832049896fd43d3a027ac200b0d333a",
       "value": 8
      }
     },
     "25438168806e49268b476a257216e7dd": {
      "model_module": "@jupyter-widgets/controls",
      "model_module_version": "1.5.0",
      "model_name": "HBoxModel",
      "state": {
       "children": [
        "IPY_MODEL_ad19b104bd2c4274827935f0bc642e1c"
       ],
       "layout": "IPY_MODEL_266d77a5a8bf4ba0b75999d1ff5ec2ba"
      }
     },
     "266d77a5a8bf4ba0b75999d1ff5ec2ba": {
      "model_module": "@jupyter-widgets/base",
      "model_module_version": "1.2.0",
      "model_name": "LayoutModel",
      "state": {}
     },
     "2770a82d9d574867b924b252a6697fcb": {
      "model_module": "@jupyter-widgets/controls",
      "model_module_version": "1.5.0",
      "model_name": "CheckboxModel",
      "state": {
       "description": "Downsampling with Zeros",
       "disabled": false,
       "layout": "IPY_MODEL_827b4767fde3485eb5c2b84a93302b94",
       "style": "IPY_MODEL_9e41a52328224716afc6e66f01c14e6e",
       "value": true
      }
     },
     "28c5906b489444688437bc5e2decf81a": {
      "model_module": "@jupyter-widgets/controls",
      "model_module_version": "1.5.0",
      "model_name": "ButtonStyleModel",
      "state": {}
     },
     "2a17130f6ba1491f959d24bee45727aa": {
      "model_module": "@jupyter-widgets/controls",
      "model_module_version": "1.5.0",
      "model_name": "ToggleButtonModel",
      "state": {
       "description": "Stop",
       "layout": "IPY_MODEL_9eefd0731f5c4392a5acde7f1e933fd5",
       "style": "IPY_MODEL_1f7c5c8eb1f645d0b0b4ffb1db9e262b",
       "value": true
      }
     },
     "2aa28291b0e94968b90bc072bad5692c": {
      "model_module": "@jupyter-widgets/controls",
      "model_module_version": "1.5.0",
      "model_name": "DescriptionStyleModel",
      "state": {
       "description_width": ""
      }
     },
     "2c0c1ccee30d431c9040ada58fd71129": {
      "model_module": "@jupyter-widgets/base",
      "model_module_version": "1.2.0",
      "model_name": "LayoutModel",
      "state": {}
     },
     "2f2f8d6d9d194d8d81aa9445ae96bc2a": {
      "model_module": "@jupyter-widgets/controls",
      "model_module_version": "1.5.0",
      "model_name": "DescriptionStyleModel",
      "state": {
       "description_width": ""
      }
     },
     "2f59316910c14ba5a89beb99d1c86a93": {
      "model_module": "@jupyter-widgets/controls",
      "model_module_version": "1.5.0",
      "model_name": "ToggleButtonModel",
      "state": {
       "description": "Stop",
       "layout": "IPY_MODEL_4d986dc237e54cb58da0435fa72d0f38",
       "style": "IPY_MODEL_48d6266121a349d48f11378c6804ee61",
       "value": true
      }
     },
     "3121709f5a264cf080f39aa0e49e7279": {
      "model_module": "@jupyter-widgets/controls",
      "model_module_version": "1.5.0",
      "model_name": "ToggleButtonModel",
      "state": {
       "description": "Stop",
       "layout": "IPY_MODEL_f469e7d7b4a541af8a5340dd1d099999",
       "style": "IPY_MODEL_454bac39d61a47178f95831b6cee19a4"
      }
     },
     "34f16d143e48488090e222e4ed23e9b8": {
      "model_module": "@jupyter-widgets/controls",
      "model_module_version": "1.5.0",
      "model_name": "DescriptionStyleModel",
      "state": {
       "description_width": ""
      }
     },
     "367c6ac4f00e4104ba6837f8104dfb9f": {
      "model_module": "@jupyter-widgets/controls",
      "model_module_version": "1.5.0",
      "model_name": "DescriptionStyleModel",
      "state": {
       "description_width": ""
      }
     },
     "36cef02e3ac343f597afecf7a0da19c4": {
      "model_module": "@jupyter-widgets/base",
      "model_module_version": "1.2.0",
      "model_name": "LayoutModel",
      "state": {}
     },
     "37389e5b17cf48e3a0021f24e6b830b3": {
      "model_module": "@jupyter-widgets/controls",
      "model_module_version": "1.5.0",
      "model_name": "DescriptionStyleModel",
      "state": {
       "description_width": ""
      }
     },
     "3c934745843a4bdb9ecd61d569af4ee9": {
      "model_module": "@jupyter-widgets/base",
      "model_module_version": "1.2.0",
      "model_name": "LayoutModel",
      "state": {}
     },
     "3fe6660526e44cc19947700d461a8a9d": {
      "model_module": "@jupyter-widgets/controls",
      "model_module_version": "1.5.0",
      "model_name": "DescriptionStyleModel",
      "state": {
       "description_width": ""
      }
     },
     "407419954887424b844182aaf85efb78": {
      "model_module": "@jupyter-widgets/base",
      "model_module_version": "1.2.0",
      "model_name": "LayoutModel",
      "state": {}
     },
     "4181a03ad26243f18c1afcbac62c4b93": {
      "model_module": "@jupyter-widgets/controls",
      "model_module_version": "1.5.0",
      "model_name": "DropdownModel",
      "state": {
       "_options_labels": [
        "Mid-Tread",
        "Mid-Rise"
       ],
       "description": "Quantization Type:",
       "index": 0,
       "layout": "IPY_MODEL_0b8e46359cee465aa82778a67f6c0b96",
       "style": "IPY_MODEL_16fff80d180c43a599f5bb2e9b551989"
      }
     },
     "446d80c629a24e2fa2136e03dfc9d28b": {
      "model_module": "@jupyter-widgets/base",
      "model_module_version": "1.2.0",
      "model_name": "LayoutModel",
      "state": {}
     },
     "454bac39d61a47178f95831b6cee19a4": {
      "model_module": "@jupyter-widgets/controls",
      "model_module_version": "1.5.0",
      "model_name": "DescriptionStyleModel",
      "state": {
       "description_width": ""
      }
     },
     "462478cddfff483e922a3aa095a2e610": {
      "model_module": "@jupyter-widgets/controls",
      "model_module_version": "1.5.0",
      "model_name": "CheckboxModel",
      "state": {
       "description": "$\\mu$-Law",
       "disabled": false,
       "layout": "IPY_MODEL_78c567360a394eb19dabc832927f8693",
       "style": "IPY_MODEL_14129132b8da4c588bdb14db56917502",
       "value": false
      }
     },
     "476db36e2ef8495598b90265cb380580": {
      "model_module": "@jupyter-widgets/base",
      "model_module_version": "1.2.0",
      "model_name": "LayoutModel",
      "state": {}
     },
     "48d6266121a349d48f11378c6804ee61": {
      "model_module": "@jupyter-widgets/controls",
      "model_module_version": "1.5.0",
      "model_name": "DescriptionStyleModel",
      "state": {
       "description_width": ""
      }
     },
     "4d986dc237e54cb58da0435fa72d0f38": {
      "model_module": "@jupyter-widgets/base",
      "model_module_version": "1.2.0",
      "model_name": "LayoutModel",
      "state": {}
     },
     "4db559233bc54c04b701ff71ebc1d55d": {
      "model_module": "@jupyter-widgets/controls",
      "model_module_version": "1.5.0",
      "model_name": "DescriptionStyleModel",
      "state": {
       "description_width": ""
      }
     },
     "4e02c6cc9f2040c0924a4ba1a152edad": {
      "model_module": "@jupyter-widgets/controls",
      "model_module_version": "1.5.0",
      "model_name": "CheckboxModel",
      "state": {
       "description": "Downsampling with Zeros",
       "disabled": false,
       "layout": "IPY_MODEL_8bfde2f187c84f8c936d80d6ab9dd110",
       "style": "IPY_MODEL_6f86b5e8c23b4820bba2a6a839d624b3",
       "value": false
      }
     },
     "50e455fde9824f468875e0b897625f4c": {
      "model_module": "@jupyter-widgets/controls",
      "model_module_version": "1.5.0",
      "model_name": "DescriptionStyleModel",
      "state": {
       "description_width": ""
      }
     },
     "510465f7cad54c2db0e18fd7acd3311a": {
      "model_module": "@jupyter-widgets/base",
      "model_module_version": "1.2.0",
      "model_name": "LayoutModel",
      "state": {}
     },
     "5254bdb17cad4908be4e921410737e7b": {
      "model_module": "@jupyter-widgets/controls",
      "model_module_version": "1.5.0",
      "model_name": "DescriptionStyleModel",
      "state": {
       "description_width": ""
      }
     },
     "5518002733dd4d23addee1dcd5b0a5be": {
      "model_module": "@jupyter-widgets/controls",
      "model_module_version": "1.5.0",
      "model_name": "DescriptionStyleModel",
      "state": {
       "description_width": ""
      }
     },
     "56ad1c5dc11f482f9602ecf86f593745": {
      "model_module": "@jupyter-widgets/base",
      "model_module_version": "1.2.0",
      "model_name": "LayoutModel",
      "state": {}
     },
     "56c77fc92d1f40619026d3fbdd034c3a": {
      "model_module": "@jupyter-widgets/controls",
      "model_module_version": "1.5.0",
      "model_name": "ToggleButtonModel",
      "state": {
       "description": "Stop",
       "disabled": true,
       "layout": "IPY_MODEL_e099daeead614c06ba66a3b6aa2a6519",
       "style": "IPY_MODEL_1e4739a8c3694e0184b1d7a856de0e23",
       "value": true
      }
     },
     "58865ee688c741d484e0a1e5fe729ed1": {
      "model_module": "@jupyter-widgets/controls",
      "model_module_version": "1.5.0",
      "model_name": "DescriptionStyleModel",
      "state": {
       "description_width": ""
      }
     },
     "5d021f3d3f104103af22aff0c388a31d": {
      "model_module": "@jupyter-widgets/controls",
      "model_module_version": "1.5.0",
      "model_name": "ToggleButtonModel",
      "state": {
       "description": "Stop",
       "disabled": true,
       "layout": "IPY_MODEL_c63e57f2060841f7aa9fb386480ae645",
       "style": "IPY_MODEL_ec805846f5734669b7fcc4fd0ea88cde"
      }
     },
     "5e6239c4e5a14abba70b63e1be1f8edc": {
      "model_module": "@jupyter-widgets/controls",
      "model_module_version": "1.5.0",
      "model_name": "ToggleButtonModel",
      "state": {
       "description": "Stop",
       "disabled": true,
       "layout": "IPY_MODEL_070df1bc17ac48328bf07a4c6bbf4386",
       "style": "IPY_MODEL_cae0d9b30a044bcdbb4646d2a824b06f",
       "value": true
      }
     },
     "601904b20a9e40c2bd92ae3569f3ff8b": {
      "model_module": "@jupyter-widgets/controls",
      "model_module_version": "1.5.0",
      "model_name": "DescriptionStyleModel",
      "state": {
       "description_width": ""
      }
     },
     "60bf9fcb59ec405fbb5f47ca2b2cd2ff": {
      "model_module": "@jupyter-widgets/controls",
      "model_module_version": "1.5.0",
      "model_name": "DescriptionStyleModel",
      "state": {
       "description_width": ""
      }
     },
     "617d2172171e4d4295d316b69ab86083": {
      "model_module": "@jupyter-widgets/base",
      "model_module_version": "1.2.0",
      "model_name": "LayoutModel",
      "state": {}
     },
     "61ec3ac37e444c2fa3488f5b29b80e8e": {
      "model_module": "@jupyter-widgets/base",
      "model_module_version": "1.2.0",
      "model_name": "LayoutModel",
      "state": {}
     },
     "654babd4900b4e1d91e2eb5889a5db49": {
      "model_module": "@jupyter-widgets/base",
      "model_module_version": "1.2.0",
      "model_name": "LayoutModel",
      "state": {}
     },
     "6a3bf4da31de478d94493fb7e7bf2612": {
      "model_module": "@jupyter-widgets/base",
      "model_module_version": "1.2.0",
      "model_name": "LayoutModel",
      "state": {}
     },
     "6f85734c28af439a8da835c83e71c0c6": {
      "model_module": "@jupyter-widgets/controls",
      "model_module_version": "1.5.0",
      "model_name": "ButtonModel",
      "state": {
       "description": "Stop",
       "layout": "IPY_MODEL_617d2172171e4d4295d316b69ab86083",
       "style": "IPY_MODEL_1d77796b884c4861a25db47632b8d489"
      }
     },
     "6f86b5e8c23b4820bba2a6a839d624b3": {
      "model_module": "@jupyter-widgets/controls",
      "model_module_version": "1.5.0",
      "model_name": "DescriptionStyleModel",
      "state": {
       "description_width": ""
      }
     },
     "6fdb7d274eab44d2aaf38dd4dcfa0511": {
      "model_module": "@jupyter-widgets/base",
      "model_module_version": "1.2.0",
      "model_name": "LayoutModel",
      "state": {}
     },
     "72a59b1fcaff4177ba91b8edb4fb23bd": {
      "model_module": "@jupyter-widgets/controls",
      "model_module_version": "1.5.0",
      "model_name": "CheckboxModel",
      "state": {
       "description": "Downsampling with Zeros",
       "disabled": false,
       "layout": "IPY_MODEL_1372b726ab434f9b89571f6da34c9e62",
       "style": "IPY_MODEL_2aa28291b0e94968b90bc072bad5692c",
       "value": false
      }
     },
     "739b843557fd4432826a28261e5b827e": {
      "model_module": "@jupyter-widgets/controls",
      "model_module_version": "1.5.0",
      "model_name": "CheckboxModel",
      "state": {
       "description": "Downsampling with Zeros",
       "disabled": false,
       "layout": "IPY_MODEL_98cc8cdb6e87466a8f357e995b2a13e9",
       "style": "IPY_MODEL_224bcb4dea094163994aaa3f0121c825",
       "value": false
      }
     },
     "73b4db0032014d44a57d71fb87786ee8": {
      "model_module": "@jupyter-widgets/controls",
      "model_module_version": "1.5.0",
      "model_name": "CheckboxModel",
      "state": {
       "description": "Downsampling with Zeros",
       "disabled": false,
       "layout": "IPY_MODEL_446d80c629a24e2fa2136e03dfc9d28b",
       "style": "IPY_MODEL_4db559233bc54c04b701ff71ebc1d55d",
       "value": false
      }
     },
     "779d357055284d7d839ee1ba611221e8": {
      "model_module": "@jupyter-widgets/base",
      "model_module_version": "1.2.0",
      "model_name": "LayoutModel",
      "state": {}
     },
     "7836a2e5f5404d26ac461945a2ea0619": {
      "model_module": "@jupyter-widgets/controls",
      "model_module_version": "1.5.0",
      "model_name": "CheckboxModel",
      "state": {
       "description": "Downsampling with Zeros",
       "disabled": false,
       "layout": "IPY_MODEL_e8f0676ca8644d3ea28ffb8dd3c7964a",
       "style": "IPY_MODEL_dbd4fc6f05344d3893968667ea288e00",
       "value": true
      }
     },
     "78c567360a394eb19dabc832927f8693": {
      "model_module": "@jupyter-widgets/base",
      "model_module_version": "1.2.0",
      "model_name": "LayoutModel",
      "state": {}
     },
     "7bec54694ea94b16aa7ddae3004a6907": {
      "model_module": "@jupyter-widgets/controls",
      "model_module_version": "1.5.0",
      "model_name": "HBoxModel",
      "state": {
       "children": [
        "IPY_MODEL_238506e028044b5b881ef74c8ad59846"
       ],
       "layout": "IPY_MODEL_234045dd6a114ecda45e0086e0d54e99"
      }
     },
     "7f64dea70b79470aa30508c8f0c20150": {
      "model_module": "@jupyter-widgets/controls",
      "model_module_version": "1.5.0",
      "model_name": "ToggleButtonModel",
      "state": {
       "description": "Stop",
       "layout": "IPY_MODEL_779d357055284d7d839ee1ba611221e8",
       "style": "IPY_MODEL_81f45b5f76104f8a980503f3e39332bb",
       "value": true
      }
     },
     "81f45b5f76104f8a980503f3e39332bb": {
      "model_module": "@jupyter-widgets/controls",
      "model_module_version": "1.5.0",
      "model_name": "DescriptionStyleModel",
      "state": {
       "description_width": ""
      }
     },
     "827b4767fde3485eb5c2b84a93302b94": {
      "model_module": "@jupyter-widgets/base",
      "model_module_version": "1.2.0",
      "model_name": "LayoutModel",
      "state": {}
     },
     "89d29651e3da4f80ade582061a753d91": {
      "model_module": "@jupyter-widgets/controls",
      "model_module_version": "1.5.0",
      "model_name": "ToggleButtonModel",
      "state": {
       "description": "Stop",
       "layout": "IPY_MODEL_2c0c1ccee30d431c9040ada58fd71129",
       "style": "IPY_MODEL_50e455fde9824f468875e0b897625f4c",
       "value": true
      }
     },
     "8a74d386afe84ce4addc6ed37dbc8b43": {
      "model_module": "@jupyter-widgets/base",
      "model_module_version": "1.2.0",
      "model_name": "LayoutModel",
      "state": {}
     },
     "8aeb4d884e904dfe8c13404fefd0ef6f": {
      "model_module": "@jupyter-widgets/controls",
      "model_module_version": "1.5.0",
      "model_name": "BoundedIntTextModel",
      "state": {
       "description": "Bit-Depth:",
       "layout": "IPY_MODEL_a512d148087f4555b6bceeca8d4ea7a2",
       "max": 16,
       "min": 2,
       "style": "IPY_MODEL_5254bdb17cad4908be4e921410737e7b",
       "value": 8
      }
     },
     "8bfde2f187c84f8c936d80d6ab9dd110": {
      "model_module": "@jupyter-widgets/base",
      "model_module_version": "1.2.0",
      "model_name": "LayoutModel",
      "state": {}
     },
     "8f46384b6f4a405e8d409f9169c78e7e": {
      "model_module": "@jupyter-widgets/controls",
      "model_module_version": "1.5.0",
      "model_name": "CheckboxModel",
      "state": {
       "description": "Filter ON / OFF",
       "disabled": false,
       "layout": "IPY_MODEL_0889d4344f00492d990089599a0cbb1e",
       "style": "IPY_MODEL_0d37c449c02940ea80583d16fffe742e",
       "value": false
      }
     },
     "8f63fda556ae49eea3ef4be03fdd736a": {
      "model_module": "@jupyter-widgets/controls",
      "model_module_version": "1.5.0",
      "model_name": "ToggleButtonModel",
      "state": {
       "description": "Stop",
       "layout": "IPY_MODEL_ae6ab56d84d049e8b3a4a6453ee62cb7",
       "style": "IPY_MODEL_34f16d143e48488090e222e4ed23e9b8"
      }
     },
     "94b8806eb4eb41c29262f6f79153bdaa": {
      "model_module": "@jupyter-widgets/base",
      "model_module_version": "1.2.0",
      "model_name": "LayoutModel",
      "state": {}
     },
     "98cc8cdb6e87466a8f357e995b2a13e9": {
      "model_module": "@jupyter-widgets/base",
      "model_module_version": "1.2.0",
      "model_name": "LayoutModel",
      "state": {}
     },
     "995a134e1ab64d7894796fb26f40bc17": {
      "model_module": "@jupyter-widgets/controls",
      "model_module_version": "1.5.0",
      "model_name": "ToggleButtonModel",
      "state": {
       "description": "Stop",
       "disabled": true,
       "layout": "IPY_MODEL_1ea7b64595fd40cfa2673963652b111d",
       "style": "IPY_MODEL_c0ec329452b8419e8fca9585c23830f5",
       "value": true
      }
     },
     "9e41a52328224716afc6e66f01c14e6e": {
      "model_module": "@jupyter-widgets/controls",
      "model_module_version": "1.5.0",
      "model_name": "DescriptionStyleModel",
      "state": {
       "description_width": ""
      }
     },
     "9eefd0731f5c4392a5acde7f1e933fd5": {
      "model_module": "@jupyter-widgets/base",
      "model_module_version": "1.2.0",
      "model_name": "LayoutModel",
      "state": {}
     },
     "a105b9301e4e467b8f27efd88b0dd027": {
      "model_module": "@jupyter-widgets/controls",
      "model_module_version": "1.5.0",
      "model_name": "CheckboxModel",
      "state": {
       "description": "$\\mu$-Law",
       "disabled": false,
       "layout": "IPY_MODEL_02c9485b88554eb9992be45d9860b92e",
       "style": "IPY_MODEL_37389e5b17cf48e3a0021f24e6b830b3",
       "value": false
      }
     },
     "a1f23f60b3804a438ade7232ff60fcbb": {
      "model_module": "@jupyter-widgets/base",
      "model_module_version": "1.2.0",
      "model_name": "LayoutModel",
      "state": {}
     },
     "a512d148087f4555b6bceeca8d4ea7a2": {
      "model_module": "@jupyter-widgets/base",
      "model_module_version": "1.2.0",
      "model_name": "LayoutModel",
      "state": {}
     },
     "a9bb349daa464892b27872b4417ecfe7": {
      "model_module": "@jupyter-widgets/controls",
      "model_module_version": "1.5.0",
      "model_name": "ToggleButtonModel",
      "state": {
       "description": "Stop",
       "disabled": true,
       "layout": "IPY_MODEL_8a74d386afe84ce4addc6ed37dbc8b43",
       "style": "IPY_MODEL_5518002733dd4d23addee1dcd5b0a5be",
       "value": true
      }
     },
     "aa489c5c6242430bb9ef76d4460d61b5": {
      "model_module": "@jupyter-widgets/base",
      "model_module_version": "1.2.0",
      "model_name": "LayoutModel",
      "state": {}
     },
     "aba73fc98ae34b8e965b730c3c422205": {
      "model_module": "@jupyter-widgets/base",
      "model_module_version": "1.2.0",
      "model_name": "LayoutModel",
      "state": {}
     },
     "ad19b104bd2c4274827935f0bc642e1c": {
      "model_module": "@jupyter-widgets/controls",
      "model_module_version": "1.5.0",
      "model_name": "DropdownModel",
      "state": {
       "_options_labels": [
        "Mid-Tread",
        "Mid-Rise"
       ],
       "description": "Quantization Type:",
       "index": 0,
       "layout": "IPY_MODEL_476db36e2ef8495598b90265cb380580",
       "style": "IPY_MODEL_c7f454f84a4c4ffabeca0e6b66fd00c4"
      }
     },
     "ae6ab56d84d049e8b3a4a6453ee62cb7": {
      "model_module": "@jupyter-widgets/base",
      "model_module_version": "1.2.0",
      "model_name": "LayoutModel",
      "state": {}
     },
     "b7257f546d6542c08e06a519a7cfcff9": {
      "model_module": "@jupyter-widgets/base",
      "model_module_version": "1.2.0",
      "model_name": "LayoutModel",
      "state": {}
     },
     "bdb731b1250b48f6b81ae85d8318b6dc": {
      "model_module": "@jupyter-widgets/controls",
      "model_module_version": "1.5.0",
      "model_name": "ButtonStyleModel",
      "state": {}
     },
     "bf97deef015c4827a8967a671813f149": {
      "model_module": "@jupyter-widgets/controls",
      "model_module_version": "1.5.0",
      "model_name": "ToggleButtonModel",
      "state": {
       "description": "Stop",
       "layout": "IPY_MODEL_aa489c5c6242430bb9ef76d4460d61b5",
       "style": "IPY_MODEL_1a8f9d0d68954f4fa2ce1361633bde98"
      }
     },
     "c0ec329452b8419e8fca9585c23830f5": {
      "model_module": "@jupyter-widgets/controls",
      "model_module_version": "1.5.0",
      "model_name": "DescriptionStyleModel",
      "state": {
       "description_width": ""
      }
     },
     "c1920bdff8b14c4fa8e114b3921d9ade": {
      "model_module": "@jupyter-widgets/controls",
      "model_module_version": "1.5.0",
      "model_name": "HBoxModel",
      "state": {
       "children": [
        "IPY_MODEL_4181a03ad26243f18c1afcbac62c4b93"
       ],
       "layout": "IPY_MODEL_a1f23f60b3804a438ade7232ff60fcbb"
      }
     },
     "c1b15833557f464eac95808260cf7566": {
      "model_module": "@jupyter-widgets/base",
      "model_module_version": "1.2.0",
      "model_name": "LayoutModel",
      "state": {}
     },
     "c47984031d354d7bb041c39975e4cb8c": {
      "model_module": "@jupyter-widgets/controls",
      "model_module_version": "1.5.0",
      "model_name": "ToggleButtonModel",
      "state": {
       "description": "Stop",
       "layout": "IPY_MODEL_3c934745843a4bdb9ecd61d569af4ee9",
       "style": "IPY_MODEL_015addf4649b4d41b3ee5a4e08b1feef",
       "value": true
      }
     },
     "c4d45858b9284681914cf8fde9407c40": {
      "model_module": "@jupyter-widgets/controls",
      "model_module_version": "1.5.0",
      "model_name": "DescriptionStyleModel",
      "state": {
       "description_width": ""
      }
     },
     "c63e57f2060841f7aa9fb386480ae645": {
      "model_module": "@jupyter-widgets/base",
      "model_module_version": "1.2.0",
      "model_name": "LayoutModel",
      "state": {}
     },
     "c7d3112a971e4497b7fd873765aed42d": {
      "model_module": "@jupyter-widgets/base",
      "model_module_version": "1.2.0",
      "model_name": "LayoutModel",
      "state": {}
     },
     "c7f454f84a4c4ffabeca0e6b66fd00c4": {
      "model_module": "@jupyter-widgets/controls",
      "model_module_version": "1.5.0",
      "model_name": "DescriptionStyleModel",
      "state": {
       "description_width": ""
      }
     },
     "c7fbe564a4d347cf95431aaac7d3e642": {
      "model_module": "@jupyter-widgets/controls",
      "model_module_version": "1.5.0",
      "model_name": "CheckboxModel",
      "state": {
       "description": "Filter ON / OFF",
       "disabled": false,
       "layout": "IPY_MODEL_fcb62edcc335410bb627670dc539b165",
       "style": "IPY_MODEL_0301e5ad87f74818b0033801839a6489",
       "value": false
      }
     },
     "cae0d9b30a044bcdbb4646d2a824b06f": {
      "model_module": "@jupyter-widgets/controls",
      "model_module_version": "1.5.0",
      "model_name": "DescriptionStyleModel",
      "state": {
       "description_width": ""
      }
     },
     "cbfa24b75cc64fddbd7a4eab87c56c46": {
      "model_module": "@jupyter-widgets/controls",
      "model_module_version": "1.5.0",
      "model_name": "HBoxModel",
      "state": {
       "children": [
        "IPY_MODEL_fe565191de1540f5b0197219c460af56",
        "IPY_MODEL_8f63fda556ae49eea3ef4be03fdd736a",
        "IPY_MODEL_a105b9301e4e467b8f27efd88b0dd027"
       ],
       "layout": "IPY_MODEL_1b001b2ac3e847549ef031ffa10555a7"
      }
     },
     "cbfc931a5e68487a91bda9c791d27a54": {
      "model_module": "@jupyter-widgets/base",
      "model_module_version": "1.2.0",
      "model_name": "LayoutModel",
      "state": {}
     },
     "cff4dfddc8ee4f25a80a855bdc65994f": {
      "model_module": "@jupyter-widgets/base",
      "model_module_version": "1.2.0",
      "model_name": "LayoutModel",
      "state": {}
     },
     "d2a3e1a11bc648cbac44ac8d661fcaae": {
      "model_module": "@jupyter-widgets/controls",
      "model_module_version": "1.5.0",
      "model_name": "ToggleButtonModel",
      "state": {
       "description": "Stop",
       "disabled": true,
       "layout": "IPY_MODEL_c7d3112a971e4497b7fd873765aed42d",
       "style": "IPY_MODEL_2f2f8d6d9d194d8d81aa9445ae96bc2a",
       "value": true
      }
     },
     "d3450ad02abc46db9032268bf51cf3a2": {
      "model_module": "@jupyter-widgets/controls",
      "model_module_version": "1.5.0",
      "model_name": "DescriptionStyleModel",
      "state": {
       "description_width": ""
      }
     },
     "d4c25c99462a4868b15757073e777364": {
      "model_module": "@jupyter-widgets/base",
      "model_module_version": "1.2.0",
      "model_name": "LayoutModel",
      "state": {}
     },
     "d559cd1da181460381dcc77443386833": {
      "model_module": "@jupyter-widgets/controls",
      "model_module_version": "1.5.0",
      "model_name": "ButtonStyleModel",
      "state": {}
     },
     "d768baa1b42743999d0fb702cc36436b": {
      "model_module": "@jupyter-widgets/controls",
      "model_module_version": "1.5.0",
      "model_name": "ToggleButtonModel",
      "state": {
       "description": "Stop",
       "layout": "IPY_MODEL_510465f7cad54c2db0e18fd7acd3311a",
       "style": "IPY_MODEL_c4d45858b9284681914cf8fde9407c40"
      }
     },
     "da223fb00a7e46f6a12a63b53e4f3d9c": {
      "model_module": "@jupyter-widgets/controls",
      "model_module_version": "1.5.0",
      "model_name": "ButtonStyleModel",
      "state": {}
     },
     "dae75bebe0544ee88cd1071b3f87ff71": {
      "model_module": "@jupyter-widgets/controls",
      "model_module_version": "1.5.0",
      "model_name": "DescriptionStyleModel",
      "state": {
       "description_width": ""
      }
     },
     "dbd4fc6f05344d3893968667ea288e00": {
      "model_module": "@jupyter-widgets/controls",
      "model_module_version": "1.5.0",
      "model_name": "DescriptionStyleModel",
      "state": {
       "description_width": ""
      }
     },
     "dc77a42f93fd481294243d614e2c45ef": {
      "model_module": "@jupyter-widgets/controls",
      "model_module_version": "1.5.0",
      "model_name": "ToggleButtonModel",
      "state": {
       "description": "Stop",
       "layout": "IPY_MODEL_6fdb7d274eab44d2aaf38dd4dcfa0511",
       "style": "IPY_MODEL_0b9a6a693871477ebf610c47a13ce72a",
       "value": true
      }
     },
     "de50b7858d7b4a61a73d48e05979efd0": {
      "model_module": "@jupyter-widgets/controls",
      "model_module_version": "1.5.0",
      "model_name": "ToggleButtonModel",
      "state": {
       "description": "Stop",
       "disabled": true,
       "layout": "IPY_MODEL_c1b15833557f464eac95808260cf7566",
       "style": "IPY_MODEL_f72874debb174930bd5932bbb19febf4",
       "value": true
      }
     },
     "e099daeead614c06ba66a3b6aa2a6519": {
      "model_module": "@jupyter-widgets/base",
      "model_module_version": "1.2.0",
      "model_name": "LayoutModel",
      "state": {}
     },
     "e139e8ce24694bdda7967b2165ee342c": {
      "model_module": "@jupyter-widgets/controls",
      "model_module_version": "1.5.0",
      "model_name": "ToggleButtonModel",
      "state": {
       "description": "Stop",
       "layout": "IPY_MODEL_94b8806eb4eb41c29262f6f79153bdaa",
       "style": "IPY_MODEL_dae75bebe0544ee88cd1071b3f87ff71",
       "value": true
      }
     },
     "e21b1e3534264dee880c06651548e1a9": {
      "model_module": "@jupyter-widgets/controls",
      "model_module_version": "1.5.0",
      "model_name": "CheckboxModel",
      "state": {
       "description": "Filter ON / OFF",
       "disabled": false,
       "layout": "IPY_MODEL_407419954887424b844182aaf85efb78",
       "style": "IPY_MODEL_601904b20a9e40c2bd92ae3569f3ff8b",
       "value": false
      }
     },
     "e51f5a36e4394ed689235a9794c618c1": {
      "model_module": "@jupyter-widgets/controls",
      "model_module_version": "1.5.0",
      "model_name": "CheckboxModel",
      "state": {
       "description": "Downsampling with Zeros",
       "disabled": false,
       "layout": "IPY_MODEL_b7257f546d6542c08e06a519a7cfcff9",
       "style": "IPY_MODEL_0124c108c90b41408309aa3aac820c5d",
       "value": true
      }
     },
     "e5505837f6154a0cae1a17c207323d4e": {
      "model_module": "@jupyter-widgets/controls",
      "model_module_version": "1.5.0",
      "model_name": "ToggleButtonModel",
      "state": {
       "description": "Stop",
       "disabled": true,
       "layout": "IPY_MODEL_36cef02e3ac343f597afecf7a0da19c4",
       "style": "IPY_MODEL_60bf9fcb59ec405fbb5f47ca2b2cd2ff",
       "value": true
      }
     },
     "e5d441cf0b974fe5926d4f430e662b4a": {
      "model_module": "@jupyter-widgets/controls",
      "model_module_version": "1.5.0",
      "model_name": "CheckboxModel",
      "state": {
       "description": "Downsampling with Zeros",
       "disabled": false,
       "layout": "IPY_MODEL_11649f3e118b4488af7188e4a8e73291",
       "style": "IPY_MODEL_367c6ac4f00e4104ba6837f8104dfb9f",
       "value": false
      }
     },
     "e7ffbebd8eea4250a1ff0c0a7ae94732": {
      "model_module": "@jupyter-widgets/base",
      "model_module_version": "1.2.0",
      "model_name": "LayoutModel",
      "state": {}
     },
     "e8f0676ca8644d3ea28ffb8dd3c7964a": {
      "model_module": "@jupyter-widgets/base",
      "model_module_version": "1.2.0",
      "model_name": "LayoutModel",
      "state": {}
     },
     "e9d3c86d3a7c49b799bdcc77191aa62a": {
      "model_module": "@jupyter-widgets/controls",
      "model_module_version": "1.5.0",
      "model_name": "ButtonModel",
      "state": {
       "description": "Stop",
       "layout": "IPY_MODEL_14f182217bd54f0eab515df20a2b5138",
       "style": "IPY_MODEL_da223fb00a7e46f6a12a63b53e4f3d9c"
      }
     },
     "ec805846f5734669b7fcc4fd0ea88cde": {
      "model_module": "@jupyter-widgets/controls",
      "model_module_version": "1.5.0",
      "model_name": "DescriptionStyleModel",
      "state": {
       "description_width": ""
      }
     },
     "ec8397c2b6e5444587135da33d9144fd": {
      "model_module": "@jupyter-widgets/base",
      "model_module_version": "1.2.0",
      "model_name": "LayoutModel",
      "state": {}
     },
     "f2232b0768124cf1804c9bc977ca3bc6": {
      "model_module": "@jupyter-widgets/controls",
      "model_module_version": "1.5.0",
      "model_name": "ButtonModel",
      "state": {
       "description": "Stop",
       "layout": "IPY_MODEL_aba73fc98ae34b8e965b730c3c422205",
       "style": "IPY_MODEL_bdb731b1250b48f6b81ae85d8318b6dc"
      }
     },
     "f2a8b23362844b65b7cc51c15b54f5cc": {
      "model_module": "@jupyter-widgets/controls",
      "model_module_version": "1.5.0",
      "model_name": "ToggleButtonModel",
      "state": {
       "description": "Stop",
       "layout": "IPY_MODEL_e7ffbebd8eea4250a1ff0c0a7ae94732",
       "style": "IPY_MODEL_d3450ad02abc46db9032268bf51cf3a2",
       "value": true
      }
     },
     "f469e7d7b4a541af8a5340dd1d099999": {
      "model_module": "@jupyter-widgets/base",
      "model_module_version": "1.2.0",
      "model_name": "LayoutModel",
      "state": {}
     },
     "f6566c5300744aa18d1396449e916c5b": {
      "model_module": "@jupyter-widgets/controls",
      "model_module_version": "1.5.0",
      "model_name": "HBoxModel",
      "state": {
       "children": [
        "IPY_MODEL_8aeb4d884e904dfe8c13404fefd0ef6f"
       ],
       "layout": "IPY_MODEL_cff4dfddc8ee4f25a80a855bdc65994f"
      }
     },
     "f65b6c16536047758adf05ecea12612b": {
      "model_module": "@jupyter-widgets/controls",
      "model_module_version": "1.5.0",
      "model_name": "DescriptionStyleModel",
      "state": {
       "description_width": ""
      }
     },
     "f72874debb174930bd5932bbb19febf4": {
      "model_module": "@jupyter-widgets/controls",
      "model_module_version": "1.5.0",
      "model_name": "DescriptionStyleModel",
      "state": {
       "description_width": ""
      }
     },
     "f7e7bb40afba4448b0c4506aed91c05a": {
      "model_module": "@jupyter-widgets/controls",
      "model_module_version": "1.5.0",
      "model_name": "HBoxModel",
      "state": {
       "children": [
        "IPY_MODEL_010411b23dde4ac9b0a3030e14cf116a",
        "IPY_MODEL_d768baa1b42743999d0fb702cc36436b",
        "IPY_MODEL_462478cddfff483e922a3aa095a2e610"
       ],
       "layout": "IPY_MODEL_0fbffec0398544c78cc392a8f3387f8e"
      }
     },
     "f832049896fd43d3a027ac200b0d333a": {
      "model_module": "@jupyter-widgets/controls",
      "model_module_version": "1.5.0",
      "model_name": "DescriptionStyleModel",
      "state": {
       "description_width": ""
      }
     },
     "faa54a294c694e0cabe60970ddf2b77a": {
      "model_module": "@jupyter-widgets/controls",
      "model_module_version": "1.5.0",
      "model_name": "CheckboxModel",
      "state": {
       "description": "Filter ON / OFF",
       "disabled": false,
       "layout": "IPY_MODEL_61ec3ac37e444c2fa3488f5b29b80e8e",
       "style": "IPY_MODEL_f65b6c16536047758adf05ecea12612b",
       "value": false
      }
     },
     "fcb62edcc335410bb627670dc539b165": {
      "model_module": "@jupyter-widgets/base",
      "model_module_version": "1.2.0",
      "model_name": "LayoutModel",
      "state": {}
     },
     "fe565191de1540f5b0197219c460af56": {
      "model_module": "@jupyter-widgets/controls",
      "model_module_version": "1.5.0",
      "model_name": "ButtonModel",
      "state": {
       "description": "Start",
       "layout": "IPY_MODEL_654babd4900b4e1d91e2eb5889a5db49",
       "style": "IPY_MODEL_d559cd1da181460381dcc77443386833"
      }
     }
    },
    "version_major": 2,
    "version_minor": 0
   }
  }
 },
 "nbformat": 4,
 "nbformat_minor": 2
}
